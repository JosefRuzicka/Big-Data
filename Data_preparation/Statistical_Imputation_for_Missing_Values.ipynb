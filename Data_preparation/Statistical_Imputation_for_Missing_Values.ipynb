{
  "nbformat": 4,
  "nbformat_minor": 0,
  "metadata": {
    "colab": {
      "provenance": []
    },
    "kernelspec": {
      "name": "python3",
      "display_name": "Python 3"
    },
    "language_info": {
      "name": "python"
    }
  },
  "cells": [
    {
      "cell_type": "markdown",
      "source": [
        "Taken from https://machinelearningmastery.com/statistical-imputation-for-missing-values-in-machine-learning/ for my Big Data class.\n",
        "\n",
        "# Statistical Imputation for Missing Values in Machine Learning\n",
        "\n",
        "Datasets may have missing values, and this can cause problems for many machine learning algorithms.\n",
        "\n",
        "As such, it is good practice to identify and replace missing values for each column in your input data prior to modeling your prediction task. This is called missing data imputation, or imputing for short.\n",
        "\n",
        "A popular approach for data imputation is to calculate a statistical value for each column (such as a mean) and replace all missing values for that column with the statistic. It is a popular approach because the statistic is easy to calculate using the training dataset and because it often results in good performance.\n",
        "\n",
        "In this tutorial, you will discover how to use statistical imputation strategies for missing data in machine learning.\n",
        "\n",
        "After completing this tutorial, you will know:\n",
        "\n",
        "* Missing values must be marked with NaN values and can be replaced with statistical measures to calculate the column of values.\n",
        "* How to load a CSV value with missing values and mark the missing values with NaN values and report the number and percentage of missing values for each column.\n",
        "* How to impute missing values with statistics as a data preparation method when evaluating models and when fitting a final model to make predictions on new data.\n",
        "\n",
        "**Kick-start your project** with my new book Data Preparation for Machine Learning, including step-by-step tutorials and the Python source code files for all examples.\n",
        "\n",
        "Let’s get started.\n",
        "\n",
        "Updated Jun/2020: Changed the column used for prediction in examples.\n",
        "\n",
        "## Tutorial Overview\n",
        "This tutorial is divided into three parts; they are:\n",
        "\n",
        "1. Statistical Imputation\n",
        "2. Horse Colic Dataset\n",
        "3. Statistical Imputation With SimpleImputer\n",
        "  1. SimpleImputer Data Transform\n",
        "  2. SimpleImputer and Model Evaluation\n",
        "  3. Comparing Different Imputed Statistics\n",
        "  4. SimpleImputer Transform When Making a Prediction\n",
        "\n",
        "## Statistical Imputation\n",
        "A dataset may have missing values.\n",
        "\n",
        "These are rows of data where one or more values or columns in that row are not present. The values may be missing completely or they may be marked with a special character or value, such as a question mark “?”.\n",
        "\n",
        "> These values can be expressed in many ways. I’ve seen them show up as nothing at all […], an empty string […], the explicit string NULL or undefined or N/A or NaN, and the number 0, among others. No matter how they appear in your dataset, knowing what to expect and checking to make sure the data matches that expectation will reduce problems as you start to use the data.\n",
        "\n",
        "— Page 10, Bad Data Handbook, 2012.\n",
        "\n",
        "Values could be missing for many reasons, often specific to the problem domain, and might include reasons such as corrupt measurements or data unavailability.\n",
        "\n",
        "> They may occur for a number of reasons, such as malfunctioning measurement equipment, changes in experimental design during data collection, and collation of several similar but not identical datasets.\n",
        "\n",
        "— Page 63, Data Mining: Practical Machine Learning Tools and Techniques, 2016.\n",
        "\n",
        "Most machine learning algorithms require numeric input values, and a value to be present for each row and column in a dataset. As such, missing values can cause problems for machine learning algorithms.\n",
        "\n",
        "As such, it is common to identify missing values in a dataset and replace them with a numeric value. This is called data imputing, or missing data imputation.\n",
        "\n",
        "A simple and popular approach to data imputation involves using statistical methods to estimate a value for a column from those values that are present, then replace all missing values in the column with the calculated statistic.\n",
        "\n",
        "It is simple because statistics are fast to calculate and it is popular because it often proves very effective.\n",
        "\n",
        "Common statistics calculated include:\n",
        "\n",
        "* The column mean value.\n",
        "* The column median value.\n",
        "* The column mode value.\n",
        "* A constant value.\n",
        "\n",
        "Now that we are familiar with statistical methods for missing value imputation, let’s take a look at a dataset with missing values.\n",
        "\n",
        "## Horse Colic Dataset\n",
        "The horse colic dataset describes medical characteristics of horses with colic and whether they lived or died.\n",
        "\n",
        "There are 300 rows and 26 input variables with one output variable. It is a binary classification prediction task that involves predicting 1 if the horse lived and 2 if the horse died.\n",
        "\n",
        "There are many fields we could select to predict in this dataset. In this case, we will predict whether the problem was surgical or not (column index 23), making it a binary classification problem.\n",
        "\n",
        "The dataset has numerous missing values for many of the columns where each missing value is marked with a question mark character (“?”).\n",
        "\n",
        "Below provides an example of rows from the dataset with marked missing values."
      ],
      "metadata": {
        "id": "ctskW-j5i7h4"
      }
    },
    {
      "cell_type": "code",
      "source": [
        "2,1,530101,38.50,66,28,3,3,?,2,5,4,4,?,?,?,3,5,45.00,8.40,?,?,2,2,11300,00000,00000,2\n",
        "1,1,534817,39.2,88,20,?,?,4,1,3,4,2,?,?,?,4,2,50,85,2,2,3,2,02208,00000,00000,2\n",
        "2,1,530334,38.30,40,24,1,1,3,1,3,3,1,?,?,?,1,1,33.00,6.70,?,?,1,2,00000,00000,00000,1\n",
        "1,9,5290409,39.10,164,84,4,1,6,2,2,4,4,1,2,5.00,3,?,48.00,7.20,3,5.30,2,1,02208,00000,00000,1\n",
        "..."
      ],
      "metadata": {
        "id": "jxF75F3uj4eZ"
      },
      "execution_count": null,
      "outputs": []
    },
    {
      "cell_type": "markdown",
      "source": [
        "You can learn more about the dataset here:\n",
        "\n",
        "* Horse Colic Dataset\n",
        "* Horse Colic Dataset Description\n",
        "\n",
        "No need to download the dataset as we will download it automatically in the worked examples.\n",
        "\n",
        "Marking missing values with a NaN (not a number) value in a loaded dataset using Python is a best practice.\n",
        "\n",
        "We can load the dataset using the read_csv() Pandas function and specify the “na_values” to load values of ‘?‘ as missing, marked with a NaN value.\n",
        "\n"
      ],
      "metadata": {
        "id": "l9D8UqAlj5IY"
      }
    },
    {
      "cell_type": "code",
      "source": [
        "...\n",
        "# load dataset\n",
        "url = 'https://raw.githubusercontent.com/jbrownlee/Datasets/master/horse-colic.csv'\n",
        "dataframe = read_csv(url, header=None, na_values='?')"
      ],
      "metadata": {
        "id": "6c8OrTHuj951"
      },
      "execution_count": null,
      "outputs": []
    },
    {
      "cell_type": "markdown",
      "source": [
        "Once loaded, we can review the loaded data to confirm that “?” values are marked as NaN."
      ],
      "metadata": {
        "id": "M1IEZFY-kAid"
      }
    },
    {
      "cell_type": "code",
      "source": [
        "...\n",
        "# summarize the first few rows\n",
        "print(dataframe.head())"
      ],
      "metadata": {
        "id": "hLwiFiH5kBKE"
      },
      "execution_count": null,
      "outputs": []
    },
    {
      "cell_type": "markdown",
      "source": [
        "We can then enumerate each column and report the number of rows with missing values for the column."
      ],
      "metadata": {
        "id": "5lmIr_TBkCxS"
      }
    },
    {
      "cell_type": "code",
      "source": [
        "...\n",
        "# summarize the number of rows with missing values for each column\n",
        "for i in range(dataframe.shape[1]):\n",
        "\t# count number of rows with missing values\n",
        "\tn_miss = dataframe[[i]].isnull().sum()\n",
        "\tperc = n_miss / dataframe.shape[0] * 100\n",
        "\tprint('> %d, Missing: %d (%.1f%%)' % (i, n_miss, perc))"
      ],
      "metadata": {
        "id": "uygjeDuwkFAQ"
      },
      "execution_count": null,
      "outputs": []
    },
    {
      "cell_type": "markdown",
      "source": [
        "Tying this together, the complete example of loading and summarizing the dataset is listed below."
      ],
      "metadata": {
        "id": "JoyZFHaVkG1F"
      }
    },
    {
      "cell_type": "code",
      "source": [
        "# summarize the horse colic dataset\n",
        "from pandas import read_csv\n",
        "# load dataset\n",
        "url = 'https://raw.githubusercontent.com/jbrownlee/Datasets/master/horse-colic.csv'\n",
        "dataframe = read_csv(url, header=None, na_values='?')\n",
        "# summarize the first few rows\n",
        "print(dataframe.head())\n",
        "# summarize the number of rows with missing values for each column\n",
        "for i in range(dataframe.shape[1]):\n",
        "\t# count number of rows with missing values\n",
        "\tn_miss = dataframe[[i]].isnull().sum()\n",
        "\tperc = n_miss / dataframe.shape[0] * 100\n",
        "\tprint('> %d, Missing: %d (%.1f%%)' % (i, n_miss, perc))"
      ],
      "metadata": {
        "colab": {
          "base_uri": "https://localhost:8080/"
        },
        "id": "SdLaEVTbkIJ6",
        "outputId": "a8aca50c-9278-4749-8f66-b2aa337e506e"
      },
      "execution_count": 1,
      "outputs": [
        {
          "output_type": "stream",
          "name": "stdout",
          "text": [
            "    0   1        2     3      4     5    6    7    8    9   ...    18    19  \\\n",
            "0  2.0   1   530101  38.5   66.0  28.0  3.0  3.0  NaN  2.0  ...  45.0   8.4   \n",
            "1  1.0   1   534817  39.2   88.0  20.0  NaN  NaN  4.0  1.0  ...  50.0  85.0   \n",
            "2  2.0   1   530334  38.3   40.0  24.0  1.0  1.0  3.0  1.0  ...  33.0   6.7   \n",
            "3  1.0   9  5290409  39.1  164.0  84.0  4.0  1.0  6.0  2.0  ...  48.0   7.2   \n",
            "4  2.0   1   530255  37.3  104.0  35.0  NaN  NaN  6.0  2.0  ...  74.0   7.4   \n",
            "\n",
            "    20   21   22  23     24  25  26  27  \n",
            "0  NaN  NaN  2.0   2  11300   0   0   2  \n",
            "1  2.0  2.0  3.0   2   2208   0   0   2  \n",
            "2  NaN  NaN  1.0   2      0   0   0   1  \n",
            "3  3.0  5.3  2.0   1   2208   0   0   1  \n",
            "4  NaN  NaN  2.0   2   4300   0   0   2  \n",
            "\n",
            "[5 rows x 28 columns]\n",
            "> 0, Missing: 1 (0.3%)\n",
            "> 1, Missing: 0 (0.0%)\n",
            "> 2, Missing: 0 (0.0%)\n",
            "> 3, Missing: 60 (20.0%)\n",
            "> 4, Missing: 24 (8.0%)\n",
            "> 5, Missing: 58 (19.3%)\n",
            "> 6, Missing: 56 (18.7%)\n",
            "> 7, Missing: 69 (23.0%)\n",
            "> 8, Missing: 47 (15.7%)\n",
            "> 9, Missing: 32 (10.7%)\n",
            "> 10, Missing: 55 (18.3%)\n",
            "> 11, Missing: 44 (14.7%)\n",
            "> 12, Missing: 56 (18.7%)\n",
            "> 13, Missing: 104 (34.7%)\n",
            "> 14, Missing: 106 (35.3%)\n",
            "> 15, Missing: 247 (82.3%)\n",
            "> 16, Missing: 102 (34.0%)\n",
            "> 17, Missing: 118 (39.3%)\n",
            "> 18, Missing: 29 (9.7%)\n",
            "> 19, Missing: 33 (11.0%)\n",
            "> 20, Missing: 165 (55.0%)\n",
            "> 21, Missing: 198 (66.0%)\n",
            "> 22, Missing: 1 (0.3%)\n",
            "> 23, Missing: 0 (0.0%)\n",
            "> 24, Missing: 0 (0.0%)\n",
            "> 25, Missing: 0 (0.0%)\n",
            "> 26, Missing: 0 (0.0%)\n",
            "> 27, Missing: 0 (0.0%)\n"
          ]
        }
      ]
    },
    {
      "cell_type": "markdown",
      "source": [
        "Running the example first loads the dataset and summarizes the first five rows.\n",
        "\n",
        "We can see that the missing values that were marked with a “?” character have been replaced with NaN values.\n",
        "\n",
        "Next, we can see the list of all columns in the dataset and the number and percentage of missing values.\n",
        "\n",
        "We can see that some columns (e.g. column indexes 1 and 2) have no missing values and other columns (e.g. column indexes 15 and 21) have many or even a majority of missing values.\n",
        "\n",
        "Now that we are familiar with the horse colic dataset that has missing values, let’s look at how we can use statistical imputation.\n",
        "\n",
        "## Statistical Imputation With SimpleImputer\n",
        "The scikit-learn machine learning library provides the SimpleImputer class that supports statistical imputation.\n",
        "\n",
        "In this section, we will explore how to effectively use the SimpleImputer class.\n",
        "\n",
        "### SimpleImputer Data Transform\n",
        "The SimpleImputer is a data transform that is first configured based on the type of statistic to calculate for each column, e.g. mean."
      ],
      "metadata": {
        "id": "sCN2C_hrkKSG"
      }
    },
    {
      "cell_type": "code",
      "source": [
        "...\n",
        "# define imputer\n",
        "imputer = SimpleImputer(strategy='mean')"
      ],
      "metadata": {
        "id": "SrL_mawAkja5"
      },
      "execution_count": null,
      "outputs": []
    },
    {
      "cell_type": "markdown",
      "source": [
        "Then the imputer is fit on a dataset to calculate the statistic for each column."
      ],
      "metadata": {
        "id": "rjXx0_dYkmT5"
      }
    },
    {
      "cell_type": "code",
      "source": [
        "...\n",
        "# fit on the dataset\n",
        "imputer.fit(X)"
      ],
      "metadata": {
        "id": "m67eAAhnkneU"
      },
      "execution_count": null,
      "outputs": []
    },
    {
      "cell_type": "markdown",
      "source": [
        "The fit imputer is then applied to a dataset to create a copy of the dataset with all missing values for each column replaced with a statistic value."
      ],
      "metadata": {
        "id": "dstWuPw4kuxb"
      }
    },
    {
      "cell_type": "code",
      "source": [
        "...\n",
        "# transform the dataset\n",
        "Xtrans = imputer.transform(X)"
      ],
      "metadata": {
        "id": "FEawQcc7kw2j"
      },
      "execution_count": null,
      "outputs": []
    },
    {
      "cell_type": "markdown",
      "source": [
        "We can demonstrate its usage on the horse colic dataset and confirm it works by summarizing the total number of missing values in the dataset before and after the transform.\n",
        "\n",
        "The complete example is listed below."
      ],
      "metadata": {
        "id": "egACKWs7k9sy"
      }
    },
    {
      "cell_type": "code",
      "source": [
        "# statistical imputation transform for the horse colic dataset\n",
        "from numpy import isnan\n",
        "from pandas import read_csv\n",
        "from sklearn.impute import SimpleImputer\n",
        "# load dataset\n",
        "url = 'https://raw.githubusercontent.com/jbrownlee/Datasets/master/horse-colic.csv'\n",
        "dataframe = read_csv(url, header=None, na_values='?')\n",
        "# split into input and output elements\n",
        "data = dataframe.values\n",
        "ix = [i for i in range(data.shape[1]) if i != 23]\n",
        "X, y = data[:, ix], data[:, 23]\n",
        "# print total missing\n",
        "print('Missing: %d' % sum(isnan(X).flatten()))\n",
        "# define imputer\n",
        "imputer = SimpleImputer(strategy='mean')\n",
        "# fit on the dataset\n",
        "imputer.fit(X)\n",
        "# transform the dataset\n",
        "Xtrans = imputer.transform(X)\n",
        "# print total missing\n",
        "print('Missing: %d' % sum(isnan(Xtrans).flatten()))"
      ],
      "metadata": {
        "colab": {
          "base_uri": "https://localhost:8080/"
        },
        "id": "wFU80Nfhk-8s",
        "outputId": "4e5005e0-309f-4ca5-b505-afa52b84beb0"
      },
      "execution_count": 2,
      "outputs": [
        {
          "output_type": "stream",
          "name": "stdout",
          "text": [
            "Missing: 1605\n",
            "Missing: 0\n"
          ]
        }
      ]
    },
    {
      "cell_type": "markdown",
      "source": [
        "Running the example first loads the dataset and reports the total number of missing values in the dataset as 1,605.\n",
        "\n",
        "The transform is configured, fit, and performed and the resulting new dataset has no missing values, confirming it was performed as we expected.\n",
        "\n",
        "Each missing value was replaced with the mean value of its column.\n",
        "\n",
        "## SimpleImputer and Model Evaluation\n",
        "It is a good practice to evaluate machine learning models on a dataset using k-fold cross-validation.\n",
        "\n",
        "To correctly apply statistical missing data imputation and avoid data leakage, it is required that the statistics calculated for each column are calculated on the training dataset only, then applied to the train and test sets for each fold in the dataset.\n",
        "\n",
        "> If we are using resampling to select tuning parameter values or to estimate performance, the imputation should be incorporated within the resampling.\n",
        "\n",
        "— Page 42, Applied Predictive Modeling, 2013.\n",
        "\n",
        "This can be achieved by creating a modeling pipeline where the first step is the statistical imputation, then the second step is the model. This can be achieved using the Pipeline class.\n",
        "\n",
        "For example, the Pipeline below uses a SimpleImputer with a ‘mean‘ strategy, followed by a random forest model."
      ],
      "metadata": {
        "id": "EZ7ss67BlDj5"
      }
    },
    {
      "cell_type": "code",
      "source": [
        "...\n",
        "# define modeling pipeline\n",
        "model = RandomForestClassifier()\n",
        "imputer = SimpleImputer(strategy='mean')\n",
        "pipeline = Pipeline(steps=[('i', imputer), ('m', model)])"
      ],
      "metadata": {
        "id": "w3b5kkLHljI7"
      },
      "execution_count": null,
      "outputs": []
    },
    {
      "cell_type": "markdown",
      "source": [
        "We can evaluate the mean-imputed dataset and random forest modeling pipeline for the horse colic dataset with repeated 10-fold cross-validation.\n",
        "\n",
        "The complete example is listed below."
      ],
      "metadata": {
        "id": "5UEQ9ZDjlkcL"
      }
    },
    {
      "cell_type": "code",
      "source": [
        "# evaluate mean imputation and random forest for the horse colic dataset\n",
        "from numpy import mean\n",
        "from numpy import std\n",
        "from pandas import read_csv\n",
        "from sklearn.ensemble import RandomForestClassifier\n",
        "from sklearn.impute import SimpleImputer\n",
        "from sklearn.model_selection import cross_val_score\n",
        "from sklearn.model_selection import RepeatedStratifiedKFold\n",
        "from sklearn.pipeline import Pipeline\n",
        "# load dataset\n",
        "url = 'https://raw.githubusercontent.com/jbrownlee/Datasets/master/horse-colic.csv'\n",
        "dataframe = read_csv(url, header=None, na_values='?')\n",
        "# split into input and output elements\n",
        "data = dataframe.values\n",
        "ix = [i for i in range(data.shape[1]) if i != 23]\n",
        "X, y = data[:, ix], data[:, 23]\n",
        "# define modeling pipeline\n",
        "model = RandomForestClassifier()\n",
        "imputer = SimpleImputer(strategy='mean')\n",
        "pipeline = Pipeline(steps=[('i', imputer), ('m', model)])\n",
        "# define model evaluation\n",
        "cv = RepeatedStratifiedKFold(n_splits=10, n_repeats=3, random_state=1)\n",
        "# evaluate model\n",
        "scores = cross_val_score(pipeline, X, y, scoring='accuracy', cv=cv, n_jobs=-1)\n",
        "print('Mean Accuracy: %.3f (%.3f)' % (mean(scores), std(scores)))"
      ],
      "metadata": {
        "colab": {
          "base_uri": "https://localhost:8080/"
        },
        "id": "cxHTaCPclm5a",
        "outputId": "7a57584f-16af-4749-910a-7eab2955914e"
      },
      "execution_count": 3,
      "outputs": [
        {
          "output_type": "stream",
          "name": "stdout",
          "text": [
            "Mean Accuracy: 0.859 (0.055)\n"
          ]
        }
      ]
    },
    {
      "cell_type": "markdown",
      "source": [
        "Running the example correctly applies data imputation to each fold of the cross-validation procedure.\n",
        "\n",
        "Note: Your results may vary given the stochastic nature of the algorithm or evaluation procedure, or differences in numerical precision. Consider running the example a few times and compare the average outcome.\n",
        "\n",
        "The pipeline is evaluated using three repeats of 10-fold cross-validation and reports the mean classification accuracy on the dataset as about 86.3 percent, which is a good score.\n",
        "\n",
        "## Comparing Different Imputed Statistics\n",
        "How do we know that using a ‘mean‘ statistical strategy is good or best for this dataset?\n",
        "\n",
        "The answer is that we don’t and that it was chosen arbitrarily.\n",
        "\n",
        "We can design an experiment to test each statistical strategy and discover what works best for this dataset, comparing the mean, median, mode (most frequent), and constant (0) strategies. The mean accuracy of each approach can then be compared.\n",
        "\n",
        "The complete example is listed below."
      ],
      "metadata": {
        "id": "2Lxg7uGylqlr"
      }
    },
    {
      "cell_type": "code",
      "source": [
        "# compare statistical imputation strategies for the horse colic dataset\n",
        "from numpy import mean\n",
        "from numpy import std\n",
        "from pandas import read_csv\n",
        "from sklearn.ensemble import RandomForestClassifier\n",
        "from sklearn.impute import SimpleImputer\n",
        "from sklearn.model_selection import cross_val_score\n",
        "from sklearn.model_selection import RepeatedStratifiedKFold\n",
        "from sklearn.pipeline import Pipeline\n",
        "from matplotlib import pyplot\n",
        "# load dataset\n",
        "url = 'https://raw.githubusercontent.com/jbrownlee/Datasets/master/horse-colic.csv'\n",
        "dataframe = read_csv(url, header=None, na_values='?')\n",
        "# split into input and output elements\n",
        "data = dataframe.values\n",
        "ix = [i for i in range(data.shape[1]) if i != 23]\n",
        "X, y = data[:, ix], data[:, 23]\n",
        "# evaluate each strategy on the dataset\n",
        "results = list()\n",
        "strategies = ['mean', 'median', 'most_frequent', 'constant']\n",
        "for s in strategies:\n",
        "\t# create the modeling pipeline\n",
        "\tpipeline = Pipeline(steps=[('i', SimpleImputer(strategy=s)), ('m', RandomForestClassifier())])\n",
        "\t# evaluate the model\n",
        "\tcv = RepeatedStratifiedKFold(n_splits=10, n_repeats=3, random_state=1)\n",
        "\tscores = cross_val_score(pipeline, X, y, scoring='accuracy', cv=cv, n_jobs=-1)\n",
        "\t# store results\n",
        "\tresults.append(scores)\n",
        "\tprint('>%s %.3f (%.3f)' % (s, mean(scores), std(scores)))\n",
        "# plot model performance for comparison\n",
        "pyplot.boxplot(results, labels=strategies, showmeans=True)\n",
        "pyplot.show()"
      ],
      "metadata": {
        "colab": {
          "base_uri": "https://localhost:8080/",
          "height": 499
        },
        "id": "85t6Nvahl-23",
        "outputId": "9bc8123d-77ae-40c9-af01-d6273810bf93"
      },
      "execution_count": 4,
      "outputs": [
        {
          "output_type": "stream",
          "name": "stdout",
          "text": [
            ">mean 0.858 (0.062)\n",
            ">median 0.863 (0.057)\n",
            ">most_frequent 0.869 (0.053)\n",
            ">constant 0.878 (0.050)\n"
          ]
        },
        {
          "output_type": "display_data",
          "data": {
            "text/plain": [
              "<Figure size 640x480 with 1 Axes>"
            ],
            "image/png": "[encoded data removed]"
          },
          "metadata": {}
        }
      ]
    },
    {
      "cell_type": "markdown",
      "source": [
        "Running the example evaluates each statistical imputation strategy on the horse colic dataset using repeated cross-validation.\n",
        "\n",
        "Note: Your results may vary given the stochastic nature of the algorithm or evaluation procedure, or differences in numerical precision. Consider running the example a few times and compare the average outcome.\n",
        "\n",
        "The mean accuracy of each strategy is reported along the way. The results suggest that using a constant value, e.g. 0, results in the best performance of about 88.1 percent, which is an outstanding result.\n",
        "\n",
        "At the end of the run, a box and whisker plot is created for each set of results, allowing the distribution of results to be compared.\n",
        "\n",
        "We can clearly see that the distribution of accuracy scores for the constant strategy is better than the other strategies.\n",
        "\n",
        "## SimpleImputer Transform When Making a Prediction\n",
        "We may wish to create a final modeling pipeline with the constant imputation strategy and random forest algorithm, then make a prediction for new data.\n",
        "\n",
        "This can be achieved by defining the pipeline and fitting it on all available data, then calling the predict() function passing new data in as an argument.\n",
        "\n",
        "Importantly, the row of new data must mark any missing values using the NaN value."
      ],
      "metadata": {
        "id": "i-o0qgvlmBZG"
      }
    },
    {
      "cell_type": "code",
      "source": [
        "...\n",
        "# define new data\n",
        "row = [2, 1, 530101, 38.50, 66, 28, 3, 3, nan, 2, 5, 4, 4, nan, nan, nan, 3, 5, 45.00, 8.40, nan, nan, 2, 11300, 00000, 00000, 2]"
      ],
      "metadata": {
        "id": "XqdYEz8OmLXd"
      },
      "execution_count": null,
      "outputs": []
    },
    {
      "cell_type": "markdown",
      "source": [
        "The complete example is listed below."
      ],
      "metadata": {
        "id": "4P3JXv6YmNWg"
      }
    },
    {
      "cell_type": "code",
      "source": [
        "# constant imputation strategy and prediction for the hose colic dataset\n",
        "from numpy import nan\n",
        "from pandas import read_csv\n",
        "from sklearn.ensemble import RandomForestClassifier\n",
        "from sklearn.impute import SimpleImputer\n",
        "from sklearn.pipeline import Pipeline\n",
        "# load dataset\n",
        "url = 'https://raw.githubusercontent.com/jbrownlee/Datasets/master/horse-colic.csv'\n",
        "dataframe = read_csv(url, header=None, na_values='?')\n",
        "# split into input and output elements\n",
        "data = dataframe.values\n",
        "ix = [i for i in range(data.shape[1]) if i != 23]\n",
        "X, y = data[:, ix], data[:, 23]\n",
        "# create the modeling pipeline\n",
        "pipeline = Pipeline(steps=[('i', SimpleImputer(strategy='constant')), ('m', RandomForestClassifier())])\n",
        "# fit the model\n",
        "pipeline.fit(X, y)\n",
        "# define new data\n",
        "row = [2, 1, 530101, 38.50, 66, 28, 3, 3, nan, 2, 5, 4, 4, nan, nan, nan, 3, 5, 45.00, 8.40, nan, nan, 2, 11300, 00000, 00000, 2]\n",
        "# make a prediction\n",
        "yhat = pipeline.predict([row])\n",
        "# summarize prediction\n",
        "print('Predicted Class: %d' % yhat[0])"
      ],
      "metadata": {
        "colab": {
          "base_uri": "https://localhost:8080/"
        },
        "id": "3rJca4-pmOSv",
        "outputId": "e6f06d19-b95a-47a3-d0a8-476f90c53b64"
      },
      "execution_count": 5,
      "outputs": [
        {
          "output_type": "stream",
          "name": "stdout",
          "text": [
            "Predicted Class: 2\n"
          ]
        }
      ]
    },
    {
      "cell_type": "markdown",
      "source": [
        "Running the example fits the modeling pipeline on all available data.\n",
        "\n",
        "A new row of data is defined with missing values marked with NaNs and a classification prediction is made.\n",
        "\n",
        "## Further Reading\n",
        "This section provides more resources on the topic if you are looking to go deeper.\n",
        "\n",
        "## Related Tutorials\n",
        "* Results for Standard Classification and Regression Machine Learning Datasets\n",
        "* How to Handle Missing Data with Python\n",
        "\n",
        "## Books\n",
        "* Bad Data Handbook, 2012.\n",
        "* Data Mining: Practical Machine Learning Tools and Techniques, 2016.\n",
        "* Applied Predictive Modeling, 2013.\n",
        "\n",
        "## APIs\n",
        "* Imputation of missing values, scikit-learn Documentation.\n",
        "* sklearn.impute.SimpleImputer API.\n",
        "\n",
        "## Dataset\n",
        "* Horse Colic Dataset\n",
        "* Horse Colic Dataset Description\n",
        "\n",
        "# Summary\n",
        "In this tutorial, you discovered how to use statistical imputation strategies for missing data in machine learning.\n",
        "\n",
        "Specifically, you learned:\n",
        "\n",
        "* Missing values must be marked with NaN values and can be replaced with statistical measures to calculate the column of values.\n",
        "* How to load a CSV value with missing values and mark the missing values with NaN values and report the number and percentage of missing values for each column.\n",
        "* How to impute missing values with statistics as a data preparation method when evaluating models and when fitting a final model to make predictions on new data.\n",
        "\n",
        "#### Do you have any questions?\n",
        "Ask your questions in the comments below and I will do my best to answer.\n",
        "\n",
        "\n",
        "\n"
      ],
      "metadata": {
        "id": "z0mqqHOVmWLH"
      }
    },
    {
      "cell_type": "markdown",
      "source": [
        "Taken from https://machinelearningmastery.com/statistical-imputation-for-missing-values-in-machine-learning/ for my Big Data class."
      ],
      "metadata": {
        "id": "9oiU1nczm5s2"
      }
    }
  ]
}