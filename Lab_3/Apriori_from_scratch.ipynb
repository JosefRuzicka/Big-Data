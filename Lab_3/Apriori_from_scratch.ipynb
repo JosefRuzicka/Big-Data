{
  "nbformat": 4,
  "nbformat_minor": 0,
  "metadata": {
    "colab": {
      "provenance": []
    },
    "kernelspec": {
      "name": "python3",
      "display_name": "Python 3"
    },
    "language_info": {
      "name": "python"
    }
  },
  "cells": [
    {
      "cell_type": "code",
      "execution_count": 56,
      "metadata": {
        "id": "ZRAKRI4sxz6V",
        "colab": {
          "base_uri": "https://localhost:8080/"
        },
        "outputId": "aa467887-11c9-4203-f433-6d17e9bed51f"
      },
      "outputs": [
        {
          "output_type": "stream",
          "name": "stdout",
          "text": [
            "Drive already mounted at /content/drive; to attempt to forcibly remount, call drive.mount(\"/content/drive\", force_remount=True).\n"
          ]
        }
      ],
      "source": [
        "#Cargar las bibliotecas\n",
        "import pandas as pd\n",
        "import ast\n",
        "#Cargar los datos\n",
        "from google.colab import drive\n",
        "drive.mount('/content/drive')\n",
        "df = pd.read_csv('/content/drive/MyDrive/datasets/electronics_store.csv')"
      ]
    },
    {
      "cell_type": "code",
      "source": [
        "# Get max item count per transaction to set K.\n",
        "df = df[['order_id','shopping_cart']]\n",
        "item_count = df.shopping_cart.apply(ast.literal_eval)\n",
        "df['item_count'] = item_count\n",
        "max = 0\n",
        "\n",
        "for item in item_count:\n",
        "  if(len(item) > max):\n",
        "    max = len(item)\n",
        "print(max)"
      ],
      "metadata": {
        "colab": {
          "base_uri": "https://localhost:8080/"
        },
        "id": "Ok8VGPvI0FK5",
        "outputId": "fac37b45-b97c-4e1e-e657-5fd65002d950"
      },
      "execution_count": 58,
      "outputs": [
        {
          "output_type": "stream",
          "name": "stdout",
          "text": [
            "4\n"
          ]
        },
        {
          "output_type": "stream",
          "name": "stderr",
          "text": [
            "<ipython-input-58-73544c82cf15>:4: SettingWithCopyWarning: \n",
            "A value is trying to be set on a copy of a slice from a DataFrame.\n",
            "Try using .loc[row_indexer,col_indexer] = value instead\n",
            "\n",
            "See the caveats in the documentation: https://pandas.pydata.org/pandas-docs/stable/user_guide/indexing.html#returning-a-view-versus-a-copy\n",
            "  df['item_count'] = item_count\n"
          ]
        }
      ]
    },
    {
      "cell_type": "code",
      "source": [
        "# Ignore shopping cart item count.\n",
        "updated_shopping_cart = df.shopping_cart.apply(ast.literal_eval).apply(lambda x: [item[0] for item in x])\n",
        "df['shopping_cart'] = updated_shopping_cart\n",
        "df"
      ],
      "metadata": {
        "colab": {
          "base_uri": "https://localhost:8080/",
          "height": 606
        },
        "id": "5VGpRg4McVui",
        "outputId": "d0ca5c36-ab75-44da-8e17-c827acb6f30c"
      },
      "execution_count": 59,
      "outputs": [
        {
          "output_type": "execute_result",
          "data": {
            "text/plain": [
              "      order_id                                      shopping_cart  \\\n",
              "0    ORD182494       [Lucent 330S, Thunder line, iStream, pearTV]   \n",
              "1    ORD395518                      [Thunder line, Universe Note]   \n",
              "2    ORD494479                             [Thunder line, pearTV]   \n",
              "3    ORD019224  [Universe Note, Alcon 10, Olivia x460, iAssist...   \n",
              "4    ORD104032  [Universe Note, Olivia x460, iStream, Toshika ...   \n",
              "..         ...                                                ...   \n",
              "495  ORD475510                           [Alcon 10, iAssist Line]   \n",
              "496  ORD086060              [pearTV, Candle Inferno, Toshika 750]   \n",
              "497  ORD079320                    [pearTV, Alcon 10, Lucent 330S]   \n",
              "498  ORD026546            [iStream, Candle Inferno, iAssist Line]   \n",
              "499  ORD085447                   [iStream, Toshika 750, Alcon 10]   \n",
              "\n",
              "                                            item_count  \n",
              "0    [(Lucent 330S, 1), (Thunder line, 2), (iStream...  \n",
              "1              [(Thunder line, 1), (Universe Note, 2)]  \n",
              "2                     [(Thunder line, 1), (pearTV, 2)]  \n",
              "3    [(Universe Note, 1), (Alcon 10, 2), (Olivia x4...  \n",
              "4    [(Universe Note, 1), (Olivia x460, 1), (iStrea...  \n",
              "..                                                 ...  \n",
              "495                 [(Alcon 10, 2), (iAssist Line, 2)]  \n",
              "496  [(pearTV, 2), (Candle Inferno, 2), (Toshika 75...  \n",
              "497     [(pearTV, 1), (Alcon 10, 1), (Lucent 330S, 1)]  \n",
              "498  [(iStream, 1), (Candle Inferno, 1), (iAssist L...  \n",
              "499    [(iStream, 1), (Toshika 750, 1), (Alcon 10, 2)]  \n",
              "\n",
              "[500 rows x 3 columns]"
            ],
            "text/html": [
              "\n",
              "  <div id=\"df-e612e690-64f9-4a4a-abba-c7ef93be4ee1\">\n",
              "    <div class=\"colab-df-container\">\n",
              "      <div>\n",
              "<style scoped>\n",
              "    .dataframe tbody tr th:only-of-type {\n",
              "        vertical-align: middle;\n",
              "    }\n",
              "\n",
              "    .dataframe tbody tr th {\n",
              "        vertical-align: top;\n",
              "    }\n",
              "\n",
              "    .dataframe thead th {\n",
              "        text-align: right;\n",
              "    }\n",
              "</style>\n",
              "<table border=\"1\" class=\"dataframe\">\n",
              "  <thead>\n",
              "    <tr style=\"text-align: right;\">\n",
              "      <th></th>\n",
              "      <th>order_id</th>\n",
              "      <th>shopping_cart</th>\n",
              "      <th>item_count</th>\n",
              "    </tr>\n",
              "  </thead>\n",
              "  <tbody>\n",
              "    <tr>\n",
              "      <th>0</th>\n",
              "      <td>ORD182494</td>\n",
              "      <td>[Lucent 330S, Thunder line, iStream, pearTV]</td>\n",
              "      <td>[(Lucent 330S, 1), (Thunder line, 2), (iStream...</td>\n",
              "    </tr>\n",
              "    <tr>\n",
              "      <th>1</th>\n",
              "      <td>ORD395518</td>\n",
              "      <td>[Thunder line, Universe Note]</td>\n",
              "      <td>[(Thunder line, 1), (Universe Note, 2)]</td>\n",
              "    </tr>\n",
              "    <tr>\n",
              "      <th>2</th>\n",
              "      <td>ORD494479</td>\n",
              "      <td>[Thunder line, pearTV]</td>\n",
              "      <td>[(Thunder line, 1), (pearTV, 2)]</td>\n",
              "    </tr>\n",
              "    <tr>\n",
              "      <th>3</th>\n",
              "      <td>ORD019224</td>\n",
              "      <td>[Universe Note, Alcon 10, Olivia x460, iAssist...</td>\n",
              "      <td>[(Universe Note, 1), (Alcon 10, 2), (Olivia x4...</td>\n",
              "    </tr>\n",
              "    <tr>\n",
              "      <th>4</th>\n",
              "      <td>ORD104032</td>\n",
              "      <td>[Universe Note, Olivia x460, iStream, Toshika ...</td>\n",
              "      <td>[(Universe Note, 1), (Olivia x460, 1), (iStrea...</td>\n",
              "    </tr>\n",
              "    <tr>\n",
              "      <th>...</th>\n",
              "      <td>...</td>\n",
              "      <td>...</td>\n",
              "      <td>...</td>\n",
              "    </tr>\n",
              "    <tr>\n",
              "      <th>495</th>\n",
              "      <td>ORD475510</td>\n",
              "      <td>[Alcon 10, iAssist Line]</td>\n",
              "      <td>[(Alcon 10, 2), (iAssist Line, 2)]</td>\n",
              "    </tr>\n",
              "    <tr>\n",
              "      <th>496</th>\n",
              "      <td>ORD086060</td>\n",
              "      <td>[pearTV, Candle Inferno, Toshika 750]</td>\n",
              "      <td>[(pearTV, 2), (Candle Inferno, 2), (Toshika 75...</td>\n",
              "    </tr>\n",
              "    <tr>\n",
              "      <th>497</th>\n",
              "      <td>ORD079320</td>\n",
              "      <td>[pearTV, Alcon 10, Lucent 330S]</td>\n",
              "      <td>[(pearTV, 1), (Alcon 10, 1), (Lucent 330S, 1)]</td>\n",
              "    </tr>\n",
              "    <tr>\n",
              "      <th>498</th>\n",
              "      <td>ORD026546</td>\n",
              "      <td>[iStream, Candle Inferno, iAssist Line]</td>\n",
              "      <td>[(iStream, 1), (Candle Inferno, 1), (iAssist L...</td>\n",
              "    </tr>\n",
              "    <tr>\n",
              "      <th>499</th>\n",
              "      <td>ORD085447</td>\n",
              "      <td>[iStream, Toshika 750, Alcon 10]</td>\n",
              "      <td>[(iStream, 1), (Toshika 750, 1), (Alcon 10, 2)]</td>\n",
              "    </tr>\n",
              "  </tbody>\n",
              "</table>\n",
              "<p>500 rows × 3 columns</p>\n",
              "</div>\n",
              "      <button class=\"colab-df-convert\" onclick=\"convertToInteractive('df-e612e690-64f9-4a4a-abba-c7ef93be4ee1')\"\n",
              "              title=\"Convert this dataframe to an interactive table.\"\n",
              "              style=\"display:none;\">\n",
              "        \n",
              "  <svg xmlns=\"http://www.w3.org/2000/svg\" height=\"24px\"viewBox=\"0 0 24 24\"\n",
              "       width=\"24px\">\n",
              "    <path d=\"M0 0h24v24H0V0z\" fill=\"none\"/>\n",
              "    <path d=\"M18.56 5.44l.94 2.06.94-2.06 2.06-.94-2.06-.94-.94-2.06-.94 2.06-2.06.94zm-11 1L8.5 8.5l.94-2.06 2.06-.94-2.06-.94L8.5 2.5l-.94 2.06-2.06.94zm10 10l.94 2.06.94-2.06 2.06-.94-2.06-.94-.94-2.06-.94 2.06-2.06.94z\"/><path d=\"M17.41 7.96l-1.37-1.37c-.4-.4-.92-.59-1.43-.59-.52 0-1.04.2-1.43.59L10.3 9.45l-7.72 7.72c-.78.78-.78 2.05 0 2.83L4 21.41c.39.39.9.59 1.41.59.51 0 1.02-.2 1.41-.59l7.78-7.78 2.81-2.81c.8-.78.8-2.07 0-2.86zM5.41 20L4 18.59l7.72-7.72 1.47 1.35L5.41 20z\"/>\n",
              "  </svg>\n",
              "      </button>\n",
              "      \n",
              "  <style>\n",
              "    .colab-df-container {\n",
              "      display:flex;\n",
              "      flex-wrap:wrap;\n",
              "      gap: 12px;\n",
              "    }\n",
              "\n",
              "    .colab-df-convert {\n",
              "      background-color: #E8F0FE;\n",
              "      border: none;\n",
              "      border-radius: 50%;\n",
              "      cursor: pointer;\n",
              "      display: none;\n",
              "      fill: #1967D2;\n",
              "      height: 32px;\n",
              "      padding: 0 0 0 0;\n",
              "      width: 32px;\n",
              "    }\n",
              "\n",
              "    .colab-df-convert:hover {\n",
              "      background-color: #E2EBFA;\n",
              "      box-shadow: 0px 1px 2px rgba(60, 64, 67, 0.3), 0px 1px 3px 1px rgba(60, 64, 67, 0.15);\n",
              "      fill: #174EA6;\n",
              "    }\n",
              "\n",
              "    [theme=dark] .colab-df-convert {\n",
              "      background-color: #3B4455;\n",
              "      fill: #D2E3FC;\n",
              "    }\n",
              "\n",
              "    [theme=dark] .colab-df-convert:hover {\n",
              "      background-color: #434B5C;\n",
              "      box-shadow: 0px 1px 3px 1px rgba(0, 0, 0, 0.15);\n",
              "      filter: drop-shadow(0px 1px 2px rgba(0, 0, 0, 0.3));\n",
              "      fill: #FFFFFF;\n",
              "    }\n",
              "  </style>\n",
              "\n",
              "      <script>\n",
              "        const buttonEl =\n",
              "          document.querySelector('#df-e612e690-64f9-4a4a-abba-c7ef93be4ee1 button.colab-df-convert');\n",
              "        buttonEl.style.display =\n",
              "          google.colab.kernel.accessAllowed ? 'block' : 'none';\n",
              "\n",
              "        async function convertToInteractive(key) {\n",
              "          const element = document.querySelector('#df-e612e690-64f9-4a4a-abba-c7ef93be4ee1');\n",
              "          const dataTable =\n",
              "            await google.colab.kernel.invokeFunction('convertToInteractive',\n",
              "                                                     [key], {});\n",
              "          if (!dataTable) return;\n",
              "\n",
              "          const docLinkHtml = 'Like what you see? Visit the ' +\n",
              "            '<a target=\"_blank\" href=https://colab.research.google.com/notebooks/data_table.ipynb>data table notebook</a>'\n",
              "            + ' to learn more about interactive tables.';\n",
              "          element.innerHTML = '';\n",
              "          dataTable['output_type'] = 'display_data';\n",
              "          await google.colab.output.renderOutput(dataTable, element);\n",
              "          const docLink = document.createElement('div');\n",
              "          docLink.innerHTML = docLinkHtml;\n",
              "          element.appendChild(docLink);\n",
              "        }\n",
              "      </script>\n",
              "    </div>\n",
              "  </div>\n",
              "  "
            ]
          },
          "metadata": {},
          "execution_count": 59
        }
      ]
    },
    {
      "cell_type": "code",
      "source": [
        "# Data cleaning\n",
        "df['shopping_cart'] = [[item.lower() for item in shopping_cart] for shopping_cart in df['shopping_cart']]\n",
        "df['shopping_cart']"
      ],
      "metadata": {
        "colab": {
          "base_uri": "https://localhost:8080/"
        },
        "id": "sruXsH941rDi",
        "outputId": "d629613f-a49b-4751-e55c-038fa9f3432e"
      },
      "execution_count": 60,
      "outputs": [
        {
          "output_type": "execute_result",
          "data": {
            "text/plain": [
              "0           [lucent 330s, thunder line, istream, peartv]\n",
              "1                          [thunder line, universe note]\n",
              "2                                 [thunder line, peartv]\n",
              "3      [universe note, alcon 10, olivia x460, iassist...\n",
              "4      [universe note, olivia x460, istream, toshika ...\n",
              "                             ...                        \n",
              "495                             [alcon 10, iassist line]\n",
              "496                [peartv, candle inferno, toshika 750]\n",
              "497                      [peartv, alcon 10, lucent 330s]\n",
              "498              [istream, candle inferno, iassist line]\n",
              "499                     [istream, toshika 750, alcon 10]\n",
              "Name: shopping_cart, Length: 500, dtype: object"
            ]
          },
          "metadata": {},
          "execution_count": 60
        }
      ]
    },
    {
      "cell_type": "code",
      "source": [
        "# shopping cart to dictionary. \n",
        "from collections import Counter\n",
        "item_counter = Counter()\n",
        "for shopping_cart in df['shopping_cart']:\n",
        "    item_counter.update(shopping_cart)\n",
        "original_shopping_cart_dictionary = dict(item_counter)\n",
        "#shopping_cart_dictionary\n",
        "# convert keys to tuples.\n",
        "original_shopping_cart_dictionary = {tuple([key]): value for key, value in original_shopping_cart_dictionary.items()}\n",
        "original_shopping_cart_dictionary"
      ],
      "metadata": {
        "colab": {
          "base_uri": "https://localhost:8080/"
        },
        "id": "G4vfbXKJ0g8i",
        "outputId": "0c841fe2-cb8e-42b2-bbe1-f4c9ba6f77c0"
      },
      "execution_count": 61,
      "outputs": [
        {
          "output_type": "execute_result",
          "data": {
            "text/plain": [
              "{('lucent 330s',): 164,\n",
              " ('thunder line',): 159,\n",
              " ('istream',): 145,\n",
              " ('peartv',): 154,\n",
              " ('universe note',): 152,\n",
              " ('alcon 10',): 143,\n",
              " ('olivia x460',): 154,\n",
              " ('iassist line',): 139,\n",
              " ('toshika 750',): 143,\n",
              " ('candle inferno',): 155}"
            ]
          },
          "metadata": {},
          "execution_count": 61
        }
      ]
    },
    {
      "cell_type": "code",
      "source": [
        "# Test fuction to get all individual items of the current C group in the algorithm\n",
        "test = {('item1', 'item2'): 2, ('item2', 'item3'): 3, ('item3', 'item4'): 4}\n",
        "current_items = set()\n",
        "for key in test:\n",
        "  for item in key:\n",
        "    current_items.add(item)\n",
        "\n",
        "current_items = list(current_items)\n",
        "current_items"
      ],
      "metadata": {
        "id": "cUfELPDjhGwx"
      },
      "execution_count": null,
      "outputs": []
    },
    {
      "cell_type": "code",
      "source": [
        "# A priori's first iteration\n",
        "k = 3\n",
        "support = 16\n",
        "\n",
        "C_dictionaries = []\n",
        "\n",
        "original_shopping_cart_dictionary = {key: value for key, value in original_shopping_cart_dictionary.items() if value >= support}\n",
        "original_shopping_cart_dictionary\n",
        "\n",
        "C_dictionaries.append(original_shopping_cart_dictionary)\n",
        "C_dictionaries"
      ],
      "metadata": {
        "colab": {
          "base_uri": "https://localhost:8080/"
        },
        "id": "UgLzg46stwj0",
        "outputId": "ffaf3c11-629a-4413-9246-aadce2fe331c"
      },
      "execution_count": 65,
      "outputs": [
        {
          "output_type": "execute_result",
          "data": {
            "text/plain": [
              "[{('lucent 330s',): 164,\n",
              "  ('thunder line',): 159,\n",
              "  ('istream',): 145,\n",
              "  ('peartv',): 154,\n",
              "  ('universe note',): 152,\n",
              "  ('alcon 10',): 143,\n",
              "  ('olivia x460',): 154,\n",
              "  ('iassist line',): 139,\n",
              "  ('toshika 750',): 143,\n",
              "  ('candle inferno',): 155}]"
            ]
          },
          "metadata": {},
          "execution_count": 65
        }
      ]
    },
    {
      "cell_type": "code",
      "source": [
        "# A priori algorithm\n",
        "shopping_cart_dictionary = original_shopping_cart_dictionary\n",
        "# reduce k because first iter was already executed.\n",
        "k = k-1\n",
        "for ki in range(k):\n",
        "  new_shopping_cart_dictionary = {}\n",
        "  \n",
        "  # Create a list of all individual items in the current C group\n",
        "  # these are the items which have not been pruned.\n",
        "  current_items = set()\n",
        "  for key in shopping_cart_dictionary:\n",
        "    for item in key:\n",
        "      current_items.add(item)\n",
        "  current_items = list(current_items)\n",
        "  current_items\n",
        "\n",
        "  # Get C combinations.\n",
        "  for key1, value1 in shopping_cart_dictionary.items():\n",
        "    #found_key1 = False\n",
        "    #for key2, value2 in shopping_cart_dictionary.items():\n",
        "    for key2 in current_items: \n",
        "\n",
        "      # Verify existense of both keys in shopping cart\n",
        "      if key2 not in key1:\n",
        "        # key_1 iter1: (lucent 330s), \n",
        "        # key_1 iter2: (lucent 330s, thunder)\n",
        "        for shopping_cart in df['shopping_cart']:\n",
        "          \n",
        "          key1_in_shopping_cart = False\n",
        "          #key2_in_shopping_cart = False\n",
        "          key2_in_shopping_cart = True\n",
        "          \n",
        "          # key1\n",
        "          for key_item in key1:\n",
        "            key1_in_shopping_cart = True\n",
        "            if key_item not in shopping_cart:\n",
        "              key1_in_shopping_cart = False\n",
        "              \n",
        "          # key2\n",
        "          if key2 not in shopping_cart:\n",
        "            key2_in_shopping_cart = False\n",
        "\n",
        "          # Add new combination to new shopping cart\n",
        "          if (key1_in_shopping_cart and key2_in_shopping_cart):\n",
        "            new_key = key1 + (key2,)\n",
        "            new_shopping_cart_dictionary[new_key] = 0\n",
        "\n",
        "  shopping_cart_dictionary = new_shopping_cart_dictionary\n",
        "\n",
        "# Checkpoint 1: ok\n",
        "#shopping_cart_dictionary\n",
        "\n",
        "  # Count combination appearances.\n",
        "  for shopping_cart in df['shopping_cart']:\n",
        "    for key in shopping_cart_dictionary.keys():\n",
        "      if all(key_item in shopping_cart for key_item in key):\n",
        "        shopping_cart_dictionary[key] += 1\n",
        "\n",
        "# Checkpoint 2: ok\n",
        "#shopping_cart_dictionary\n",
        "\n",
        "  # Prune\n",
        "  shopping_cart_dictionary = {key: value for key, value in shopping_cart_dictionary.items() if value >= support}\n",
        "  C_dictionaries.append(shopping_cart_dictionary)\n",
        "\n",
        "# Checkpoint 3: ok\n",
        "shopping_cart_dictionary\n"
      ],
      "metadata": {
        "colab": {
          "base_uri": "https://localhost:8080/"
        },
        "id": "8hxkvEaOfl6E",
        "outputId": "d902578d-ed82-4e2d-99cc-090fc129a0a8"
      },
      "execution_count": 66,
      "outputs": [
        {
          "output_type": "execute_result",
          "data": {
            "text/plain": [
              "{('thunder line', 'universe note', 'peartv'): 16,\n",
              " ('thunder line', 'peartv', 'universe note'): 16,\n",
              " ('peartv', 'universe note', 'thunder line'): 16,\n",
              " ('peartv', 'thunder line', 'universe note'): 16,\n",
              " ('universe note', 'peartv', 'thunder line'): 16,\n",
              " ('universe note', 'thunder line', 'peartv'): 16}"
            ]
          },
          "metadata": {},
          "execution_count": 66
        }
      ]
    },
    {
      "cell_type": "code",
      "source": [
        "# Association rules:\n",
        "import itertools\n",
        "confidence_threshold = 0.3\n",
        "association_rules = []\n",
        "for key in shopping_cart_dictionary.keys():\n",
        "  # get all item combinations (subsets) in current key.\n",
        "  key_subsets = []\n",
        "  for length in range(1, len(key)): \n",
        "    key_subsets.extend(list((itertools.combinations(key, length))))\n",
        "\n",
        "    # calculate confidence of each subset\n",
        "    for key_subset in key_subsets:\n",
        "      current_key_support_count = C_dictionaries[len(key)-1][key]\n",
        "      current_key_subset_support_count = C_dictionaries[len(key_subset)-1][key_subset]\n",
        "\n",
        "      confidence = current_key_support_count / current_key_subset_support_count\n",
        "      if confidence >= confidence_threshold:\n",
        "        association_rules.append((key_subset,key))\n",
        "association_rules"
      ],
      "metadata": {
        "colab": {
          "base_uri": "https://localhost:8080/"
        },
        "id": "mAPao_lcfiYS",
        "outputId": "2e11c296-f2fc-4fc2-f98f-05b6f26a07c6"
      },
      "execution_count": 79,
      "outputs": [
        {
          "output_type": "execute_result",
          "data": {
            "text/plain": [
              "[(('thunder line', 'universe note'),\n",
              "  ('thunder line', 'universe note', 'peartv')),\n",
              " (('thunder line', 'peartv'), ('thunder line', 'universe note', 'peartv')),\n",
              " (('universe note', 'peartv'), ('thunder line', 'universe note', 'peartv')),\n",
              " (('thunder line', 'peartv'), ('thunder line', 'peartv', 'universe note')),\n",
              " (('thunder line', 'universe note'),\n",
              "  ('thunder line', 'peartv', 'universe note')),\n",
              " (('peartv', 'universe note'), ('thunder line', 'peartv', 'universe note')),\n",
              " (('peartv', 'universe note'), ('peartv', 'universe note', 'thunder line')),\n",
              " (('peartv', 'thunder line'), ('peartv', 'universe note', 'thunder line')),\n",
              " (('universe note', 'thunder line'),\n",
              "  ('peartv', 'universe note', 'thunder line')),\n",
              " (('peartv', 'thunder line'), ('peartv', 'thunder line', 'universe note')),\n",
              " (('peartv', 'universe note'), ('peartv', 'thunder line', 'universe note')),\n",
              " (('thunder line', 'universe note'),\n",
              "  ('peartv', 'thunder line', 'universe note')),\n",
              " (('universe note', 'peartv'), ('universe note', 'peartv', 'thunder line')),\n",
              " (('universe note', 'thunder line'),\n",
              "  ('universe note', 'peartv', 'thunder line')),\n",
              " (('peartv', 'thunder line'), ('universe note', 'peartv', 'thunder line')),\n",
              " (('universe note', 'thunder line'),\n",
              "  ('universe note', 'thunder line', 'peartv')),\n",
              " (('universe note', 'peartv'), ('universe note', 'thunder line', 'peartv')),\n",
              " (('thunder line', 'peartv'), ('universe note', 'thunder line', 'peartv'))]"
            ]
          },
          "metadata": {},
          "execution_count": 79
        }
      ]
    }
  ]
}