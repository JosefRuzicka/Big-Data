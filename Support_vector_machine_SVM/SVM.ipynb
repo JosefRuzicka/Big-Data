{
  "nbformat": 4,
  "nbformat_minor": 0,
  "metadata": {
    "colab": {
      "provenance": [],
      "toc_visible": true
    },
    "kernelspec": {
      "name": "python3",
      "display_name": "Python 3"
    },
    "language_info": {
      "name": "python"
    }
  },
  "cells": [
    {
      "cell_type": "markdown",
      "source": [
        "#Laboratorio #6: Máquinas de Soporte Vectorial\n",
        "Estudiantes:\n",
        "- Josef Ruzicka - B87095\n",
        "- Emmanuel Zúñiga - B98729\n",
        "\n",
        "\n",
        "## Support Vector Machines\n",
        "\n",
        "###Definiendo una Máquina de Soporte Vectorial\n",
        "\n",
        "Las máquinas de soporte vectorial (SVM, por sus siglas en inglés: Support Vector Machines) son un tipo de algoritmo que fue desarrollado por Vladimir Vapnik y su equipo a finales de la década de 1990.\n",
        "\n",
        "Una máquina de soporte vectorial (SVM) es un algoritmo de aprendizaje automático supervisado que se utiliza tanto para la clasificación como para la regresión. Su objetivo principal es encontrar un hiperplano en un espacio de características de alta dimensionalidad que permita separar o predecir los datos de manera óptima.\n",
        "\n",
        "En el contexto de clasificación, se busca encontrar un hiperplano que pueda separar las diferentes clases de datos de forma clara. Para ello, la SVM busca maximizar el margen entre el hiperplano y los puntos de datos más cercanos de cada clase, conocidos como vectores de soporte. Estos vectores de soporte son los puntos críticos que influyen en la posición y orientación del hiperplano y son fundamentales para la clasificación precisa.\n",
        "\n",
        "Además de los hiperplanos lineales, las SVM pueden utilizar una técnica llamada \"kernel trick\" o truco del kernel para mapear los datos de entrada a un espacio de mayor dimensionalidad donde sean más fácilmente separables. Esto permite a las SVM realizar clasificaciones no lineales al encontrar hiperplanos en espacios de características más complejos.\n",
        "\n",
        "En el contexto de regresión, las SVM buscan encontrar una función que pueda aproximar de manera óptima los valores continuos de salida. En lugar de separar las clases, se busca encontrar una curva o superficie que pase lo más cerca posible de los puntos de datos, minimizando el error de predicción.\n",
        "\n",
        "Para entrenar una SVM, se utiliza un conjunto de datos de entrenamiento etiquetado, donde cada ejemplo de entrenamiento está asociado con una clase o un valor de salida conocido. Durante el entrenamiento, la SVM ajusta los parámetros para encontrar el hiperplano o la función que mejor se ajuste a los datos y minimice el error.\n",
        "\n",
        "Algunas de las ventajas de las SVM incluyen su capacidad para manejar eficazmente datos en espacios de alta dimensionalidad, su robustez ante la presencia de ruido y su capacidad para generalizar bien a partir de un conjunto de entrenamiento limitado. Sin embargo, pueden ser computacionalmente costosas en términos de tiempo de entrenamiento y memoria requerida, especialmente para grandes conjuntos de datos."
      ],
      "metadata": {
        "id": "7MUqTCce_gyY"
      }
    },
    {
      "cell_type": "markdown",
      "source": [
        "###Construcción de una Máquina de Soporte Vectorial para \n",
        "\n",
        "\n",
        "\n"
      ],
      "metadata": {
        "id": "XZnPfYGQBIGh"
      }
    },
    {
      "cell_type": "markdown",
      "source": [
        "Lo primero, importamos todas las bibliotecas necesarias para la creación de una máquina de soporte vectorial. En este caso y como en ocaciones pasadas, utilizaremos Python y Sklearn para el ejercicio:"
      ],
      "metadata": {
        "id": "C8ngoSS3Blc9"
      }
    },
    {
      "cell_type": "code",
      "source": [
        "from sklearn.svm import SVC\n",
        "from sklearn.metrics import accuracy_score\n",
        "from sklearn.model_selection import train_test_split\n",
        "from sklearn.preprocessing import StandardScaler\n",
        "from sklearn.metrics import mean_squared_error, r2_score\n",
        "import numpy as np\n",
        "import matplotlib.pyplot as plt\n",
        "from sklearn.preprocessing import StandardScaler\n",
        "import pandas as pd\n",
        "import io\n",
        "from matplotlib.colors import ListedColormap"
      ],
      "metadata": {
        "id": "0JrSnTXoBk0P"
      },
      "execution_count": null,
      "outputs": []
    },
    {
      "cell_type": "markdown",
      "source": [
        "En este ejemplo, asumimos que tienen un archivo de datos llamado 'train.csv' que contiene sus características (variables independientes) y una variable objetivo (variable dependiente) que deseas predecir. \n",
        "\n",
        "La función files.upload() en Python es una función proporcionada por la biblioteca google.colab cuando se ejecuta en Google Colab. Permite cargar archivos desde el sistema local al entorno de Colab.\n",
        "\n",
        "Cuando ejecutan files.upload(), se abrirá una ventana emergente en la que pueden seleccionar uno o varios archivos de tu sistema local para cargarlos en el entorno de Colab. Una vez que seleccionan los archivos y confirman la selección, los archivos se cargan en el entorno y están disponibles para su uso en tu notebook."
      ],
      "metadata": {
        "id": "zXT8NiPXBkFs"
      }
    },
    {
      "cell_type": "code",
      "execution_count": null,
      "metadata": {
        "id": "bvRuUpiu-pm6",
        "colab": {
          "base_uri": "https://localhost:8080/",
          "height": 73
        },
        "outputId": "b8ede436-ff14-417a-9e30-e4b52d8a7d01"
      },
      "outputs": [
        {
          "output_type": "display_data",
          "data": {
            "text/plain": [
              "<IPython.core.display.HTML object>"
            ],
            "text/html": [
              "\n",
              "     <input type=\"file\" id=\"files-76fa5b0c-7375-4dd8-98ee-5c520438796a\" name=\"files[]\" multiple disabled\n",
              "        style=\"border:none\" />\n",
              "     <output id=\"result-76fa5b0c-7375-4dd8-98ee-5c520438796a\">\n",
              "      Upload widget is only available when the cell has been executed in the\n",
              "      current browser session. Please rerun this cell to enable.\n",
              "      </output>\n",
              "      <script>// Copyright 2017 Google LLC\n",
              "//\n",
              "// Licensed under the Apache License, Version 2.0 (the \"License\");\n",
              "// you may not use this file except in compliance with the License.\n",
              "// You may obtain a copy of the License at\n",
              "//\n",
              "//      http://www.apache.org/licenses/LICENSE-2.0\n",
              "//\n",
              "// Unless required by applicable law or agreed to in writing, software\n",
              "// distributed under the License is distributed on an \"AS IS\" BASIS,\n",
              "// WITHOUT WARRANTIES OR CONDITIONS OF ANY KIND, either express or implied.\n",
              "// See the License for the specific language governing permissions and\n",
              "// limitations under the License.\n",
              "\n",
              "/**\n",
              " * @fileoverview Helpers for google.colab Python module.\n",
              " */\n",
              "(function(scope) {\n",
              "function span(text, styleAttributes = {}) {\n",
              "  const element = document.createElement('span');\n",
              "  element.textContent = text;\n",
              "  for (const key of Object.keys(styleAttributes)) {\n",
              "    element.style[key] = styleAttributes[key];\n",
              "  }\n",
              "  return element;\n",
              "}\n",
              "\n",
              "// Max number of bytes which will be uploaded at a time.\n",
              "const MAX_PAYLOAD_SIZE = 100 * 1024;\n",
              "\n",
              "function _uploadFiles(inputId, outputId) {\n",
              "  const steps = uploadFilesStep(inputId, outputId);\n",
              "  const outputElement = document.getElementById(outputId);\n",
              "  // Cache steps on the outputElement to make it available for the next call\n",
              "  // to uploadFilesContinue from Python.\n",
              "  outputElement.steps = steps;\n",
              "\n",
              "  return _uploadFilesContinue(outputId);\n",
              "}\n",
              "\n",
              "// This is roughly an async generator (not supported in the browser yet),\n",
              "// where there are multiple asynchronous steps and the Python side is going\n",
              "// to poll for completion of each step.\n",
              "// This uses a Promise to block the python side on completion of each step,\n",
              "// then passes the result of the previous step as the input to the next step.\n",
              "function _uploadFilesContinue(outputId) {\n",
              "  const outputElement = document.getElementById(outputId);\n",
              "  const steps = outputElement.steps;\n",
              "\n",
              "  const next = steps.next(outputElement.lastPromiseValue);\n",
              "  return Promise.resolve(next.value.promise).then((value) => {\n",
              "    // Cache the last promise value to make it available to the next\n",
              "    // step of the generator.\n",
              "    outputElement.lastPromiseValue = value;\n",
              "    return next.value.response;\n",
              "  });\n",
              "}\n",
              "\n",
              "/**\n",
              " * Generator function which is called between each async step of the upload\n",
              " * process.\n",
              " * @param {string} inputId Element ID of the input file picker element.\n",
              " * @param {string} outputId Element ID of the output display.\n",
              " * @return {!Iterable<!Object>} Iterable of next steps.\n",
              " */\n",
              "function* uploadFilesStep(inputId, outputId) {\n",
              "  const inputElement = document.getElementById(inputId);\n",
              "  inputElement.disabled = false;\n",
              "\n",
              "  const outputElement = document.getElementById(outputId);\n",
              "  outputElement.innerHTML = '';\n",
              "\n",
              "  const pickedPromise = new Promise((resolve) => {\n",
              "    inputElement.addEventListener('change', (e) => {\n",
              "      resolve(e.target.files);\n",
              "    });\n",
              "  });\n",
              "\n",
              "  const cancel = document.createElement('button');\n",
              "  inputElement.parentElement.appendChild(cancel);\n",
              "  cancel.textContent = 'Cancel upload';\n",
              "  const cancelPromise = new Promise((resolve) => {\n",
              "    cancel.onclick = () => {\n",
              "      resolve(null);\n",
              "    };\n",
              "  });\n",
              "\n",
              "  // Wait for the user to pick the files.\n",
              "  const files = yield {\n",
              "    promise: Promise.race([pickedPromise, cancelPromise]),\n",
              "    response: {\n",
              "      action: 'starting',\n",
              "    }\n",
              "  };\n",
              "\n",
              "  cancel.remove();\n",
              "\n",
              "  // Disable the input element since further picks are not allowed.\n",
              "  inputElement.disabled = true;\n",
              "\n",
              "  if (!files) {\n",
              "    return {\n",
              "      response: {\n",
              "        action: 'complete',\n",
              "      }\n",
              "    };\n",
              "  }\n",
              "\n",
              "  for (const file of files) {\n",
              "    const li = document.createElement('li');\n",
              "    li.append(span(file.name, {fontWeight: 'bold'}));\n",
              "    li.append(span(\n",
              "        `(${file.type || 'n/a'}) - ${file.size} bytes, ` +\n",
              "        `last modified: ${\n",
              "            file.lastModifiedDate ? file.lastModifiedDate.toLocaleDateString() :\n",
              "                                    'n/a'} - `));\n",
              "    const percent = span('0% done');\n",
              "    li.appendChild(percent);\n",
              "\n",
              "    outputElement.appendChild(li);\n",
              "\n",
              "    const fileDataPromise = new Promise((resolve) => {\n",
              "      const reader = new FileReader();\n",
              "      reader.onload = (e) => {\n",
              "        resolve(e.target.result);\n",
              "      };\n",
              "      reader.readAsArrayBuffer(file);\n",
              "    });\n",
              "    // Wait for the data to be ready.\n",
              "    let fileData = yield {\n",
              "      promise: fileDataPromise,\n",
              "      response: {\n",
              "        action: 'continue',\n",
              "      }\n",
              "    };\n",
              "\n",
              "    // Use a chunked sending to avoid message size limits. See b/62115660.\n",
              "    let position = 0;\n",
              "    do {\n",
              "      const length = Math.min(fileData.byteLength - position, MAX_PAYLOAD_SIZE);\n",
              "      const chunk = new Uint8Array(fileData, position, length);\n",
              "      position += length;\n",
              "\n",
              "      const base64 = btoa(String.fromCharCode.apply(null, chunk));\n",
              "      yield {\n",
              "        response: {\n",
              "          action: 'append',\n",
              "          file: file.name,\n",
              "          data: base64,\n",
              "        },\n",
              "      };\n",
              "\n",
              "      let percentDone = fileData.byteLength === 0 ?\n",
              "          100 :\n",
              "          Math.round((position / fileData.byteLength) * 100);\n",
              "      percent.textContent = `${percentDone}% done`;\n",
              "\n",
              "    } while (position < fileData.byteLength);\n",
              "  }\n",
              "\n",
              "  // All done.\n",
              "  yield {\n",
              "    response: {\n",
              "      action: 'complete',\n",
              "    }\n",
              "  };\n",
              "}\n",
              "\n",
              "scope.google = scope.google || {};\n",
              "scope.google.colab = scope.google.colab || {};\n",
              "scope.google.colab._files = {\n",
              "  _uploadFiles,\n",
              "  _uploadFilesContinue,\n",
              "};\n",
              "})(self);\n",
              "</script> "
            ]
          },
          "metadata": {}
        },
        {
          "output_type": "stream",
          "name": "stdout",
          "text": [
            "Saving train.csv to train (2).csv\n"
          ]
        }
      ],
      "source": [
        "# Cargar los datos\n",
        "from google.colab import files\n",
        "uploadedTrain = files.upload()"
      ]
    },
    {
      "cell_type": "markdown",
      "source": [
        "Para leer los datos cargados, utilizaremos dos funciones conocidas de python:\n",
        "\n",
        "1. pd.read_csv(): Es una función proporcionada por la biblioteca Pandas en Python. Se utiliza para leer archivos CSV (Comma-Separated Values) y cargar los datos en un DataFrame de Pandas. Un archivo CSV contiene datos tabulares en forma de texto, donde cada línea representa una fila y los valores de cada fila están separados por comas u otros delimitadores.\n",
        "\n",
        "2. La función pd.read_csv() toma como argumento el nombre del archivo CSV o una ruta de archivo, y opcionalmente puede aceptar otros parámetros para configurar la forma en que los datos se leen y se cargan. Retorna un DataFrame de Pandas que te permite manipular y analizar los datos de manera conveniente en Python."
      ],
      "metadata": {
        "id": "5iOe9tqKN6xB"
      }
    },
    {
      "cell_type": "code",
      "source": [
        "#Leen los datos que subieron utilizando io y pandas, cuidado con los nombres de los csv\n",
        "dataEntrenamiento = pd.read_csv(io.BytesIO(uploadedTrain['train.csv']))"
      ],
      "metadata": {
        "id": "0X5KTeugDq67"
      },
      "execution_count": null,
      "outputs": []
    },
    {
      "cell_type": "markdown",
      "source": [
        "Mostramos una vista general del dataset de entrenamiento y del de pruebas con .head():"
      ],
      "metadata": {
        "id": "fr1IlL5dBg65"
      }
    },
    {
      "cell_type": "code",
      "source": [
        "dataEntrenamiento.head()"
      ],
      "metadata": {
        "id": "yv2fJP76FAil",
        "colab": {
          "base_uri": "https://localhost:8080/",
          "height": 280
        },
        "outputId": "e9b47192-52ce-4aa3-a14d-d442df734266"
      },
      "execution_count": null,
      "outputs": [
        {
          "output_type": "execute_result",
          "data": {
            "text/plain": [
              "   battery_power  blue  clock_speed  dual_sim  fc  four_g  int_memory  m_dep  \\\n",
              "0            842     0          2.2         0   1       0           7    0.6   \n",
              "1           1021     1          0.5         1   0       1          53    0.7   \n",
              "2            563     1          0.5         1   2       1          41    0.9   \n",
              "3            615     1          2.5         0   0       0          10    0.8   \n",
              "4           1821     1          1.2         0  13       1          44    0.6   \n",
              "\n",
              "   mobile_wt  n_cores  ...  px_height  px_width   ram  sc_h  sc_w  talk_time  \\\n",
              "0        188        2  ...         20       756  2549     9     7         19   \n",
              "1        136        3  ...        905      1988  2631    17     3          7   \n",
              "2        145        5  ...       1263      1716  2603    11     2          9   \n",
              "3        131        6  ...       1216      1786  2769    16     8         11   \n",
              "4        141        2  ...       1208      1212  1411     8     2         15   \n",
              "\n",
              "   three_g  touch_screen  wifi  price_range  \n",
              "0        0             0     1            1  \n",
              "1        1             1     0            2  \n",
              "2        1             1     0            2  \n",
              "3        1             0     0            2  \n",
              "4        1             1     0            1  \n",
              "\n",
              "[5 rows x 21 columns]"
            ],
            "text/html": [
              "\n",
              "  <div id=\"df-209179f7-fbdb-462d-ae1b-e86e8fd9f66e\">\n",
              "    <div class=\"colab-df-container\">\n",
              "      <div>\n",
              "<style scoped>\n",
              "    .dataframe tbody tr th:only-of-type {\n",
              "        vertical-align: middle;\n",
              "    }\n",
              "\n",
              "    .dataframe tbody tr th {\n",
              "        vertical-align: top;\n",
              "    }\n",
              "\n",
              "    .dataframe thead th {\n",
              "        text-align: right;\n",
              "    }\n",
              "</style>\n",
              "<table border=\"1\" class=\"dataframe\">\n",
              "  <thead>\n",
              "    <tr style=\"text-align: right;\">\n",
              "      <th></th>\n",
              "      <th>battery_power</th>\n",
              "      <th>blue</th>\n",
              "      <th>clock_speed</th>\n",
              "      <th>dual_sim</th>\n",
              "      <th>fc</th>\n",
              "      <th>four_g</th>\n",
              "      <th>int_memory</th>\n",
              "      <th>m_dep</th>\n",
              "      <th>mobile_wt</th>\n",
              "      <th>n_cores</th>\n",
              "      <th>...</th>\n",
              "      <th>px_height</th>\n",
              "      <th>px_width</th>\n",
              "      <th>ram</th>\n",
              "      <th>sc_h</th>\n",
              "      <th>sc_w</th>\n",
              "      <th>talk_time</th>\n",
              "      <th>three_g</th>\n",
              "      <th>touch_screen</th>\n",
              "      <th>wifi</th>\n",
              "      <th>price_range</th>\n",
              "    </tr>\n",
              "  </thead>\n",
              "  <tbody>\n",
              "    <tr>\n",
              "      <th>0</th>\n",
              "      <td>842</td>\n",
              "      <td>0</td>\n",
              "      <td>2.2</td>\n",
              "      <td>0</td>\n",
              "      <td>1</td>\n",
              "      <td>0</td>\n",
              "      <td>7</td>\n",
              "      <td>0.6</td>\n",
              "      <td>188</td>\n",
              "      <td>2</td>\n",
              "      <td>...</td>\n",
              "      <td>20</td>\n",
              "      <td>756</td>\n",
              "      <td>2549</td>\n",
              "      <td>9</td>\n",
              "      <td>7</td>\n",
              "      <td>19</td>\n",
              "      <td>0</td>\n",
              "      <td>0</td>\n",
              "      <td>1</td>\n",
              "      <td>1</td>\n",
              "    </tr>\n",
              "    <tr>\n",
              "      <th>1</th>\n",
              "      <td>1021</td>\n",
              "      <td>1</td>\n",
              "      <td>0.5</td>\n",
              "      <td>1</td>\n",
              "      <td>0</td>\n",
              "      <td>1</td>\n",
              "      <td>53</td>\n",
              "      <td>0.7</td>\n",
              "      <td>136</td>\n",
              "      <td>3</td>\n",
              "      <td>...</td>\n",
              "      <td>905</td>\n",
              "      <td>1988</td>\n",
              "      <td>2631</td>\n",
              "      <td>17</td>\n",
              "      <td>3</td>\n",
              "      <td>7</td>\n",
              "      <td>1</td>\n",
              "      <td>1</td>\n",
              "      <td>0</td>\n",
              "      <td>2</td>\n",
              "    </tr>\n",
              "    <tr>\n",
              "      <th>2</th>\n",
              "      <td>563</td>\n",
              "      <td>1</td>\n",
              "      <td>0.5</td>\n",
              "      <td>1</td>\n",
              "      <td>2</td>\n",
              "      <td>1</td>\n",
              "      <td>41</td>\n",
              "      <td>0.9</td>\n",
              "      <td>145</td>\n",
              "      <td>5</td>\n",
              "      <td>...</td>\n",
              "      <td>1263</td>\n",
              "      <td>1716</td>\n",
              "      <td>2603</td>\n",
              "      <td>11</td>\n",
              "      <td>2</td>\n",
              "      <td>9</td>\n",
              "      <td>1</td>\n",
              "      <td>1</td>\n",
              "      <td>0</td>\n",
              "      <td>2</td>\n",
              "    </tr>\n",
              "    <tr>\n",
              "      <th>3</th>\n",
              "      <td>615</td>\n",
              "      <td>1</td>\n",
              "      <td>2.5</td>\n",
              "      <td>0</td>\n",
              "      <td>0</td>\n",
              "      <td>0</td>\n",
              "      <td>10</td>\n",
              "      <td>0.8</td>\n",
              "      <td>131</td>\n",
              "      <td>6</td>\n",
              "      <td>...</td>\n",
              "      <td>1216</td>\n",
              "      <td>1786</td>\n",
              "      <td>2769</td>\n",
              "      <td>16</td>\n",
              "      <td>8</td>\n",
              "      <td>11</td>\n",
              "      <td>1</td>\n",
              "      <td>0</td>\n",
              "      <td>0</td>\n",
              "      <td>2</td>\n",
              "    </tr>\n",
              "    <tr>\n",
              "      <th>4</th>\n",
              "      <td>1821</td>\n",
              "      <td>1</td>\n",
              "      <td>1.2</td>\n",
              "      <td>0</td>\n",
              "      <td>13</td>\n",
              "      <td>1</td>\n",
              "      <td>44</td>\n",
              "      <td>0.6</td>\n",
              "      <td>141</td>\n",
              "      <td>2</td>\n",
              "      <td>...</td>\n",
              "      <td>1208</td>\n",
              "      <td>1212</td>\n",
              "      <td>1411</td>\n",
              "      <td>8</td>\n",
              "      <td>2</td>\n",
              "      <td>15</td>\n",
              "      <td>1</td>\n",
              "      <td>1</td>\n",
              "      <td>0</td>\n",
              "      <td>1</td>\n",
              "    </tr>\n",
              "  </tbody>\n",
              "</table>\n",
              "<p>5 rows × 21 columns</p>\n",
              "</div>\n",
              "      <button class=\"colab-df-convert\" onclick=\"convertToInteractive('df-209179f7-fbdb-462d-ae1b-e86e8fd9f66e')\"\n",
              "              title=\"Convert this dataframe to an interactive table.\"\n",
              "              style=\"display:none;\">\n",
              "        \n",
              "  <svg xmlns=\"http://www.w3.org/2000/svg\" height=\"24px\"viewBox=\"0 0 24 24\"\n",
              "       width=\"24px\">\n",
              "    <path d=\"M0 0h24v24H0V0z\" fill=\"none\"/>\n",
              "    <path d=\"M18.56 5.44l.94 2.06.94-2.06 2.06-.94-2.06-.94-.94-2.06-.94 2.06-2.06.94zm-11 1L8.5 8.5l.94-2.06 2.06-.94-2.06-.94L8.5 2.5l-.94 2.06-2.06.94zm10 10l.94 2.06.94-2.06 2.06-.94-2.06-.94-.94-2.06-.94 2.06-2.06.94z\"/><path d=\"M17.41 7.96l-1.37-1.37c-.4-.4-.92-.59-1.43-.59-.52 0-1.04.2-1.43.59L10.3 9.45l-7.72 7.72c-.78.78-.78 2.05 0 2.83L4 21.41c.39.39.9.59 1.41.59.51 0 1.02-.2 1.41-.59l7.78-7.78 2.81-2.81c.8-.78.8-2.07 0-2.86zM5.41 20L4 18.59l7.72-7.72 1.47 1.35L5.41 20z\"/>\n",
              "  </svg>\n",
              "      </button>\n",
              "      \n",
              "  <style>\n",
              "    .colab-df-container {\n",
              "      display:flex;\n",
              "      flex-wrap:wrap;\n",
              "      gap: 12px;\n",
              "    }\n",
              "\n",
              "    .colab-df-convert {\n",
              "      background-color: #E8F0FE;\n",
              "      border: none;\n",
              "      border-radius: 50%;\n",
              "      cursor: pointer;\n",
              "      display: none;\n",
              "      fill: #1967D2;\n",
              "      height: 32px;\n",
              "      padding: 0 0 0 0;\n",
              "      width: 32px;\n",
              "    }\n",
              "\n",
              "    .colab-df-convert:hover {\n",
              "      background-color: #E2EBFA;\n",
              "      box-shadow: 0px 1px 2px rgba(60, 64, 67, 0.3), 0px 1px 3px 1px rgba(60, 64, 67, 0.15);\n",
              "      fill: #174EA6;\n",
              "    }\n",
              "\n",
              "    [theme=dark] .colab-df-convert {\n",
              "      background-color: #3B4455;\n",
              "      fill: #D2E3FC;\n",
              "    }\n",
              "\n",
              "    [theme=dark] .colab-df-convert:hover {\n",
              "      background-color: #434B5C;\n",
              "      box-shadow: 0px 1px 3px 1px rgba(0, 0, 0, 0.15);\n",
              "      filter: drop-shadow(0px 1px 2px rgba(0, 0, 0, 0.3));\n",
              "      fill: #FFFFFF;\n",
              "    }\n",
              "  </style>\n",
              "\n",
              "      <script>\n",
              "        const buttonEl =\n",
              "          document.querySelector('#df-209179f7-fbdb-462d-ae1b-e86e8fd9f66e button.colab-df-convert');\n",
              "        buttonEl.style.display =\n",
              "          google.colab.kernel.accessAllowed ? 'block' : 'none';\n",
              "\n",
              "        async function convertToInteractive(key) {\n",
              "          const element = document.querySelector('#df-209179f7-fbdb-462d-ae1b-e86e8fd9f66e');\n",
              "          const dataTable =\n",
              "            await google.colab.kernel.invokeFunction('convertToInteractive',\n",
              "                                                     [key], {});\n",
              "          if (!dataTable) return;\n",
              "\n",
              "          const docLinkHtml = 'Like what you see? Visit the ' +\n",
              "            '<a target=\"_blank\" href=https://colab.research.google.com/notebooks/data_table.ipynb>data table notebook</a>'\n",
              "            + ' to learn more about interactive tables.';\n",
              "          element.innerHTML = '';\n",
              "          dataTable['output_type'] = 'display_data';\n",
              "          await google.colab.output.renderOutput(dataTable, element);\n",
              "          const docLink = document.createElement('div');\n",
              "          docLink.innerHTML = docLinkHtml;\n",
              "          element.appendChild(docLink);\n",
              "        }\n",
              "      </script>\n",
              "    </div>\n",
              "  </div>\n",
              "  "
            ]
          },
          "metadata": {},
          "execution_count": 64
        }
      ]
    },
    {
      "cell_type": "markdown",
      "source": [
        "Vamos a usar .isnull().sum().max(): Esta secuencia de métodos se utiliza en Python para calcular la cantidad máxima de valores nulos (NaN) en un DataFrame de Pandas o en una Serie.\n",
        "\n",
        "1. .isnull() devuelve una matriz booleana del mismo tamaño que el DataFrame o Serie original, donde True indica que el valor es nulo (NaN) y False indica que no lo es.\n",
        "2. .sum() suma los valores booleanos en la matriz resultante. Como True se interpreta como 1 y False como 0, la suma nos da la cantidad total de valores nulos en cada columna o en la Serie.\n",
        "3. .max() devuelve el valor máximo de la suma de valores nulos.\n",
        "\n",
        "De tal manera podemos ver si hay algún valor faltante:"
      ],
      "metadata": {
        "id": "kktoVOUwN8CQ"
      }
    },
    {
      "cell_type": "code",
      "source": [
        "dataEntrenamiento.isnull().sum().max()\n",
        "dataEntrenamiento.columns"
      ],
      "metadata": {
        "id": "hiSqbQCMFQYU",
        "colab": {
          "base_uri": "https://localhost:8080/"
        },
        "outputId": "a13478c8-8703-44fb-917d-dc93b8cb4d1d"
      },
      "execution_count": null,
      "outputs": [
        {
          "output_type": "execute_result",
          "data": {
            "text/plain": [
              "Index(['battery_power', 'blue', 'clock_speed', 'dual_sim', 'fc', 'four_g',\n",
              "       'int_memory', 'm_dep', 'mobile_wt', 'n_cores', 'pc', 'px_height',\n",
              "       'px_width', 'ram', 'sc_h', 'sc_w', 'talk_time', 'three_g',\n",
              "       'touch_screen', 'wifi', 'price_range'],\n",
              "      dtype='object')"
            ]
          },
          "metadata": {},
          "execution_count": 65
        }
      ]
    },
    {
      "cell_type": "markdown",
      "source": [
        "El valor de precio está 'hot-encoded', y en la vida real esto no sería de esta manera, por lo que utilizaremos describe() y unique() para entender mejor el valor:\n",
        "\n",
        "1. El método describe() se utiliza en Python para obtener estadísticas descriptivas de un DataFrame o una Serie de Pandas. Proporciona información resumida sobre la distribución de los datos, incluyendo el recuento de valores no nulos, la media, la desviación estándar, los valores mínimo y máximo, y los percentiles.\n",
        "\n",
        "2. El método unique() se utiliza en Python para obtener los valores únicos de una columna en un DataFrame o una Serie de Pandas. Retorna un arreglo que contiene los valores únicos presentes en la columna, en el orden en el que aparecen."
      ],
      "metadata": {
        "id": "oIBwJHv_N8cz"
      }
    },
    {
      "cell_type": "code",
      "source": [
        "dataEntrenamiento['price_range'].describe(), dataEntrenamiento['price_range'].unique()"
      ],
      "metadata": {
        "id": "FQp1r9E3FY7I",
        "colab": {
          "base_uri": "https://localhost:8080/"
        },
        "outputId": "759304db-0252-4e53-a07a-1f17426b1951"
      },
      "execution_count": null,
      "outputs": [
        {
          "output_type": "execute_result",
          "data": {
            "text/plain": [
              "(count    2000.000000\n",
              " mean        1.500000\n",
              " std         1.118314\n",
              " min         0.000000\n",
              " 25%         0.750000\n",
              " 50%         1.500000\n",
              " 75%         2.250000\n",
              " max         3.000000\n",
              " Name: price_range, dtype: float64,\n",
              " array([1, 2, 3, 0]))"
            ]
          },
          "metadata": {},
          "execution_count": 66
        }
      ]
    },
    {
      "cell_type": "markdown",
      "source": [
        "Transformamos los valores de entrenamiento en un array para poder hacer un gráfico de los puntos separados por las clases del atributo `price range`"
      ],
      "metadata": {
        "id": "sdKAmgIJN84o"
      }
    },
    {
      "cell_type": "code",
      "source": [
        "# plotting the decision boundries for the data \n",
        "#converting the data to array for plotting. \n",
        "X = np.array(dataEntrenamiento.iloc[:,[0,13]])\n",
        "y = np.array(dataEntrenamiento['price_range'])\n",
        "print(\"Shape of X:\"+str(X.shape))\n",
        "print(\"Shape of y:\"+str(y.shape))\n",
        "\n",
        "scaler = StandardScaler()\n",
        "X = scaler.fit_transform(X)"
      ],
      "metadata": {
        "id": "1vku0CaiOQ6a",
        "colab": {
          "base_uri": "https://localhost:8080/"
        },
        "outputId": "256257f7-a1e8-4843-d746-c95214d8c79e"
      },
      "execution_count": null,
      "outputs": [
        {
          "output_type": "stream",
          "name": "stdout",
          "text": [
            "Shape of X:(2000, 2)\n",
            "Shape of y:(2000,)\n"
          ]
        }
      ]
    },
    {
      "cell_type": "code",
      "source": [
        "#Aquí solo se utilizan colores específicos para los puntos, pueden cambiar entre las dos listas de colores en el gráfico\n",
        "cm_dark = ListedColormap(['#ff6060', '#8282ff','#ffaa00','#fff244','#4df9b9','#76e8fc','#3ad628'])\n",
        "cm_bright = ListedColormap(['#ffafaf', '#c6c6ff','#ffaa00','#ffe2a8','#bfffe7','#c9f7ff','#9eff93'])"
      ],
      "metadata": {
        "id": "FsxzhKe2OWtm"
      },
      "execution_count": null,
      "outputs": []
    },
    {
      "cell_type": "markdown",
      "source": [
        "`plot.scatter()`: Esta función se utiliza para crear un gráfico de dispersión, también conocido como diagrama de dispersión. Un gráfico de dispersión muestra la relación entre dos conjuntos de datos, donde cada punto en el gráfico representa un par de valores correspondientes a las variables independientes y dependientes.\n",
        "\n",
        "`show()`: Esta función se utiliza para mostrar los gráficos generados con matplotlib en una ventana o en un entorno interactivo. Una vez que has configurado y personalizado tu gráfico utilizando diferentes funciones de matplotlib, debes llamar a show() para que el gráfico se muestre."
      ],
      "metadata": {
        "id": "6M1_23QDR-Tm"
      }
    },
    {
      "cell_type": "code",
      "source": [
        "plt.scatter(X[:,0],X[:,1],c=y,cmap=cm_dark,s=10,label=y)\n",
        "plt.show()"
      ],
      "metadata": {
        "id": "8Wk6QA9MOZ_l",
        "colab": {
          "base_uri": "https://localhost:8080/",
          "height": 430
        },
        "outputId": "d9df932b-b746-4a23-fd63-acd91782ed8b"
      },
      "execution_count": null,
      "outputs": [
        {
          "output_type": "display_data",
          "data": {
            "text/plain": [
              "<Figure size 640x480 with 1 Axes>"
            ],
            "image/png": "[encoded data removed]"
          },
          "metadata": {}
        }
      ]
    },
    {
      "cell_type": "markdown",
      "source": [
        "En Python, el módulo scikit-learn proporciona la implementación del algoritmo de Máquinas de Vectores de Soporte (SVM) a través de la clase SVC (Support Vector Classifier) para clasificación, que será el que usemos a continuación, y SVR (Support Vector Regressor) para regresión. Estas clases tienen varios parámetros y opciones para ajustar el comportamiento del modelo SVM. A continuación, se detallan los parámetros y opciones más comunes:\n",
        "\n",
        "1. C: Controla el factor de regularización. Un valor más alto de C indica un modelo con un ajuste más estricto a los datos de entrenamiento. Un valor más bajo de C permite un margen más grande y puede generar un modelo más generalizado. El valor predeterminado es 1.0.\n",
        "\n",
        "2. kernel: Especifica el tipo de kernel utilizado en el SVM. Algunas opciones comunes son:\n",
        "\n",
        " * \"linear\": Kernel lineal que utiliza el producto escalar estándar.\n",
        " * \"poly\": Kernel polinómico que utiliza una función polinómica de grado degree.\n",
        " * \"rbf\" (Radial Basis Function): Kernel de función de base radial que utiliza una función de distancia radial.\n",
        " * \"sigmoid\": Kernel sigmoide que utiliza una función sigmoide.\n",
        "\n",
        "3. degree (solo para kernel \"poly\"): Grado del polinomio en el kernel polinómico. El valor predeterminado es 3.\n",
        "\n",
        "4. gamma (coeficiente del kernel) (solo para kernel \"rbf\", \"poly\" y \"sigmoid\"): Controla el ajuste de los datos de entrenamiento. Valores más altos de gamma generan un ajuste más estricto y pueden llevar a un sobreajuste. Valores más bajos de gamma generan un ajuste más suave y pueden llevar a un subajuste. El valor predeterminado es \"scale\" y se calcula como 1 / (n_features * X.var()), donde n_features es el número de características y X.var() es la varianza de los datos de entrenamiento.\n",
        "\n",
        "5. coef0 (solo para kernel \"poly\" y \"sigmoid\"): Constante independiente en las funciones de kernel polinómico y sigmoide. El valor predeterminado es 0.0.\n",
        "\n",
        "Estos son solo algunos de los parámetros más comunes, pero hay otros disponibles. La elección de los parámetros depende del problema específico que estén abordando y puede requerir un ajuste y experimentación adecuados."
      ],
      "metadata": {
        "id": "h_wUpzW1SIFm"
      }
    },
    {
      "cell_type": "code",
      "source": [
        "# Crear el modelo de clasificación SVM\n",
        "svm_classifier = SVC(kernel='rbf', C=1.0)"
      ],
      "metadata": {
        "id": "nP9-tWDzGt-y"
      },
      "execution_count": null,
      "outputs": []
    },
    {
      "cell_type": "markdown",
      "source": [
        "Tomen en cuenta que la \"variable objetivo\" se refiere a la variable que desean predecir o clasificar. También se conoce como la \"variable de respuesta\" o \"variable dependiente\". En el caso de la clasificación, la variable objetivo suele ser una variable categórica o de etiqueta que representa las clases a las que pertenecen los datos de entrada.\n",
        "\n",
        " * Por ejemplo, si están trabajando en un problema de clasificación de correos electrónicos como \"spam\" o \"no spam\", la variable objetivo sería la etiqueta de clasificación que indica si un correo electrónico es spam o no. En este caso, la variable objetivo es una variable categórica binaria.\n",
        "\n",
        "```\n",
        "# Separar los datos en características (X) y variable objetivo (y)\n",
        "X = data.drop('target_variable', axis=1)  # Cambiar 'target_variable' por el nombre de tu variable objetivo\n",
        "y = data['target_variable']\n",
        "```\n",
        "El \"conjunto de características\" o \"conjunto de variables explicativas\" se refiere a las variables que se utilizan para predecir o clasificar la variable objetivo. Estas variables representan las características o atributos de los datos de entrada que se utilizarán para entrenar el modelo SVM.\n",
        "\n",
        " * Continuando con el ejemplo de clasificación de correos electrónicos, las características o variables explicativas pueden incluir el remitente del correo electrónico, el asunto, el contenido, la longitud del mensaje, etc. Estas características se utilizarán para construir el modelo SVM y realizar la clasificación de nuevos correos electrónicos.\n"
      ],
      "metadata": {
        "id": "xLJ3IaHjG3OQ"
      }
    },
    {
      "cell_type": "code",
      "source": [
        "#Separar el conjunto de entrenamiento entre los conjuntos de características\n",
        "X = dataEntrenamiento.drop(['price_range'], axis=1)\n",
        "#Y la variable objetivo\n",
        "y = dataEntrenamiento['price_range']"
      ],
      "metadata": {
        "id": "gohwWfiIHMjD"
      },
      "execution_count": null,
      "outputs": []
    },
    {
      "cell_type": "markdown",
      "source": [
        "La función `train_test_split` en Python, que se encuentra en el módulo sklearn.model_selection de la biblioteca scikit-learn, se utiliza para dividir un conjunto de datos en conjuntos de entrenamiento y prueba. Esta función es ampliamente utilizada en el aprendizaje automático para evaluar el rendimiento de los modelos y evitar el sobreajuste."
      ],
      "metadata": {
        "id": "IeLWOYbeN-Jd"
      }
    },
    {
      "cell_type": "code",
      "source": [
        "# Dividir los datos en conjuntos de entrenamiento y prueba\n",
        "X_train, X_test, y_train, y_test = train_test_split(X, y, test_size=0.2, random_state=42)"
      ],
      "metadata": {
        "id": "yYJ8pvGuHo2m"
      },
      "execution_count": null,
      "outputs": []
    },
    {
      "cell_type": "markdown",
      "source": [
        "X representa el conjunto de características (variables explicativas) y y representa la variable objetivo. test_size indica el tamaño proporcional del conjunto de prueba (por ejemplo, 0.2 para el 20% del conjunto de datos), y random_state se utiliza para establecer una semilla aleatoria y garantizar la reproducibilidad de la división de datos.\n",
        "\n",
        "La función train_test_split devuelve cuatro conjuntos de datos: X_train, X_test, y_train y y_test. Los conjuntos X_train y y_train se utilizan para entrenar el modelo, mientras que los conjuntos X_test y y_test se utilizan para evaluar el rendimiento del modelo.\n",
        "\n",
        "La división realizada por train_test_split se realiza de forma aleatoria, lo que ayuda a garantizar que los conjuntos de entrenamiento y prueba sean representativos y no estén sesgados. Esto es importante para obtener resultados de evaluación confiables del modelo.\n",
        "\n",
        "Es importante tener en cuenta que train_test_split se utiliza principalmente para evaluación inicial de modelos. En situaciones más avanzadas, como la validación cruzada, se pueden utilizar técnicas más sofisticadas para obtener estimaciones más confiables del rendimiento del modelo."
      ],
      "metadata": {
        "id": "v8J80P9QVqvC"
      }
    },
    {
      "cell_type": "markdown",
      "source": [
        "En una máquina de soporte vectorial (SVM), es recomendable escalar los datos de entrenamiento y prueba por varias razones:\n",
        "\n",
        "1. Preservar la consistencia: Al escalar los datos, se asegura que todas las características tengan la misma escala y rango. Esto es importante porque los SVM calculan distancias y productos escalares entre los puntos de datos. Si las características no están en la misma escala, algunas características podrían tener un impacto desproporcionado en el modelo, lo que puede sesgar los resultados.\n",
        "\n",
        "2. Mejorar la convergencia: El proceso de optimización utilizado en los SVM para encontrar el hiperplano óptimo es más efectivo cuando las características están en una escala similar. Esto ayuda a que el algoritmo de optimización converja más rápido y de manera más confiable.\n",
        "\n",
        "3. Mitigar el impacto de valores atípicos: Al escalar los datos, los valores atípicos o extremos en una característica no tendrán un impacto desproporcionado en el modelo SVM. Esto es particularmente importante en SVM lineales, donde los puntos de datos más lejanos (vectores de soporte) influyen en la posición del hiperplano de decisión.\n",
        "\n",
        "4. Interpretación y comparación: Al escalar los datos, los coeficientes de los vectores de soporte pueden tener una interpretación más clara y directa. Además, también facilita la comparación de los efectos relativos de diferentes características en el modelo.\n",
        "\n",
        "Al escalar los datos, se debe aplicar la misma transformación tanto al conjunto de entrenamiento como al conjunto de prueba. Esto garantiza que los datos de prueba se ajusten correctamente al modelo entrenado.\n",
        "\n",
        "La escala más comúnmente utilizada es la normalización (también conocida como escalado a [0, 1]) o la estandarización (escala con media 0 y desviación estándar 1). La elección de la técnica de escala depende del contexto y de las características específicas de los datos.\n",
        "\n",
        "StandardScaler() en Python, es una clase del módulo sklearn.preprocessing de la biblioteca scikit-learn que se utiliza para estandarizar características numéricas al escalarlas a una media cero y una desviación estándar de uno. Este proceso de estandarización ayuda a garantizar que todas las características tengan la misma escala y es útil en varios algoritmos de aprendizaje automático, incluidos los SVM."
      ],
      "metadata": {
        "id": "6N-Of4Q3OCZg"
      }
    },
    {
      "cell_type": "code",
      "source": [
        "# Escalar los datos\n",
        "cols = X_train.columns\n",
        "scaler = StandardScaler()\n",
        "X_train = scaler.fit_transform(X_train)\n",
        "X_test = scaler.transform(X_test)"
      ],
      "metadata": {
        "id": "MiiWkS5eIpxp"
      },
      "execution_count": null,
      "outputs": []
    },
    {
      "cell_type": "markdown",
      "source": [
        "En un clasificador de máquinas de soporte vectorial (SVM), se utiliza un pd.DataFrame como una estructura de datos conveniente para almacenar y manipular los datos de entrada. Un pd.DataFrame es una estructura tabular bidimensional proporcionada por la biblioteca pandas en Python. Proporciona muchas funcionalidades útiles para trabajar con datos estructurados, como la indexación, filtrado, manipulación y agregación de datos."
      ],
      "metadata": {
        "id": "hKK0-6yFOCqZ"
      }
    },
    {
      "cell_type": "code",
      "source": [
        "X_train = pd.DataFrame(X_train, columns=[cols])\n",
        "X_test = pd.DataFrame(X_test, columns=[cols])\n",
        "X_train.describe()"
      ],
      "metadata": {
        "colab": {
          "base_uri": "https://localhost:8080/",
          "height": 434
        },
        "id": "IwMAU-WdIuk0",
        "outputId": "18c87ee0-8149-4dac-c80e-1babb29bfa3f"
      },
      "execution_count": null,
      "outputs": [
        {
          "output_type": "execute_result",
          "data": {
            "text/plain": [
              "      battery_power          blue   clock_speed      dual_sim            fc  \\\n",
              "count  1.600000e+03  1.600000e+03  1.600000e+03  1.600000e+03  1.600000e+03   \n",
              "mean   1.909584e-16 -5.551115e-18 -2.620126e-16 -1.554312e-17  1.110223e-16   \n",
              "std    1.000313e+00  1.000313e+00  1.000313e+00  1.000313e+00  1.000313e+00   \n",
              "min   -1.679133e+00 -9.814225e-01 -1.236230e+00 -1.030464e+00 -9.935611e-01   \n",
              "25%   -8.824736e-01 -9.814225e-01 -1.022798e+00 -1.030464e+00 -7.630365e-01   \n",
              "50%   -2.226278e-02 -9.814225e-01 -1.661722e-02  9.704368e-01 -3.019872e-01   \n",
              "75%    8.583753e-01  1.018929e+00  8.676019e-01  9.704368e-01  6.201112e-01   \n",
              "max    1.718586e+00  1.018929e+00  1.812802e+00  9.704368e-01  3.386407e+00   \n",
              "\n",
              "             four_g    int_memory         m_dep     mobile_wt       n_cores  \\\n",
              "count  1.600000e+03  1.600000e+03  1.600000e+03  1.600000e+03  1.600000e+03   \n",
              "mean   3.996803e-17 -1.709743e-16  2.975398e-16  2.220446e-16 -1.809664e-16   \n",
              "std    1.000313e+00  1.000313e+00  1.000313e+00  1.000313e+00  1.000313e+00   \n",
              "min   -1.046060e+00 -1.664149e+00 -1.403674e+00 -1.716351e+00 -1.547446e+00   \n",
              "25%   -1.046060e+00 -8.944732e-01 -1.054989e+00 -8.954521e-01 -6.737997e-01   \n",
              "50%    9.559684e-01  1.264467e-02 -8.935045e-03  1.036739e-02 -2.369765e-01   \n",
              "75%    9.559684e-01  8.647857e-01  1.037119e+00  8.595732e-01  1.073493e+00   \n",
              "max    9.559684e-01  1.744415e+00  1.734488e+00  1.680472e+00  1.510316e+00   \n",
              "\n",
              "                 pc     px_height      px_width           ram          sc_h  \\\n",
              "count  1.600000e+03  1.600000e+03  1.600000e+03  1.600000e+03  1.600000e+03   \n",
              "mean  -1.132427e-16 -1.243450e-16 -1.665335e-16  9.325873e-17 -1.532108e-16   \n",
              "std    1.000313e+00  1.000313e+00  1.000313e+00  1.000313e+00  1.000313e+00   \n",
              "min   -1.642804e+00 -1.446732e+00 -1.736440e+00 -1.719897e+00 -1.717388e+00   \n",
              "25%   -8.112676e-01 -8.179388e-01 -8.694853e-01 -8.361749e-01 -7.659267e-01   \n",
              "50%    2.026870e-02 -2.014972e-01 -1.759842e-02 -5.212318e-03 -5.233040e-02   \n",
              "75%    8.518049e-01  6.765671e-01  8.742750e-01  8.569895e-01  8.991314e-01   \n",
              "max    1.683341e+00  2.954818e+00  1.736014e+00  1.741869e+00  1.612728e+00   \n",
              "\n",
              "               sc_w     talk_time       three_g  touch_screen          wifi  \n",
              "count  1.600000e+03  1.600000e+03  1.600000e+03  1.600000e+03  1.600000e+03  \n",
              "mean  -1.021405e-16 -2.775558e-17 -1.382228e-16  8.881784e-18 -2.886580e-17  \n",
              "std    1.000313e+00  1.000313e+00  1.000313e+00  1.000313e+00  1.000313e+00  \n",
              "min   -1.315416e+00 -1.626742e+00 -1.794892e+00 -1.010051e+00 -9.975031e-01  \n",
              "25%   -8.543214e-01 -9.002645e-01  5.571367e-01 -1.010051e+00 -9.975031e-01  \n",
              "50%   -1.626798e-01  7.832335e-03  5.571367e-01  9.900495e-01 -9.975031e-01  \n",
              "75%    7.595088e-01  9.159292e-01  5.571367e-01  9.900495e-01  1.002503e+00  \n",
              "max    2.834433e+00  1.642407e+00  5.571367e-01  9.900495e-01  1.002503e+00  "
            ],
            "text/html": [
              "\n",
              "  <div id=\"df-89a90b7a-9c66-4648-ba75-05f48b90d6dd\">\n",
              "    <div class=\"colab-df-container\">\n",
              "      <div>\n",
              "<style scoped>\n",
              "    .dataframe tbody tr th:only-of-type {\n",
              "        vertical-align: middle;\n",
              "    }\n",
              "\n",
              "    .dataframe tbody tr th {\n",
              "        vertical-align: top;\n",
              "    }\n",
              "\n",
              "    .dataframe thead tr th {\n",
              "        text-align: left;\n",
              "    }\n",
              "</style>\n",
              "<table border=\"1\" class=\"dataframe\">\n",
              "  <thead>\n",
              "    <tr>\n",
              "      <th></th>\n",
              "      <th>battery_power</th>\n",
              "      <th>blue</th>\n",
              "      <th>clock_speed</th>\n",
              "      <th>dual_sim</th>\n",
              "      <th>fc</th>\n",
              "      <th>four_g</th>\n",
              "      <th>int_memory</th>\n",
              "      <th>m_dep</th>\n",
              "      <th>mobile_wt</th>\n",
              "      <th>n_cores</th>\n",
              "      <th>pc</th>\n",
              "      <th>px_height</th>\n",
              "      <th>px_width</th>\n",
              "      <th>ram</th>\n",
              "      <th>sc_h</th>\n",
              "      <th>sc_w</th>\n",
              "      <th>talk_time</th>\n",
              "      <th>three_g</th>\n",
              "      <th>touch_screen</th>\n",
              "      <th>wifi</th>\n",
              "    </tr>\n",
              "  </thead>\n",
              "  <tbody>\n",
              "    <tr>\n",
              "      <th>count</th>\n",
              "      <td>1.600000e+03</td>\n",
              "      <td>1.600000e+03</td>\n",
              "      <td>1.600000e+03</td>\n",
              "      <td>1.600000e+03</td>\n",
              "      <td>1.600000e+03</td>\n",
              "      <td>1.600000e+03</td>\n",
              "      <td>1.600000e+03</td>\n",
              "      <td>1.600000e+03</td>\n",
              "      <td>1.600000e+03</td>\n",
              "      <td>1.600000e+03</td>\n",
              "      <td>1.600000e+03</td>\n",
              "      <td>1.600000e+03</td>\n",
              "      <td>1.600000e+03</td>\n",
              "      <td>1.600000e+03</td>\n",
              "      <td>1.600000e+03</td>\n",
              "      <td>1.600000e+03</td>\n",
              "      <td>1.600000e+03</td>\n",
              "      <td>1.600000e+03</td>\n",
              "      <td>1.600000e+03</td>\n",
              "      <td>1.600000e+03</td>\n",
              "    </tr>\n",
              "    <tr>\n",
              "      <th>mean</th>\n",
              "      <td>1.909584e-16</td>\n",
              "      <td>-5.551115e-18</td>\n",
              "      <td>-2.620126e-16</td>\n",
              "      <td>-1.554312e-17</td>\n",
              "      <td>1.110223e-16</td>\n",
              "      <td>3.996803e-17</td>\n",
              "      <td>-1.709743e-16</td>\n",
              "      <td>2.975398e-16</td>\n",
              "      <td>2.220446e-16</td>\n",
              "      <td>-1.809664e-16</td>\n",
              "      <td>-1.132427e-16</td>\n",
              "      <td>-1.243450e-16</td>\n",
              "      <td>-1.665335e-16</td>\n",
              "      <td>9.325873e-17</td>\n",
              "      <td>-1.532108e-16</td>\n",
              "      <td>-1.021405e-16</td>\n",
              "      <td>-2.775558e-17</td>\n",
              "      <td>-1.382228e-16</td>\n",
              "      <td>8.881784e-18</td>\n",
              "      <td>-2.886580e-17</td>\n",
              "    </tr>\n",
              "    <tr>\n",
              "      <th>std</th>\n",
              "      <td>1.000313e+00</td>\n",
              "      <td>1.000313e+00</td>\n",
              "      <td>1.000313e+00</td>\n",
              "      <td>1.000313e+00</td>\n",
              "      <td>1.000313e+00</td>\n",
              "      <td>1.000313e+00</td>\n",
              "      <td>1.000313e+00</td>\n",
              "      <td>1.000313e+00</td>\n",
              "      <td>1.000313e+00</td>\n",
              "      <td>1.000313e+00</td>\n",
              "      <td>1.000313e+00</td>\n",
              "      <td>1.000313e+00</td>\n",
              "      <td>1.000313e+00</td>\n",
              "      <td>1.000313e+00</td>\n",
              "      <td>1.000313e+00</td>\n",
              "      <td>1.000313e+00</td>\n",
              "      <td>1.000313e+00</td>\n",
              "      <td>1.000313e+00</td>\n",
              "      <td>1.000313e+00</td>\n",
              "      <td>1.000313e+00</td>\n",
              "    </tr>\n",
              "    <tr>\n",
              "      <th>min</th>\n",
              "      <td>-1.679133e+00</td>\n",
              "      <td>-9.814225e-01</td>\n",
              "      <td>-1.236230e+00</td>\n",
              "      <td>-1.030464e+00</td>\n",
              "      <td>-9.935611e-01</td>\n",
              "      <td>-1.046060e+00</td>\n",
              "      <td>-1.664149e+00</td>\n",
              "      <td>-1.403674e+00</td>\n",
              "      <td>-1.716351e+00</td>\n",
              "      <td>-1.547446e+00</td>\n",
              "      <td>-1.642804e+00</td>\n",
              "      <td>-1.446732e+00</td>\n",
              "      <td>-1.736440e+00</td>\n",
              "      <td>-1.719897e+00</td>\n",
              "      <td>-1.717388e+00</td>\n",
              "      <td>-1.315416e+00</td>\n",
              "      <td>-1.626742e+00</td>\n",
              "      <td>-1.794892e+00</td>\n",
              "      <td>-1.010051e+00</td>\n",
              "      <td>-9.975031e-01</td>\n",
              "    </tr>\n",
              "    <tr>\n",
              "      <th>25%</th>\n",
              "      <td>-8.824736e-01</td>\n",
              "      <td>-9.814225e-01</td>\n",
              "      <td>-1.022798e+00</td>\n",
              "      <td>-1.030464e+00</td>\n",
              "      <td>-7.630365e-01</td>\n",
              "      <td>-1.046060e+00</td>\n",
              "      <td>-8.944732e-01</td>\n",
              "      <td>-1.054989e+00</td>\n",
              "      <td>-8.954521e-01</td>\n",
              "      <td>-6.737997e-01</td>\n",
              "      <td>-8.112676e-01</td>\n",
              "      <td>-8.179388e-01</td>\n",
              "      <td>-8.694853e-01</td>\n",
              "      <td>-8.361749e-01</td>\n",
              "      <td>-7.659267e-01</td>\n",
              "      <td>-8.543214e-01</td>\n",
              "      <td>-9.002645e-01</td>\n",
              "      <td>5.571367e-01</td>\n",
              "      <td>-1.010051e+00</td>\n",
              "      <td>-9.975031e-01</td>\n",
              "    </tr>\n",
              "    <tr>\n",
              "      <th>50%</th>\n",
              "      <td>-2.226278e-02</td>\n",
              "      <td>-9.814225e-01</td>\n",
              "      <td>-1.661722e-02</td>\n",
              "      <td>9.704368e-01</td>\n",
              "      <td>-3.019872e-01</td>\n",
              "      <td>9.559684e-01</td>\n",
              "      <td>1.264467e-02</td>\n",
              "      <td>-8.935045e-03</td>\n",
              "      <td>1.036739e-02</td>\n",
              "      <td>-2.369765e-01</td>\n",
              "      <td>2.026870e-02</td>\n",
              "      <td>-2.014972e-01</td>\n",
              "      <td>-1.759842e-02</td>\n",
              "      <td>-5.212318e-03</td>\n",
              "      <td>-5.233040e-02</td>\n",
              "      <td>-1.626798e-01</td>\n",
              "      <td>7.832335e-03</td>\n",
              "      <td>5.571367e-01</td>\n",
              "      <td>9.900495e-01</td>\n",
              "      <td>-9.975031e-01</td>\n",
              "    </tr>\n",
              "    <tr>\n",
              "      <th>75%</th>\n",
              "      <td>8.583753e-01</td>\n",
              "      <td>1.018929e+00</td>\n",
              "      <td>8.676019e-01</td>\n",
              "      <td>9.704368e-01</td>\n",
              "      <td>6.201112e-01</td>\n",
              "      <td>9.559684e-01</td>\n",
              "      <td>8.647857e-01</td>\n",
              "      <td>1.037119e+00</td>\n",
              "      <td>8.595732e-01</td>\n",
              "      <td>1.073493e+00</td>\n",
              "      <td>8.518049e-01</td>\n",
              "      <td>6.765671e-01</td>\n",
              "      <td>8.742750e-01</td>\n",
              "      <td>8.569895e-01</td>\n",
              "      <td>8.991314e-01</td>\n",
              "      <td>7.595088e-01</td>\n",
              "      <td>9.159292e-01</td>\n",
              "      <td>5.571367e-01</td>\n",
              "      <td>9.900495e-01</td>\n",
              "      <td>1.002503e+00</td>\n",
              "    </tr>\n",
              "    <tr>\n",
              "      <th>max</th>\n",
              "      <td>1.718586e+00</td>\n",
              "      <td>1.018929e+00</td>\n",
              "      <td>1.812802e+00</td>\n",
              "      <td>9.704368e-01</td>\n",
              "      <td>3.386407e+00</td>\n",
              "      <td>9.559684e-01</td>\n",
              "      <td>1.744415e+00</td>\n",
              "      <td>1.734488e+00</td>\n",
              "      <td>1.680472e+00</td>\n",
              "      <td>1.510316e+00</td>\n",
              "      <td>1.683341e+00</td>\n",
              "      <td>2.954818e+00</td>\n",
              "      <td>1.736014e+00</td>\n",
              "      <td>1.741869e+00</td>\n",
              "      <td>1.612728e+00</td>\n",
              "      <td>2.834433e+00</td>\n",
              "      <td>1.642407e+00</td>\n",
              "      <td>5.571367e-01</td>\n",
              "      <td>9.900495e-01</td>\n",
              "      <td>1.002503e+00</td>\n",
              "    </tr>\n",
              "  </tbody>\n",
              "</table>\n",
              "</div>\n",
              "      <button class=\"colab-df-convert\" onclick=\"convertToInteractive('df-89a90b7a-9c66-4648-ba75-05f48b90d6dd')\"\n",
              "              title=\"Convert this dataframe to an interactive table.\"\n",
              "              style=\"display:none;\">\n",
              "        \n",
              "  <svg xmlns=\"http://www.w3.org/2000/svg\" height=\"24px\"viewBox=\"0 0 24 24\"\n",
              "       width=\"24px\">\n",
              "    <path d=\"M0 0h24v24H0V0z\" fill=\"none\"/>\n",
              "    <path d=\"M18.56 5.44l.94 2.06.94-2.06 2.06-.94-2.06-.94-.94-2.06-.94 2.06-2.06.94zm-11 1L8.5 8.5l.94-2.06 2.06-.94-2.06-.94L8.5 2.5l-.94 2.06-2.06.94zm10 10l.94 2.06.94-2.06 2.06-.94-2.06-.94-.94-2.06-.94 2.06-2.06.94z\"/><path d=\"M17.41 7.96l-1.37-1.37c-.4-.4-.92-.59-1.43-.59-.52 0-1.04.2-1.43.59L10.3 9.45l-7.72 7.72c-.78.78-.78 2.05 0 2.83L4 21.41c.39.39.9.59 1.41.59.51 0 1.02-.2 1.41-.59l7.78-7.78 2.81-2.81c.8-.78.8-2.07 0-2.86zM5.41 20L4 18.59l7.72-7.72 1.47 1.35L5.41 20z\"/>\n",
              "  </svg>\n",
              "      </button>\n",
              "      \n",
              "  <style>\n",
              "    .colab-df-container {\n",
              "      display:flex;\n",
              "      flex-wrap:wrap;\n",
              "      gap: 12px;\n",
              "    }\n",
              "\n",
              "    .colab-df-convert {\n",
              "      background-color: #E8F0FE;\n",
              "      border: none;\n",
              "      border-radius: 50%;\n",
              "      cursor: pointer;\n",
              "      display: none;\n",
              "      fill: #1967D2;\n",
              "      height: 32px;\n",
              "      padding: 0 0 0 0;\n",
              "      width: 32px;\n",
              "    }\n",
              "\n",
              "    .colab-df-convert:hover {\n",
              "      background-color: #E2EBFA;\n",
              "      box-shadow: 0px 1px 2px rgba(60, 64, 67, 0.3), 0px 1px 3px 1px rgba(60, 64, 67, 0.15);\n",
              "      fill: #174EA6;\n",
              "    }\n",
              "\n",
              "    [theme=dark] .colab-df-convert {\n",
              "      background-color: #3B4455;\n",
              "      fill: #D2E3FC;\n",
              "    }\n",
              "\n",
              "    [theme=dark] .colab-df-convert:hover {\n",
              "      background-color: #434B5C;\n",
              "      box-shadow: 0px 1px 3px 1px rgba(0, 0, 0, 0.15);\n",
              "      filter: drop-shadow(0px 1px 2px rgba(0, 0, 0, 0.3));\n",
              "      fill: #FFFFFF;\n",
              "    }\n",
              "  </style>\n",
              "\n",
              "      <script>\n",
              "        const buttonEl =\n",
              "          document.querySelector('#df-89a90b7a-9c66-4648-ba75-05f48b90d6dd button.colab-df-convert');\n",
              "        buttonEl.style.display =\n",
              "          google.colab.kernel.accessAllowed ? 'block' : 'none';\n",
              "\n",
              "        async function convertToInteractive(key) {\n",
              "          const element = document.querySelector('#df-89a90b7a-9c66-4648-ba75-05f48b90d6dd');\n",
              "          const dataTable =\n",
              "            await google.colab.kernel.invokeFunction('convertToInteractive',\n",
              "                                                     [key], {});\n",
              "          if (!dataTable) return;\n",
              "\n",
              "          const docLinkHtml = 'Like what you see? Visit the ' +\n",
              "            '<a target=\"_blank\" href=https://colab.research.google.com/notebooks/data_table.ipynb>data table notebook</a>'\n",
              "            + ' to learn more about interactive tables.';\n",
              "          element.innerHTML = '';\n",
              "          dataTable['output_type'] = 'display_data';\n",
              "          await google.colab.output.renderOutput(dataTable, element);\n",
              "          const docLink = document.createElement('div');\n",
              "          docLink.innerHTML = docLinkHtml;\n",
              "          element.appendChild(docLink);\n",
              "        }\n",
              "      </script>\n",
              "    </div>\n",
              "  </div>\n",
              "  "
            ]
          },
          "metadata": {},
          "execution_count": 74
        }
      ]
    },
    {
      "cell_type": "markdown",
      "source": [
        "La función svm_classifier.fit(X, y) se utiliza en scikit-learn para entrenar un clasificador de Máquinas de Vectores de Soporte (SVM). Esta función ajusta el modelo SVM a los datos de entrenamiento X y las etiquetas de clase correspondientes y.\n",
        "\n",
        "El proceso de ajuste implica encontrar el hiperplano óptimo que separa las clases en el espacio de características. El clasificador SVM busca el hiperplano de separación maximizando el margen entre las muestras de entrenamiento más cercanas a él, que son conocidas como vectores de soporte.\n",
        "\n",
        "#### ¿cómo funciona svm_classifier.fit()?\n",
        "\n",
        "1. Preparación de los datos: Antes de llamar a fit(), es importante asegurarse de que los datos de entrenamiento X y las etiquetas de clase y estén en el formato adecuado. X debe ser una matriz de características, donde cada fila representa una muestra y cada columna representa una característica. y debe ser una matriz o una lista que contenga las etiquetas correspondientes a las muestras de X.\n",
        "\n",
        "2. Ajuste del modelo: Al llamar a svm_classifier.fit(X, y), se inicia el proceso de ajuste del modelo. Durante este proceso, el clasificador SVM utiliza un algoritmo de optimización para encontrar los parámetros óptimos que definen el hiperplano de separación.\n",
        "\n",
        "3. Optimización: El algoritmo de optimización utilizado en SVM busca encontrar los valores óptimos de los pesos w y el término de sesgo b en la función de decisión. Estos parámetros determinan la ubicación y orientación del hiperplano de separación.\n",
        "\n",
        "4. Cálculo de los vectores de soporte: Durante la optimización, el clasificador SVM identifica los vectores de soporte, que son las muestras de entrenamiento más cercanas al hiperplano de separación. Estos vectores de soporte son cruciales para el funcionamiento del clasificador, ya que definen la ubicación del hiperplano y se utilizan para realizar predicciones.\n",
        "\n",
        "5. Finalización del ajuste: Una vez que se completa la optimización, el modelo SVM ha sido ajustado a los datos de entrenamiento. Ahora está listo para realizar predicciones en nuevos datos utilizando la función svm_classifier.predict(X_new).\n",
        "\n",
        "El proceso de ajuste puede variar dependiendo de los parámetros específicos que se utilicen en el clasificador SVM, como el tipo de kernel, los parámetros de regularización y otros ajustes relacionados. Es recomendable consultar la documentación de scikit-learn para obtener detalles sobre los parámetros y opciones específicas del clasificador SVM que estén utilizando."
      ],
      "metadata": {
        "id": "No-0jNd8OEum"
      }
    },
    {
      "cell_type": "code",
      "source": [
        "#Entrenamos el clasificador\n",
        "svm_classifier.fit(X_train,y_train)"
      ],
      "metadata": {
        "colab": {
          "base_uri": "https://localhost:8080/",
          "height": 75
        },
        "id": "_IXe_6G_I3yU",
        "outputId": "c6e29ac0-6cdd-4860-f531-65c01e0015c7"
      },
      "execution_count": null,
      "outputs": [
        {
          "output_type": "execute_result",
          "data": {
            "text/plain": [
              "SVC()"
            ],
            "text/html": [
              "<style>#sk-container-id-4 {color: black;background-color: white;}#sk-container-id-4 pre{padding: 0;}#sk-container-id-4 div.sk-toggleable {background-color: white;}#sk-container-id-4 label.sk-toggleable__label {cursor: pointer;display: block;width: 100%;margin-bottom: 0;padding: 0.3em;box-sizing: border-box;text-align: center;}#sk-container-id-4 label.sk-toggleable__label-arrow:before {content: \"▸\";float: left;margin-right: 0.25em;color: #696969;}#sk-container-id-4 label.sk-toggleable__label-arrow:hover:before {color: black;}#sk-container-id-4 div.sk-estimator:hover label.sk-toggleable__label-arrow:before {color: black;}#sk-container-id-4 div.sk-toggleable__content {max-height: 0;max-width: 0;overflow: hidden;text-align: left;background-color: #f0f8ff;}#sk-container-id-4 div.sk-toggleable__content pre {margin: 0.2em;color: black;border-radius: 0.25em;background-color: #f0f8ff;}#sk-container-id-4 input.sk-toggleable__control:checked~div.sk-toggleable__content {max-height: 200px;max-width: 100%;overflow: auto;}#sk-container-id-4 input.sk-toggleable__control:checked~label.sk-toggleable__label-arrow:before {content: \"▾\";}#sk-container-id-4 div.sk-estimator input.sk-toggleable__control:checked~label.sk-toggleable__label {background-color: #d4ebff;}#sk-container-id-4 div.sk-label input.sk-toggleable__control:checked~label.sk-toggleable__label {background-color: #d4ebff;}#sk-container-id-4 input.sk-hidden--visually {border: 0;clip: rect(1px 1px 1px 1px);clip: rect(1px, 1px, 1px, 1px);height: 1px;margin: -1px;overflow: hidden;padding: 0;position: absolute;width: 1px;}#sk-container-id-4 div.sk-estimator {font-family: monospace;background-color: #f0f8ff;border: 1px dotted black;border-radius: 0.25em;box-sizing: border-box;margin-bottom: 0.5em;}#sk-container-id-4 div.sk-estimator:hover {background-color: #d4ebff;}#sk-container-id-4 div.sk-parallel-item::after {content: \"\";width: 100%;border-bottom: 1px solid gray;flex-grow: 1;}#sk-container-id-4 div.sk-label:hover label.sk-toggleable__label {background-color: #d4ebff;}#sk-container-id-4 div.sk-serial::before {content: \"\";position: absolute;border-left: 1px solid gray;box-sizing: border-box;top: 0;bottom: 0;left: 50%;z-index: 0;}#sk-container-id-4 div.sk-serial {display: flex;flex-direction: column;align-items: center;background-color: white;padding-right: 0.2em;padding-left: 0.2em;position: relative;}#sk-container-id-4 div.sk-item {position: relative;z-index: 1;}#sk-container-id-4 div.sk-parallel {display: flex;align-items: stretch;justify-content: center;background-color: white;position: relative;}#sk-container-id-4 div.sk-item::before, #sk-container-id-4 div.sk-parallel-item::before {content: \"\";position: absolute;border-left: 1px solid gray;box-sizing: border-box;top: 0;bottom: 0;left: 50%;z-index: -1;}#sk-container-id-4 div.sk-parallel-item {display: flex;flex-direction: column;z-index: 1;position: relative;background-color: white;}#sk-container-id-4 div.sk-parallel-item:first-child::after {align-self: flex-end;width: 50%;}#sk-container-id-4 div.sk-parallel-item:last-child::after {align-self: flex-start;width: 50%;}#sk-container-id-4 div.sk-parallel-item:only-child::after {width: 0;}#sk-container-id-4 div.sk-dashed-wrapped {border: 1px dashed gray;margin: 0 0.4em 0.5em 0.4em;box-sizing: border-box;padding-bottom: 0.4em;background-color: white;}#sk-container-id-4 div.sk-label label {font-family: monospace;font-weight: bold;display: inline-block;line-height: 1.2em;}#sk-container-id-4 div.sk-label-container {text-align: center;}#sk-container-id-4 div.sk-container {/* jupyter's `normalize.less` sets `[hidden] { display: none; }` but bootstrap.min.css set `[hidden] { display: none !important; }` so we also need the `!important` here to be able to override the default hidden behavior on the sphinx rendered scikit-learn.org. See: https://github.com/scikit-learn/scikit-learn/issues/21755 */display: inline-block !important;position: relative;}#sk-container-id-4 div.sk-text-repr-fallback {display: none;}</style><div id=\"sk-container-id-4\" class=\"sk-top-container\"><div class=\"sk-text-repr-fallback\"><pre>SVC()</pre><b>In a Jupyter environment, please rerun this cell to show the HTML representation or trust the notebook. <br />On GitHub, the HTML representation is unable to render, please try loading this page with nbviewer.org.</b></div><div class=\"sk-container\" hidden><div class=\"sk-item\"><div class=\"sk-estimator sk-toggleable\"><input class=\"sk-toggleable__control sk-hidden--visually\" id=\"sk-estimator-id-4\" type=\"checkbox\" checked><label for=\"sk-estimator-id-4\" class=\"sk-toggleable__label sk-toggleable__label-arrow\">SVC</label><div class=\"sk-toggleable__content\"><pre>SVC()</pre></div></div></div></div></div>"
            ]
          },
          "metadata": {},
          "execution_count": 75
        }
      ]
    },
    {
      "cell_type": "markdown",
      "source": [
        "La función svm_classifier.predict(X) en Python se utiliza para realizar predicciones utilizando un clasificador de Máquinas de Vectores de Soporte (SVM). Dado un conjunto de datos de entrada X, esta función devuelve las etiquetas de clase predichas por el modelo SVM.\n",
        "\n",
        "#### ¿cómo funciona svm_classifier.predict()?\n",
        "\n",
        "1. Preparación de los datos: Antes de llamar a predict(), es importante asegurarse de que los datos de entrada X estén en el formato adecuado. X debe ser una matriz de características, donde cada fila representa una muestra y cada columna representa una característica.\n",
        "\n",
        "2. Extracción de características: Si se realizaron transformaciones o ajustes a los datos de entrenamiento antes de ajustar el modelo SVM (por ejemplo, escalamiento de características), es importante aplicar las mismas transformaciones a los datos de prueba antes de realizar predicciones. Esto garantiza que los datos de prueba se ajusten correctamente al modelo entrenado.\n",
        "\n",
        "3. Predicción: Al llamar a svm_classifier.predict(X), se realiza la predicción utilizando el modelo SVM entrenado. El clasificador SVM utiliza el hiperplano de separación óptimo y los vectores de soporte identificados durante el entrenamiento para determinar las etiquetas de clase predichas para las muestras de entrada X.\n",
        "\n",
        "4. Etiquetas de clase: La función predict() devuelve una matriz o una lista que contiene las etiquetas de clase predichas para las muestras de entrada X. Cada etiqueta de clase representa la clase a la que se predice que pertenece una muestra en particular.\n",
        "\n",
        "A continuación usamos la función predict() para el dataset de pruebas que teníamos ya conformado:"
      ],
      "metadata": {
        "id": "X91NUX3zOGuY"
      }
    },
    {
      "cell_type": "code",
      "source": [
        "#Hacemos las predicciones con el set de pruebas\n",
        "y_pred = svm_classifier.predict(X_test)"
      ],
      "metadata": {
        "id": "_ZmgEFUVJMtE"
      },
      "execution_count": null,
      "outputs": []
    },
    {
      "cell_type": "markdown",
      "source": [
        "La función accuracy_score(y_true, y_pred) se utiliza en scikit-learn para calcular la precisión de las predicciones de un modelo de clasificación, incluyendo un modelo SVM.\n",
        "\n",
        "* Datos de entrada: Antes de llamar a accuracy_score(), necesitas tener dos conjuntos de etiquetas de clase: y_true y y_pred.\n",
        "\n",
        " * y_true es una matriz o una lista que contiene las etiquetas de clase reales o verdaderas para un conjunto de datos.\n",
        " * y_pred es una matriz o una lista que contiene las etiquetas de clase predichas por el modelo SVM para el mismo conjunto de datos.\n",
        "\n",
        "* Comparación de etiquetas: La función accuracy_score() compara las etiquetas de clase reales (y_true) con las etiquetas de clase predichas (y_pred), elemento por elemento.\n",
        "\n",
        "* Cálculo de precisión: Para calcular la precisión, accuracy_score() cuenta el número de predicciones correctas y lo divide por el número total de predicciones. Esto se realiza mediante la fórmula:\n",
        "\n",
        "```\n",
        "precision = (Número de predicciones correctas) / (Número total de predicciones)\n",
        "```\n",
        "\n",
        "* Valor de retorno: La función accuracy_score() devuelve un solo valor que representa la precisión del modelo SVM en términos de la fracción de predicciones correctas.\n",
        "\n",
        "La precisión resultante será un número entre 0 y 1, donde un valor más cercano a 1 indica una mayor precisión en las predicciones del modelo SVM."
      ],
      "metadata": {
        "id": "m838_uDzOHSc"
      }
    },
    {
      "cell_type": "code",
      "source": [
        "# compute and print accuracy score\n",
        "print('Model accuracy score with default hyperparameters: {0:0.4f}'.format(accuracy_score(y_test, y_pred)))"
      ],
      "metadata": {
        "colab": {
          "base_uri": "https://localhost:8080/"
        },
        "id": "97bWo39_JUMd",
        "outputId": "4de98cca-d9bf-43e5-a4d6-a827ec498777"
      },
      "execution_count": null,
      "outputs": [
        {
          "output_type": "stream",
          "name": "stdout",
          "text": [
            "Model accuracy score with default hyperparameters: 0.8925\n"
          ]
        }
      ]
    },
    {
      "cell_type": "markdown",
      "source": [
        "Por último, aquí un ejemplo rápido de entrenamiento y predicción con su presición para que puedan definir varios parámetros y funciones de kernel para obtener un mejor resultado según los datos de entrenamiento graficados anterioremente:"
      ],
      "metadata": {
        "id": "sge7dtjjOHu1"
      }
    },
    {
      "cell_type": "code",
      "source": [
        "# instantiate classifier with rbf kernel and C=100\n",
        "svm_classifier = SVC(kernel='linear', C=100.0)\n",
        "svm_classifier.fit(X_train,y_train)\n",
        "y_pred=svm_classifier.predict(X_test)\n",
        "# compute and print accuracy score\n",
        "print('Model accuracy score with rbf kernel and C=100.0 : {0:0.4f}'.format(accuracy_score(y_test, y_pred)))"
      ],
      "metadata": {
        "colab": {
          "base_uri": "https://localhost:8080/"
        },
        "id": "_sqawHl2JrF9",
        "outputId": "7e537ee3-be35-44c2-90b3-c48c8d61deff"
      },
      "execution_count": null,
      "outputs": [
        {
          "output_type": "stream",
          "name": "stdout",
          "text": [
            "Model accuracy score with rbf kernel and C=100.0 : 0.9750\n"
          ]
        }
      ]
    },
    {
      "cell_type": "markdown",
      "source": [
        "## Support Vector Machines: Ejercicio Práctico\n",
        "\n",
        "Bajo la misma metodología de los laboratorios pasados, busquen un dataset para aplicar lo aprendido y predecir una variable objetivo del mismo. Para este laboratorio:\n",
        "\n",
        "1. Buscar un dataset y utilizarlo con las técnicas aprendidas en este ejercicio.\n",
        "2. Aplicar preprocesamiento de datos de ser necesario para ordenar el dataset para su mejor aplicación del ejercicio.\n",
        "3. Dividir el dataset en un conjunto de pruebas y otro de entrenamiento según lo definan sea mejor para su caso. \n",
        "4. Crear y utilizar una máquina de soporte vectorial para clasificación\n",
        "5. Utilizar el dataset de entrenamiento para entrenar el clasificador\n",
        "6. Realizar las pruebas con el conjunto que separaron.\n",
        "7. Desplegar la precisión que con los parámetros y función de kernel con la que lograron una mejor predicción general.\n",
        "8. Para cada punto anterior, separan el código con una explicación de lo realizado y aprendido en el apartado.  "
      ],
      "metadata": {
        "id": "3KPnm1WIY8mg"
      }
    },
    {
      "cell_type": "markdown",
      "source": [
        "###Ejercicio Práctico\n",
        "####Explicación / Conclusiones del apartado"
      ],
      "metadata": {
        "id": "BVLj7L61acbn"
      }
    },
    {
      "cell_type": "markdown",
      "source": [
        "#### Carga del dataset"
      ],
      "metadata": {
        "id": "mRE2B7bo4hwk"
      }
    },
    {
      "cell_type": "markdown",
      "source": [
        "Se utilizará un conjunto de datos sobre la predicción de la calidad del vino. Puede consultarse el dataset haciendo click [aquí](https://www.kaggle.com/datasets/yasserh/wine-quality-dataset)"
      ],
      "metadata": {
        "id": "OIy_qYij4lai"
      }
    },
    {
      "cell_type": "code",
      "source": [
        "# Código\n",
        "# Se carga el dataset directamente desde google drive\n",
        "from google.colab import drive\n",
        "drive.mount('/content/drive')"
      ],
      "metadata": {
        "colab": {
          "base_uri": "https://localhost:8080/"
        },
        "id": "b4WqnYqF5kbs",
        "outputId": "50260353-4aa8-485b-b0c5-3f587c57eaa9"
      },
      "execution_count": null,
      "outputs": [
        {
          "output_type": "stream",
          "name": "stdout",
          "text": [
            "Drive already mounted at /content/drive; to attempt to forcibly remount, call drive.mount(\"/content/drive\", force_remount=True).\n"
          ]
        }
      ]
    },
    {
      "cell_type": "code",
      "source": [
        "df = pd.read_csv('/content/drive/MyDrive/datasets/WineQT.csv')"
      ],
      "metadata": {
        "id": "lzFbKZGA5vaU"
      },
      "execution_count": null,
      "outputs": []
    },
    {
      "cell_type": "markdown",
      "source": [
        "Se muestran los primeros 10 registros del dataset."
      ],
      "metadata": {
        "id": "B0W5mgOy6n17"
      }
    },
    {
      "cell_type": "code",
      "source": [
        "df.head(10)"
      ],
      "metadata": {
        "colab": {
          "base_uri": "https://localhost:8080/",
          "height": 363
        },
        "id": "75sA6MQb6qZD",
        "outputId": "61d16ee5-bee1-4d2f-e5f7-889ef080a761"
      },
      "execution_count": null,
      "outputs": [
        {
          "output_type": "execute_result",
          "data": {
            "text/plain": [
              "   fixed acidity  volatile acidity  citric acid  residual sugar  chlorides  \\\n",
              "0            7.4              0.70         0.00             1.9      0.076   \n",
              "1            7.8              0.88         0.00             2.6      0.098   \n",
              "2            7.8              0.76         0.04             2.3      0.092   \n",
              "3           11.2              0.28         0.56             1.9      0.075   \n",
              "4            7.4              0.70         0.00             1.9      0.076   \n",
              "5            7.4              0.66         0.00             1.8      0.075   \n",
              "6            7.9              0.60         0.06             1.6      0.069   \n",
              "7            7.3              0.65         0.00             1.2      0.065   \n",
              "8            7.8              0.58         0.02             2.0      0.073   \n",
              "9            6.7              0.58         0.08             1.8      0.097   \n",
              "\n",
              "   free sulfur dioxide  total sulfur dioxide  density    pH  sulphates  \\\n",
              "0                 11.0                  34.0   0.9978  3.51       0.56   \n",
              "1                 25.0                  67.0   0.9968  3.20       0.68   \n",
              "2                 15.0                  54.0   0.9970  3.26       0.65   \n",
              "3                 17.0                  60.0   0.9980  3.16       0.58   \n",
              "4                 11.0                  34.0   0.9978  3.51       0.56   \n",
              "5                 13.0                  40.0   0.9978  3.51       0.56   \n",
              "6                 15.0                  59.0   0.9964  3.30       0.46   \n",
              "7                 15.0                  21.0   0.9946  3.39       0.47   \n",
              "8                  9.0                  18.0   0.9968  3.36       0.57   \n",
              "9                 15.0                  65.0   0.9959  3.28       0.54   \n",
              "\n",
              "   alcohol  quality  Id  \n",
              "0      9.4        5   0  \n",
              "1      9.8        5   1  \n",
              "2      9.8        5   2  \n",
              "3      9.8        6   3  \n",
              "4      9.4        5   4  \n",
              "5      9.4        5   5  \n",
              "6      9.4        5   6  \n",
              "7     10.0        7   7  \n",
              "8      9.5        7   8  \n",
              "9      9.2        5  10  "
            ],
            "text/html": [
              "\n",
              "  <div id=\"df-bfa5e2bd-d4dc-4cfb-a201-3a1e8ba0f65f\">\n",
              "    <div class=\"colab-df-container\">\n",
              "      <div>\n",
              "<style scoped>\n",
              "    .dataframe tbody tr th:only-of-type {\n",
              "        vertical-align: middle;\n",
              "    }\n",
              "\n",
              "    .dataframe tbody tr th {\n",
              "        vertical-align: top;\n",
              "    }\n",
              "\n",
              "    .dataframe thead th {\n",
              "        text-align: right;\n",
              "    }\n",
              "</style>\n",
              "<table border=\"1\" class=\"dataframe\">\n",
              "  <thead>\n",
              "    <tr style=\"text-align: right;\">\n",
              "      <th></th>\n",
              "      <th>fixed acidity</th>\n",
              "      <th>volatile acidity</th>\n",
              "      <th>citric acid</th>\n",
              "      <th>residual sugar</th>\n",
              "      <th>chlorides</th>\n",
              "      <th>free sulfur dioxide</th>\n",
              "      <th>total sulfur dioxide</th>\n",
              "      <th>density</th>\n",
              "      <th>pH</th>\n",
              "      <th>sulphates</th>\n",
              "      <th>alcohol</th>\n",
              "      <th>quality</th>\n",
              "      <th>Id</th>\n",
              "    </tr>\n",
              "  </thead>\n",
              "  <tbody>\n",
              "    <tr>\n",
              "      <th>0</th>\n",
              "      <td>7.4</td>\n",
              "      <td>0.70</td>\n",
              "      <td>0.00</td>\n",
              "      <td>1.9</td>\n",
              "      <td>0.076</td>\n",
              "      <td>11.0</td>\n",
              "      <td>34.0</td>\n",
              "      <td>0.9978</td>\n",
              "      <td>3.51</td>\n",
              "      <td>0.56</td>\n",
              "      <td>9.4</td>\n",
              "      <td>5</td>\n",
              "      <td>0</td>\n",
              "    </tr>\n",
              "    <tr>\n",
              "      <th>1</th>\n",
              "      <td>7.8</td>\n",
              "      <td>0.88</td>\n",
              "      <td>0.00</td>\n",
              "      <td>2.6</td>\n",
              "      <td>0.098</td>\n",
              "      <td>25.0</td>\n",
              "      <td>67.0</td>\n",
              "      <td>0.9968</td>\n",
              "      <td>3.20</td>\n",
              "      <td>0.68</td>\n",
              "      <td>9.8</td>\n",
              "      <td>5</td>\n",
              "      <td>1</td>\n",
              "    </tr>\n",
              "    <tr>\n",
              "      <th>2</th>\n",
              "      <td>7.8</td>\n",
              "      <td>0.76</td>\n",
              "      <td>0.04</td>\n",
              "      <td>2.3</td>\n",
              "      <td>0.092</td>\n",
              "      <td>15.0</td>\n",
              "      <td>54.0</td>\n",
              "      <td>0.9970</td>\n",
              "      <td>3.26</td>\n",
              "      <td>0.65</td>\n",
              "      <td>9.8</td>\n",
              "      <td>5</td>\n",
              "      <td>2</td>\n",
              "    </tr>\n",
              "    <tr>\n",
              "      <th>3</th>\n",
              "      <td>11.2</td>\n",
              "      <td>0.28</td>\n",
              "      <td>0.56</td>\n",
              "      <td>1.9</td>\n",
              "      <td>0.075</td>\n",
              "      <td>17.0</td>\n",
              "      <td>60.0</td>\n",
              "      <td>0.9980</td>\n",
              "      <td>3.16</td>\n",
              "      <td>0.58</td>\n",
              "      <td>9.8</td>\n",
              "      <td>6</td>\n",
              "      <td>3</td>\n",
              "    </tr>\n",
              "    <tr>\n",
              "      <th>4</th>\n",
              "      <td>7.4</td>\n",
              "      <td>0.70</td>\n",
              "      <td>0.00</td>\n",
              "      <td>1.9</td>\n",
              "      <td>0.076</td>\n",
              "      <td>11.0</td>\n",
              "      <td>34.0</td>\n",
              "      <td>0.9978</td>\n",
              "      <td>3.51</td>\n",
              "      <td>0.56</td>\n",
              "      <td>9.4</td>\n",
              "      <td>5</td>\n",
              "      <td>4</td>\n",
              "    </tr>\n",
              "    <tr>\n",
              "      <th>5</th>\n",
              "      <td>7.4</td>\n",
              "      <td>0.66</td>\n",
              "      <td>0.00</td>\n",
              "      <td>1.8</td>\n",
              "      <td>0.075</td>\n",
              "      <td>13.0</td>\n",
              "      <td>40.0</td>\n",
              "      <td>0.9978</td>\n",
              "      <td>3.51</td>\n",
              "      <td>0.56</td>\n",
              "      <td>9.4</td>\n",
              "      <td>5</td>\n",
              "      <td>5</td>\n",
              "    </tr>\n",
              "    <tr>\n",
              "      <th>6</th>\n",
              "      <td>7.9</td>\n",
              "      <td>0.60</td>\n",
              "      <td>0.06</td>\n",
              "      <td>1.6</td>\n",
              "      <td>0.069</td>\n",
              "      <td>15.0</td>\n",
              "      <td>59.0</td>\n",
              "      <td>0.9964</td>\n",
              "      <td>3.30</td>\n",
              "      <td>0.46</td>\n",
              "      <td>9.4</td>\n",
              "      <td>5</td>\n",
              "      <td>6</td>\n",
              "    </tr>\n",
              "    <tr>\n",
              "      <th>7</th>\n",
              "      <td>7.3</td>\n",
              "      <td>0.65</td>\n",
              "      <td>0.00</td>\n",
              "      <td>1.2</td>\n",
              "      <td>0.065</td>\n",
              "      <td>15.0</td>\n",
              "      <td>21.0</td>\n",
              "      <td>0.9946</td>\n",
              "      <td>3.39</td>\n",
              "      <td>0.47</td>\n",
              "      <td>10.0</td>\n",
              "      <td>7</td>\n",
              "      <td>7</td>\n",
              "    </tr>\n",
              "    <tr>\n",
              "      <th>8</th>\n",
              "      <td>7.8</td>\n",
              "      <td>0.58</td>\n",
              "      <td>0.02</td>\n",
              "      <td>2.0</td>\n",
              "      <td>0.073</td>\n",
              "      <td>9.0</td>\n",
              "      <td>18.0</td>\n",
              "      <td>0.9968</td>\n",
              "      <td>3.36</td>\n",
              "      <td>0.57</td>\n",
              "      <td>9.5</td>\n",
              "      <td>7</td>\n",
              "      <td>8</td>\n",
              "    </tr>\n",
              "    <tr>\n",
              "      <th>9</th>\n",
              "      <td>6.7</td>\n",
              "      <td>0.58</td>\n",
              "      <td>0.08</td>\n",
              "      <td>1.8</td>\n",
              "      <td>0.097</td>\n",
              "      <td>15.0</td>\n",
              "      <td>65.0</td>\n",
              "      <td>0.9959</td>\n",
              "      <td>3.28</td>\n",
              "      <td>0.54</td>\n",
              "      <td>9.2</td>\n",
              "      <td>5</td>\n",
              "      <td>10</td>\n",
              "    </tr>\n",
              "  </tbody>\n",
              "</table>\n",
              "</div>\n",
              "      <button class=\"colab-df-convert\" onclick=\"convertToInteractive('df-bfa5e2bd-d4dc-4cfb-a201-3a1e8ba0f65f')\"\n",
              "              title=\"Convert this dataframe to an interactive table.\"\n",
              "              style=\"display:none;\">\n",
              "        \n",
              "  <svg xmlns=\"http://www.w3.org/2000/svg\" height=\"24px\"viewBox=\"0 0 24 24\"\n",
              "       width=\"24px\">\n",
              "    <path d=\"M0 0h24v24H0V0z\" fill=\"none\"/>\n",
              "    <path d=\"M18.56 5.44l.94 2.06.94-2.06 2.06-.94-2.06-.94-.94-2.06-.94 2.06-2.06.94zm-11 1L8.5 8.5l.94-2.06 2.06-.94-2.06-.94L8.5 2.5l-.94 2.06-2.06.94zm10 10l.94 2.06.94-2.06 2.06-.94-2.06-.94-.94-2.06-.94 2.06-2.06.94z\"/><path d=\"M17.41 7.96l-1.37-1.37c-.4-.4-.92-.59-1.43-.59-.52 0-1.04.2-1.43.59L10.3 9.45l-7.72 7.72c-.78.78-.78 2.05 0 2.83L4 21.41c.39.39.9.59 1.41.59.51 0 1.02-.2 1.41-.59l7.78-7.78 2.81-2.81c.8-.78.8-2.07 0-2.86zM5.41 20L4 18.59l7.72-7.72 1.47 1.35L5.41 20z\"/>\n",
              "  </svg>\n",
              "      </button>\n",
              "      \n",
              "  <style>\n",
              "    .colab-df-container {\n",
              "      display:flex;\n",
              "      flex-wrap:wrap;\n",
              "      gap: 12px;\n",
              "    }\n",
              "\n",
              "    .colab-df-convert {\n",
              "      background-color: #E8F0FE;\n",
              "      border: none;\n",
              "      border-radius: 50%;\n",
              "      cursor: pointer;\n",
              "      display: none;\n",
              "      fill: #1967D2;\n",
              "      height: 32px;\n",
              "      padding: 0 0 0 0;\n",
              "      width: 32px;\n",
              "    }\n",
              "\n",
              "    .colab-df-convert:hover {\n",
              "      background-color: #E2EBFA;\n",
              "      box-shadow: 0px 1px 2px rgba(60, 64, 67, 0.3), 0px 1px 3px 1px rgba(60, 64, 67, 0.15);\n",
              "      fill: #174EA6;\n",
              "    }\n",
              "\n",
              "    [theme=dark] .colab-df-convert {\n",
              "      background-color: #3B4455;\n",
              "      fill: #D2E3FC;\n",
              "    }\n",
              "\n",
              "    [theme=dark] .colab-df-convert:hover {\n",
              "      background-color: #434B5C;\n",
              "      box-shadow: 0px 1px 3px 1px rgba(0, 0, 0, 0.15);\n",
              "      filter: drop-shadow(0px 1px 2px rgba(0, 0, 0, 0.3));\n",
              "      fill: #FFFFFF;\n",
              "    }\n",
              "  </style>\n",
              "\n",
              "      <script>\n",
              "        const buttonEl =\n",
              "          document.querySelector('#df-bfa5e2bd-d4dc-4cfb-a201-3a1e8ba0f65f button.colab-df-convert');\n",
              "        buttonEl.style.display =\n",
              "          google.colab.kernel.accessAllowed ? 'block' : 'none';\n",
              "\n",
              "        async function convertToInteractive(key) {\n",
              "          const element = document.querySelector('#df-bfa5e2bd-d4dc-4cfb-a201-3a1e8ba0f65f');\n",
              "          const dataTable =\n",
              "            await google.colab.kernel.invokeFunction('convertToInteractive',\n",
              "                                                     [key], {});\n",
              "          if (!dataTable) return;\n",
              "\n",
              "          const docLinkHtml = 'Like what you see? Visit the ' +\n",
              "            '<a target=\"_blank\" href=https://colab.research.google.com/notebooks/data_table.ipynb>data table notebook</a>'\n",
              "            + ' to learn more about interactive tables.';\n",
              "          element.innerHTML = '';\n",
              "          dataTable['output_type'] = 'display_data';\n",
              "          await google.colab.output.renderOutput(dataTable, element);\n",
              "          const docLink = document.createElement('div');\n",
              "          docLink.innerHTML = docLinkHtml;\n",
              "          element.appendChild(docLink);\n",
              "        }\n",
              "      </script>\n",
              "    </div>\n",
              "  </div>\n",
              "  "
            ]
          },
          "metadata": {},
          "execution_count": 81
        }
      ]
    },
    {
      "cell_type": "markdown",
      "source": [
        "#### Preprocesamiento de Datos"
      ],
      "metadata": {
        "id": "250sMpeT6yAz"
      }
    },
    {
      "cell_type": "markdown",
      "source": [
        "A continuación, se aplicarán técnicas de preprocesamiento de datos para así, si es el caso, obtener un conjunto de datos de mayor calidad."
      ],
      "metadata": {
        "id": "gsrGLs-Z6157"
      }
    },
    {
      "cell_type": "markdown",
      "source": [
        "En primer lugar, se verificara la cantidad de NaN en el conjunto de datos."
      ],
      "metadata": {
        "id": "l4cHnvQM7BxC"
      }
    },
    {
      "cell_type": "code",
      "source": [
        "# Calcular mayor cantidad de valores nulos\n",
        "max_missing_values = df.isnull().sum().max()\n",
        "\n",
        "# Obtener nombre de las columnas\n",
        "column_names = df.columns\n",
        "\n",
        "print(\"Maximum number of missing values:\", max_missing_values)\n",
        "print(\"Column names:\", column_names)"
      ],
      "metadata": {
        "colab": {
          "base_uri": "https://localhost:8080/"
        },
        "id": "wYKF_Ptu7AQq",
        "outputId": "e9c554d6-caa5-4285-f1c6-042935c76f1b"
      },
      "execution_count": null,
      "outputs": [
        {
          "output_type": "stream",
          "name": "stdout",
          "text": [
            "Maximum number of missing values: 0\n",
            "Column names: Index(['fixed acidity', 'volatile acidity', 'citric acid', 'residual sugar',\n",
            "       'chlorides', 'free sulfur dioxide', 'total sulfur dioxide', 'density',\n",
            "       'pH', 'sulphates', 'alcohol', 'quality', 'Id'],\n",
            "      dtype='object')\n"
          ]
        }
      ]
    },
    {
      "cell_type": "markdown",
      "source": [
        "Según el valor máximo de NaN obtenido, no hay presencia de nulos en el conjunto de datos. No obstante, se procederá a hacer otra verificación."
      ],
      "metadata": {
        "id": "EMsbnAlM7qBK"
      }
    },
    {
      "cell_type": "code",
      "source": [
        "hay_nulos = df.isnull().any().any()\n",
        "\n",
        "if hay_nulos:\n",
        "    print(\"Se encontraron valores NaN o nulos en el conjunto de datos.\")\n",
        "else:\n",
        "    print(\"No se encontraron valores NaN o nulos en el conjunto de datos.\")"
      ],
      "metadata": {
        "colab": {
          "base_uri": "https://localhost:8080/"
        },
        "id": "lBMN6z9J7nxT",
        "outputId": "57e03a89-e986-48a3-89f2-96ab0fda1fa1"
      },
      "execution_count": null,
      "outputs": [
        {
          "output_type": "stream",
          "name": "stdout",
          "text": [
            "No se encontraron valores NaN o nulos en el conjunto de datos.\n"
          ]
        }
      ]
    },
    {
      "cell_type": "markdown",
      "source": [
        "Una vez preprocesados los datos, se continuará con el análisis exploratorio."
      ],
      "metadata": {
        "id": "SVvS_Aq98KGE"
      }
    },
    {
      "cell_type": "markdown",
      "source": [
        "#### Creación de Conjunto de Pruebas"
      ],
      "metadata": {
        "id": "zyK725Sd8PYa"
      }
    },
    {
      "cell_type": "markdown",
      "source": [
        "Transformamos los valores de entrenamiento en un array para poder hacer un gráfico de los puntos separados por las clases del atributo `quality`.\n",
        "Para ello, se realizará un scatterplot de los atributos con respecto al atributo mencionado anteriormente."
      ],
      "metadata": {
        "id": "lmfu_OIN8d_i"
      }
    },
    {
      "cell_type": "code",
      "source": [
        "# plotting the decision boundries for the data \n",
        "#converting the data to array for plotting. \n",
        "df_copy = df.drop(df.columns[-2:], axis=1)\n",
        "X = np.array(df_copy.iloc[:,[0, 10]])\n",
        "y = np.array(df['quality'])\n",
        "print(\"Shape of X:\"+str(X.shape))\n",
        "print(\"Shape of y:\"+str(y.shape))\n",
        "\n",
        "scaler = StandardScaler()\n",
        "X = scaler.fit_transform(X)"
      ],
      "metadata": {
        "colab": {
          "base_uri": "https://localhost:8080/"
        },
        "id": "X2Su-HDh8XjS",
        "outputId": "0d6ad0a7-639e-4f7d-a741-158f31d5e36f"
      },
      "execution_count": null,
      "outputs": [
        {
          "output_type": "stream",
          "name": "stdout",
          "text": [
            "Shape of X:(1143, 2)\n",
            "Shape of y:(1143,)\n"
          ]
        }
      ]
    },
    {
      "cell_type": "markdown",
      "source": [
        "Una vez transformados los datos en un array, se procede a graficar los puntos con respecto a `quality`\n",
        "\n",
        "\n",
        "\n"
      ],
      "metadata": {
        "id": "iraU2jPXHrIJ"
      }
    },
    {
      "cell_type": "code",
      "source": [
        "#Aquí solo se utilizan colores específicos para los puntos, pueden cambiar entre las dos listas de colores en el gráfico\n",
        "cm_dark = ListedColormap(['#ff6060', '#8282ff','#ffaa00','#fff244','#4df9b9','#76e8fc','#3ad628'])\n",
        "cm_bright = ListedColormap(['#ffafaf', '#c6c6ff','#ffaa00','#ffe2a8','#bfffe7','#c9f7ff','#9eff93'])"
      ],
      "metadata": {
        "id": "f42SdJX19Iea"
      },
      "execution_count": null,
      "outputs": []
    },
    {
      "cell_type": "code",
      "source": [
        "plt.scatter(X[:,0],X[:,1],c=y,cmap=cm_dark,s=10,label=y)\n",
        "plt.show()"
      ],
      "metadata": {
        "colab": {
          "base_uri": "https://localhost:8080/",
          "height": 430
        },
        "id": "I6NZ4whx9MlK",
        "outputId": "710750c7-6137-4880-db0e-2cd28902b9e4"
      },
      "execution_count": null,
      "outputs": [
        {
          "output_type": "display_data",
          "data": {
            "text/plain": [
              "<Figure size 640x480 with 1 Axes>"
            ],
            "image/png": "[encoded data removed]"
          },
          "metadata": {}
        }
      ]
    },
    {
      "cell_type": "markdown",
      "source": [
        "A partir del gráfico anterior, es posible observar como es complicado diferenciar las clases de datos en cuestión. No es posible establecer una separación adecuada en el hiperplano."
      ],
      "metadata": {
        "id": "JbL9uxHUIFoh"
      }
    },
    {
      "cell_type": "code",
      "source": [
        "# Crear el modelo de clasificación SVM\n",
        "svm_classifier = SVC(kernel='rbf', C=5.9, degree=3, gamma='scale')"
      ],
      "metadata": {
        "id": "HtBC_ofX9gpC"
      },
      "execution_count": null,
      "outputs": []
    },
    {
      "cell_type": "code",
      "source": [
        "#Separar el conjunto de entrenamiento entre los conjuntos de características\n",
        "X = df.drop(['quality'], axis=1)\n",
        "#Y la variable objetivo\n",
        "y = df['quality']"
      ],
      "metadata": {
        "id": "3MZzT3p291U7"
      },
      "execution_count": null,
      "outputs": []
    },
    {
      "cell_type": "markdown",
      "source": [
        "Se crean los conjuntos de datos para entrenamiento y prueba utilizando una 80:20"
      ],
      "metadata": {
        "id": "vf9jmW8GK-Aa"
      }
    },
    {
      "cell_type": "code",
      "source": [
        "# Dividir los datos en conjuntos de entrenamiento y prueba\n",
        "X_train, X_test, y_train, y_test = train_test_split(X, y, test_size=0.2, random_state=42)"
      ],
      "metadata": {
        "id": "j2XhCXAc-IqB"
      },
      "execution_count": null,
      "outputs": []
    },
    {
      "cell_type": "code",
      "source": [
        "# Escalar los datos\n",
        "cols = X_train.columns\n",
        "scaler = StandardScaler()\n",
        "X_train = scaler.fit_transform(X_train)\n",
        "X_test = scaler.transform(X_test)"
      ],
      "metadata": {
        "id": "R2uf7taH-RIL"
      },
      "execution_count": null,
      "outputs": []
    },
    {
      "cell_type": "code",
      "source": [
        "X_train = pd.DataFrame(X_train, columns=[cols])\n",
        "X_test = pd.DataFrame(X_test, columns=[cols])\n",
        "X_train.describe()"
      ],
      "metadata": {
        "colab": {
          "base_uri": "https://localhost:8080/",
          "height": 362
        },
        "id": "JW-8n7_N-VUc",
        "outputId": "4e8182a7-2600-490b-bffc-03187e1dbb96"
      },
      "execution_count": null,
      "outputs": [
        {
          "output_type": "execute_result",
          "data": {
            "text/plain": [
              "      fixed acidity volatile acidity   citric acid residual sugar  \\\n",
              "count  9.140000e+02     9.140000e+02  9.140000e+02   9.140000e+02   \n",
              "mean  -6.024843e-16    -2.448807e-16 -3.498296e-17   2.021238e-16   \n",
              "std    1.000547e+00     1.000547e+00  1.000547e+00   1.000547e+00   \n",
              "min   -2.157627e+00    -2.296839e+00 -1.363945e+00  -1.240674e+00   \n",
              "25%   -6.830710e-01    -7.321492e-01 -9.021105e-01  -4.743962e-01   \n",
              "50%   -2.112132e-01    -6.156778e-02 -8.107092e-02  -2.445129e-01   \n",
              "75%    4.375913e-01     6.090136e-01  7.912837e-01   6.199805e-02   \n",
              "max    4.330418e+00     5.861901e+00  3.767552e+00   9.946978e+00   \n",
              "\n",
              "          chlorides free sulfur dioxide total sulfur dioxide       density  \\\n",
              "count  9.140000e+02        9.140000e+02         9.140000e+02  9.140000e+02   \n",
              "mean   1.166099e-16       -7.190941e-17        -9.814663e-17 -2.151452e-14   \n",
              "std    1.000547e+00        1.000547e+00         1.000547e+00  1.000547e+00   \n",
              "min   -1.570871e+00       -1.437349e+00        -1.248393e+00 -3.456101e+00   \n",
              "25%   -3.475158e-01       -8.509466e-01        -7.783490e-01 -6.076910e-01   \n",
              "50%   -1.787772e-01       -2.645441e-01        -2.456329e-01 -1.971638e-02   \n",
              "75%    7.433087e-02        5.173259e-01         5.064369e-01  5.839375e-01   \n",
              "max    1.106344e+01        5.110812e+00         7.275065e+00  3.406216e+00   \n",
              "\n",
              "                 pH     sulphates       alcohol            Id  \n",
              "count  9.140000e+02  9.140000e+02  9.140000e+02  9.140000e+02  \n",
              "mean   1.096133e-15  1.515928e-16 -1.788018e-15  1.554798e-17  \n",
              "std    1.000547e+00  1.000547e+00  1.000547e+00  1.000547e+00  \n",
              "min   -3.757761e+00 -1.961070e+00 -1.898352e+00 -1.755476e+00  \n",
              "25%   -6.821032e-01 -6.362081e-01 -8.743227e-01 -8.681500e-01  \n",
              "50%   -2.770798e-02 -2.146609e-01 -2.226675e-01  2.025232e-02  \n",
              "75%    5.612477e-01  3.875493e-01  7.082685e-01  8.682971e-01  \n",
              "max    4.553059e+00  8.095840e+00  3.314889e+00  1.681904e+00  "
            ],
            "text/html": [
              "\n",
              "  <div id=\"df-18827a8d-ef40-4cb6-967c-5b3aa1d6023f\">\n",
              "    <div class=\"colab-df-container\">\n",
              "      <div>\n",
              "<style scoped>\n",
              "    .dataframe tbody tr th:only-of-type {\n",
              "        vertical-align: middle;\n",
              "    }\n",
              "\n",
              "    .dataframe tbody tr th {\n",
              "        vertical-align: top;\n",
              "    }\n",
              "\n",
              "    .dataframe thead tr th {\n",
              "        text-align: left;\n",
              "    }\n",
              "</style>\n",
              "<table border=\"1\" class=\"dataframe\">\n",
              "  <thead>\n",
              "    <tr>\n",
              "      <th></th>\n",
              "      <th>fixed acidity</th>\n",
              "      <th>volatile acidity</th>\n",
              "      <th>citric acid</th>\n",
              "      <th>residual sugar</th>\n",
              "      <th>chlorides</th>\n",
              "      <th>free sulfur dioxide</th>\n",
              "      <th>total sulfur dioxide</th>\n",
              "      <th>density</th>\n",
              "      <th>pH</th>\n",
              "      <th>sulphates</th>\n",
              "      <th>alcohol</th>\n",
              "      <th>Id</th>\n",
              "    </tr>\n",
              "  </thead>\n",
              "  <tbody>\n",
              "    <tr>\n",
              "      <th>count</th>\n",
              "      <td>9.140000e+02</td>\n",
              "      <td>9.140000e+02</td>\n",
              "      <td>9.140000e+02</td>\n",
              "      <td>9.140000e+02</td>\n",
              "      <td>9.140000e+02</td>\n",
              "      <td>9.140000e+02</td>\n",
              "      <td>9.140000e+02</td>\n",
              "      <td>9.140000e+02</td>\n",
              "      <td>9.140000e+02</td>\n",
              "      <td>9.140000e+02</td>\n",
              "      <td>9.140000e+02</td>\n",
              "      <td>9.140000e+02</td>\n",
              "    </tr>\n",
              "    <tr>\n",
              "      <th>mean</th>\n",
              "      <td>-6.024843e-16</td>\n",
              "      <td>-2.448807e-16</td>\n",
              "      <td>-3.498296e-17</td>\n",
              "      <td>2.021238e-16</td>\n",
              "      <td>1.166099e-16</td>\n",
              "      <td>-7.190941e-17</td>\n",
              "      <td>-9.814663e-17</td>\n",
              "      <td>-2.151452e-14</td>\n",
              "      <td>1.096133e-15</td>\n",
              "      <td>1.515928e-16</td>\n",
              "      <td>-1.788018e-15</td>\n",
              "      <td>1.554798e-17</td>\n",
              "    </tr>\n",
              "    <tr>\n",
              "      <th>std</th>\n",
              "      <td>1.000547e+00</td>\n",
              "      <td>1.000547e+00</td>\n",
              "      <td>1.000547e+00</td>\n",
              "      <td>1.000547e+00</td>\n",
              "      <td>1.000547e+00</td>\n",
              "      <td>1.000547e+00</td>\n",
              "      <td>1.000547e+00</td>\n",
              "      <td>1.000547e+00</td>\n",
              "      <td>1.000547e+00</td>\n",
              "      <td>1.000547e+00</td>\n",
              "      <td>1.000547e+00</td>\n",
              "      <td>1.000547e+00</td>\n",
              "    </tr>\n",
              "    <tr>\n",
              "      <th>min</th>\n",
              "      <td>-2.157627e+00</td>\n",
              "      <td>-2.296839e+00</td>\n",
              "      <td>-1.363945e+00</td>\n",
              "      <td>-1.240674e+00</td>\n",
              "      <td>-1.570871e+00</td>\n",
              "      <td>-1.437349e+00</td>\n",
              "      <td>-1.248393e+00</td>\n",
              "      <td>-3.456101e+00</td>\n",
              "      <td>-3.757761e+00</td>\n",
              "      <td>-1.961070e+00</td>\n",
              "      <td>-1.898352e+00</td>\n",
              "      <td>-1.755476e+00</td>\n",
              "    </tr>\n",
              "    <tr>\n",
              "      <th>25%</th>\n",
              "      <td>-6.830710e-01</td>\n",
              "      <td>-7.321492e-01</td>\n",
              "      <td>-9.021105e-01</td>\n",
              "      <td>-4.743962e-01</td>\n",
              "      <td>-3.475158e-01</td>\n",
              "      <td>-8.509466e-01</td>\n",
              "      <td>-7.783490e-01</td>\n",
              "      <td>-6.076910e-01</td>\n",
              "      <td>-6.821032e-01</td>\n",
              "      <td>-6.362081e-01</td>\n",
              "      <td>-8.743227e-01</td>\n",
              "      <td>-8.681500e-01</td>\n",
              "    </tr>\n",
              "    <tr>\n",
              "      <th>50%</th>\n",
              "      <td>-2.112132e-01</td>\n",
              "      <td>-6.156778e-02</td>\n",
              "      <td>-8.107092e-02</td>\n",
              "      <td>-2.445129e-01</td>\n",
              "      <td>-1.787772e-01</td>\n",
              "      <td>-2.645441e-01</td>\n",
              "      <td>-2.456329e-01</td>\n",
              "      <td>-1.971638e-02</td>\n",
              "      <td>-2.770798e-02</td>\n",
              "      <td>-2.146609e-01</td>\n",
              "      <td>-2.226675e-01</td>\n",
              "      <td>2.025232e-02</td>\n",
              "    </tr>\n",
              "    <tr>\n",
              "      <th>75%</th>\n",
              "      <td>4.375913e-01</td>\n",
              "      <td>6.090136e-01</td>\n",
              "      <td>7.912837e-01</td>\n",
              "      <td>6.199805e-02</td>\n",
              "      <td>7.433087e-02</td>\n",
              "      <td>5.173259e-01</td>\n",
              "      <td>5.064369e-01</td>\n",
              "      <td>5.839375e-01</td>\n",
              "      <td>5.612477e-01</td>\n",
              "      <td>3.875493e-01</td>\n",
              "      <td>7.082685e-01</td>\n",
              "      <td>8.682971e-01</td>\n",
              "    </tr>\n",
              "    <tr>\n",
              "      <th>max</th>\n",
              "      <td>4.330418e+00</td>\n",
              "      <td>5.861901e+00</td>\n",
              "      <td>3.767552e+00</td>\n",
              "      <td>9.946978e+00</td>\n",
              "      <td>1.106344e+01</td>\n",
              "      <td>5.110812e+00</td>\n",
              "      <td>7.275065e+00</td>\n",
              "      <td>3.406216e+00</td>\n",
              "      <td>4.553059e+00</td>\n",
              "      <td>8.095840e+00</td>\n",
              "      <td>3.314889e+00</td>\n",
              "      <td>1.681904e+00</td>\n",
              "    </tr>\n",
              "  </tbody>\n",
              "</table>\n",
              "</div>\n",
              "      <button class=\"colab-df-convert\" onclick=\"convertToInteractive('df-18827a8d-ef40-4cb6-967c-5b3aa1d6023f')\"\n",
              "              title=\"Convert this dataframe to an interactive table.\"\n",
              "              style=\"display:none;\">\n",
              "        \n",
              "  <svg xmlns=\"http://www.w3.org/2000/svg\" height=\"24px\"viewBox=\"0 0 24 24\"\n",
              "       width=\"24px\">\n",
              "    <path d=\"M0 0h24v24H0V0z\" fill=\"none\"/>\n",
              "    <path d=\"M18.56 5.44l.94 2.06.94-2.06 2.06-.94-2.06-.94-.94-2.06-.94 2.06-2.06.94zm-11 1L8.5 8.5l.94-2.06 2.06-.94-2.06-.94L8.5 2.5l-.94 2.06-2.06.94zm10 10l.94 2.06.94-2.06 2.06-.94-2.06-.94-.94-2.06-.94 2.06-2.06.94z\"/><path d=\"M17.41 7.96l-1.37-1.37c-.4-.4-.92-.59-1.43-.59-.52 0-1.04.2-1.43.59L10.3 9.45l-7.72 7.72c-.78.78-.78 2.05 0 2.83L4 21.41c.39.39.9.59 1.41.59.51 0 1.02-.2 1.41-.59l7.78-7.78 2.81-2.81c.8-.78.8-2.07 0-2.86zM5.41 20L4 18.59l7.72-7.72 1.47 1.35L5.41 20z\"/>\n",
              "  </svg>\n",
              "      </button>\n",
              "      \n",
              "  <style>\n",
              "    .colab-df-container {\n",
              "      display:flex;\n",
              "      flex-wrap:wrap;\n",
              "      gap: 12px;\n",
              "    }\n",
              "\n",
              "    .colab-df-convert {\n",
              "      background-color: #E8F0FE;\n",
              "      border: none;\n",
              "      border-radius: 50%;\n",
              "      cursor: pointer;\n",
              "      display: none;\n",
              "      fill: #1967D2;\n",
              "      height: 32px;\n",
              "      padding: 0 0 0 0;\n",
              "      width: 32px;\n",
              "    }\n",
              "\n",
              "    .colab-df-convert:hover {\n",
              "      background-color: #E2EBFA;\n",
              "      box-shadow: 0px 1px 2px rgba(60, 64, 67, 0.3), 0px 1px 3px 1px rgba(60, 64, 67, 0.15);\n",
              "      fill: #174EA6;\n",
              "    }\n",
              "\n",
              "    [theme=dark] .colab-df-convert {\n",
              "      background-color: #3B4455;\n",
              "      fill: #D2E3FC;\n",
              "    }\n",
              "\n",
              "    [theme=dark] .colab-df-convert:hover {\n",
              "      background-color: #434B5C;\n",
              "      box-shadow: 0px 1px 3px 1px rgba(0, 0, 0, 0.15);\n",
              "      filter: drop-shadow(0px 1px 2px rgba(0, 0, 0, 0.3));\n",
              "      fill: #FFFFFF;\n",
              "    }\n",
              "  </style>\n",
              "\n",
              "      <script>\n",
              "        const buttonEl =\n",
              "          document.querySelector('#df-18827a8d-ef40-4cb6-967c-5b3aa1d6023f button.colab-df-convert');\n",
              "        buttonEl.style.display =\n",
              "          google.colab.kernel.accessAllowed ? 'block' : 'none';\n",
              "\n",
              "        async function convertToInteractive(key) {\n",
              "          const element = document.querySelector('#df-18827a8d-ef40-4cb6-967c-5b3aa1d6023f');\n",
              "          const dataTable =\n",
              "            await google.colab.kernel.invokeFunction('convertToInteractive',\n",
              "                                                     [key], {});\n",
              "          if (!dataTable) return;\n",
              "\n",
              "          const docLinkHtml = 'Like what you see? Visit the ' +\n",
              "            '<a target=\"_blank\" href=https://colab.research.google.com/notebooks/data_table.ipynb>data table notebook</a>'\n",
              "            + ' to learn more about interactive tables.';\n",
              "          element.innerHTML = '';\n",
              "          dataTable['output_type'] = 'display_data';\n",
              "          await google.colab.output.renderOutput(dataTable, element);\n",
              "          const docLink = document.createElement('div');\n",
              "          docLink.innerHTML = docLinkHtml;\n",
              "          element.appendChild(docLink);\n",
              "        }\n",
              "      </script>\n",
              "    </div>\n",
              "  </div>\n",
              "  "
            ]
          },
          "metadata": {},
          "execution_count": 185
        }
      ]
    },
    {
      "cell_type": "markdown",
      "source": [
        "#### Entrenamiento del Modelo"
      ],
      "metadata": {
        "id": "AalQ8S3r-cL0"
      }
    },
    {
      "cell_type": "code",
      "source": [
        "#Entrenamos el clasificador\n",
        "svm_classifier.fit(X_train,y_train)"
      ],
      "metadata": {
        "colab": {
          "base_uri": "https://localhost:8080/",
          "height": 75
        },
        "id": "ogeQJhXd-e-S",
        "outputId": "fdc1f94a-dcfd-4715-9a60-fed4ee1f96f6"
      },
      "execution_count": null,
      "outputs": [
        {
          "output_type": "execute_result",
          "data": {
            "text/plain": [
              "SVC(C=5.9)"
            ],
            "text/html": [
              "<style>#sk-container-id-8 {color: black;background-color: white;}#sk-container-id-8 pre{padding: 0;}#sk-container-id-8 div.sk-toggleable {background-color: white;}#sk-container-id-8 label.sk-toggleable__label {cursor: pointer;display: block;width: 100%;margin-bottom: 0;padding: 0.3em;box-sizing: border-box;text-align: center;}#sk-container-id-8 label.sk-toggleable__label-arrow:before {content: \"▸\";float: left;margin-right: 0.25em;color: #696969;}#sk-container-id-8 label.sk-toggleable__label-arrow:hover:before {color: black;}#sk-container-id-8 div.sk-estimator:hover label.sk-toggleable__label-arrow:before {color: black;}#sk-container-id-8 div.sk-toggleable__content {max-height: 0;max-width: 0;overflow: hidden;text-align: left;background-color: #f0f8ff;}#sk-container-id-8 div.sk-toggleable__content pre {margin: 0.2em;color: black;border-radius: 0.25em;background-color: #f0f8ff;}#sk-container-id-8 input.sk-toggleable__control:checked~div.sk-toggleable__content {max-height: 200px;max-width: 100%;overflow: auto;}#sk-container-id-8 input.sk-toggleable__control:checked~label.sk-toggleable__label-arrow:before {content: \"▾\";}#sk-container-id-8 div.sk-estimator input.sk-toggleable__control:checked~label.sk-toggleable__label {background-color: #d4ebff;}#sk-container-id-8 div.sk-label input.sk-toggleable__control:checked~label.sk-toggleable__label {background-color: #d4ebff;}#sk-container-id-8 input.sk-hidden--visually {border: 0;clip: rect(1px 1px 1px 1px);clip: rect(1px, 1px, 1px, 1px);height: 1px;margin: -1px;overflow: hidden;padding: 0;position: absolute;width: 1px;}#sk-container-id-8 div.sk-estimator {font-family: monospace;background-color: #f0f8ff;border: 1px dotted black;border-radius: 0.25em;box-sizing: border-box;margin-bottom: 0.5em;}#sk-container-id-8 div.sk-estimator:hover {background-color: #d4ebff;}#sk-container-id-8 div.sk-parallel-item::after {content: \"\";width: 100%;border-bottom: 1px solid gray;flex-grow: 1;}#sk-container-id-8 div.sk-label:hover label.sk-toggleable__label {background-color: #d4ebff;}#sk-container-id-8 div.sk-serial::before {content: \"\";position: absolute;border-left: 1px solid gray;box-sizing: border-box;top: 0;bottom: 0;left: 50%;z-index: 0;}#sk-container-id-8 div.sk-serial {display: flex;flex-direction: column;align-items: center;background-color: white;padding-right: 0.2em;padding-left: 0.2em;position: relative;}#sk-container-id-8 div.sk-item {position: relative;z-index: 1;}#sk-container-id-8 div.sk-parallel {display: flex;align-items: stretch;justify-content: center;background-color: white;position: relative;}#sk-container-id-8 div.sk-item::before, #sk-container-id-8 div.sk-parallel-item::before {content: \"\";position: absolute;border-left: 1px solid gray;box-sizing: border-box;top: 0;bottom: 0;left: 50%;z-index: -1;}#sk-container-id-8 div.sk-parallel-item {display: flex;flex-direction: column;z-index: 1;position: relative;background-color: white;}#sk-container-id-8 div.sk-parallel-item:first-child::after {align-self: flex-end;width: 50%;}#sk-container-id-8 div.sk-parallel-item:last-child::after {align-self: flex-start;width: 50%;}#sk-container-id-8 div.sk-parallel-item:only-child::after {width: 0;}#sk-container-id-8 div.sk-dashed-wrapped {border: 1px dashed gray;margin: 0 0.4em 0.5em 0.4em;box-sizing: border-box;padding-bottom: 0.4em;background-color: white;}#sk-container-id-8 div.sk-label label {font-family: monospace;font-weight: bold;display: inline-block;line-height: 1.2em;}#sk-container-id-8 div.sk-label-container {text-align: center;}#sk-container-id-8 div.sk-container {/* jupyter's `normalize.less` sets `[hidden] { display: none; }` but bootstrap.min.css set `[hidden] { display: none !important; }` so we also need the `!important` here to be able to override the default hidden behavior on the sphinx rendered scikit-learn.org. See: https://github.com/scikit-learn/scikit-learn/issues/21755 */display: inline-block !important;position: relative;}#sk-container-id-8 div.sk-text-repr-fallback {display: none;}</style><div id=\"sk-container-id-8\" class=\"sk-top-container\"><div class=\"sk-text-repr-fallback\"><pre>SVC(C=5.9)</pre><b>In a Jupyter environment, please rerun this cell to show the HTML representation or trust the notebook. <br />On GitHub, the HTML representation is unable to render, please try loading this page with nbviewer.org.</b></div><div class=\"sk-container\" hidden><div class=\"sk-item\"><div class=\"sk-estimator sk-toggleable\"><input class=\"sk-toggleable__control sk-hidden--visually\" id=\"sk-estimator-id-8\" type=\"checkbox\" checked><label for=\"sk-estimator-id-8\" class=\"sk-toggleable__label sk-toggleable__label-arrow\">SVC</label><div class=\"sk-toggleable__content\"><pre>SVC(C=5.9)</pre></div></div></div></div></div>"
            ]
          },
          "metadata": {},
          "execution_count": 186
        }
      ]
    },
    {
      "cell_type": "markdown",
      "source": [
        "#### Predicciones"
      ],
      "metadata": {
        "id": "YYRKPyTO-ixq"
      }
    },
    {
      "cell_type": "code",
      "source": [
        "#Hacemos las predicciones con el set de pruebas\n",
        "y_pred = svm_classifier.predict(X_test)"
      ],
      "metadata": {
        "id": "RD1S_Jxn-kgy"
      },
      "execution_count": null,
      "outputs": []
    },
    {
      "cell_type": "code",
      "source": [
        "# compute and print accuracy score\n",
        "print('Model accuracy score with default hyperparameters: {0:0.4f}'.format(accuracy_score(y_test, y_pred)))"
      ],
      "metadata": {
        "colab": {
          "base_uri": "https://localhost:8080/"
        },
        "id": "luWRzJXw-n0C",
        "outputId": "7e3fba55-a161-4417-e06c-27b0c6104035"
      },
      "execution_count": null,
      "outputs": [
        {
          "output_type": "stream",
          "name": "stdout",
          "text": [
            "Model accuracy score with default hyperparameters: 0.6943\n"
          ]
        }
      ]
    },
    {
      "cell_type": "code",
      "source": [
        "# instantiate classifier with rbf kernel and C=100\n",
        "svm_classifier = SVC(kernel='rbf', C=5.9, degree=3, gamma='scale')\n",
        "svm_classifier.fit(X_train,y_train)\n",
        "y_pred=svm_classifier.predict(X_test)\n",
        "# compute and print accuracy score\n",
        "print('Model accuracy score with rbf kernel and C=5.9 : {0:0.4f}'.format(accuracy_score(y_test, y_pred)))"
      ],
      "metadata": {
        "colab": {
          "base_uri": "https://localhost:8080/"
        },
        "id": "UAhGsmr5-rWS",
        "outputId": "7719db6a-48e0-4315-e202-65de62fe9b02"
      },
      "execution_count": null,
      "outputs": [
        {
          "output_type": "stream",
          "name": "stdout",
          "text": [
            "Model accuracy score with rbf kernel and C=5.9 : 0.6943\n"
          ]
        }
      ]
    },
    {
      "cell_type": "markdown",
      "source": [
        "Tomando en consideración que los datos de diferentes calificaciones eran muy parecidos entre sí, al probar diferentes valores de Kernel, C y función gamma, se obtuvo una precisión de 69% en la máquina de soporte vectorial, lo que resulta satisfactorio ya que se trata de calificaciones de calidad de vino, no es algo de vida o muerte y clasificar correctamente más de 2/3 partes de los datos.\n",
        "Se realizó las pruebas con diferentes combinaciones de hiperparámetros, pero la mejor combinación fue la utilizada anteriormente."
      ],
      "metadata": {
        "id": "55KXkiIqJRIW"
      }
    }
  ]
}