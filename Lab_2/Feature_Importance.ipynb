{
  "nbformat": 4,
  "nbformat_minor": 0,
  "metadata": {
    "colab": {
      "provenance": []
    },
    "kernelspec": {
      "name": "python3",
      "display_name": "Python 3"
    },
    "language_info": {
      "name": "python"
    }
  },
  "cells": [
    {
      "cell_type": "markdown",
      "source": [
        "Taken from https://machinelearningmastery.com/calculate-feature-importance-with-python/ for my big data class.\n",
        "\n",
        "# How to Calculate Feature Importance With Python\n"
      ],
      "metadata": {
        "id": "-XucEmcLIdk2"
      }
    },
    {
      "cell_type": "markdown",
      "source": [
        "Feature importance refers to techniques that assign a score to input features based on how useful they are at predicting a target variable.\n",
        "\n",
        "There are many types and sources of feature importance scores, although popular examples include statistical correlation scores, coefficients calculated as part of linear models, decision trees, and permutation importance scores.\n",
        "\n",
        "Feature importance scores play an important role in a predictive modeling project, including providing insight into the data, insight into the model, and the basis for dimensionality reduction and feature selection that can improve the efficiency and effectiveness of a predictive model on the problem.\n",
        "\n",
        "In this tutorial, you will discover feature importance scores for machine learning in python\n",
        "\n",
        "After completing this tutorial, you will know:\n",
        "\n",
        "* The role of feature importance in a predictive modeling problem.\n",
        "* How to calculate and review feature importance from linear models and decision trees.\n",
        "* How to calculate and review permutation feature importance scores.\n",
        "Kick-start your project with my new book Data Preparation for Machine Learning, including step-by-step tutorials and the Python source code files for all examples.\n",
        "\n",
        "Let’s get started.\n",
        "\n",
        "Update May/2020: Added example of feature selection using importance."
      ],
      "metadata": {
        "id": "UHij-XxEIkfv"
      }
    },
    {
      "cell_type": "markdown",
      "source": [
        "# Turorial Overview\n",
        "\n",
        "This tutorial is divided into six parts; they are:\n",
        "\n",
        "1. Feature Importance\n",
        "2. Preparation\n",
        "  1. Check Scikit-Learn Version\n",
        "  2. Test Datasets\n",
        "3. Coefficients as Feature Importance\n",
        "  1. Linear Regression Feature Importance\n",
        "  2. Logistic Regression Feature Importance\n",
        "4. Decision Tree Feature Importance\n",
        "  1. CART Feature Importance\n",
        "  2. Random Forest Feature Importance\n",
        "  3. XGBoost Feature Importance\n",
        "5. Permutation Feature Importance\n",
        "  1. Permutation Feature Importance for Regression\n",
        "  2. Permutation Feature Importance for Classification\n",
        "6. Feature Selection with Importance\n",
        "\n",
        "# Feature Importance\n",
        "\n",
        "Feature importance refers to a class of techniques for assigning scores to input features to a predictive model that indicates the relative importance of each feature when making a prediction.\n",
        "\n",
        "Feature importance scores can be calculated for problems that involve predicting a numerical value, called regression, and those problems that involve predicting a class label, called classification.\n",
        "\n",
        "The scores are useful and can be used in a range of situations in a predictive modeling problem, such as:\n",
        "\n",
        "* Better understanding the data.\n",
        "* Better understanding a model.\n",
        "* Reducing the number of input features.\n",
        "\n",
        "**Feature importance scores can provide insight into the dataset.** The relative scores can highlight which features may be most relevant to the target, and the converse, which features are the least relevant. This may be interpreted by a domain expert and could be used as the basis for gathering more or different data.\n",
        "\n",
        "**Feature importance scores can provide insight into the model.** Most importance scores are calculated by a predictive model that has been fit on the dataset. Inspecting the importance score provides insight into that specific model and which features are the most important and least important to the model when making a prediction. This is a type of model interpretation that can be performed for those models that support it.\n",
        "\n",
        "**Feature importance can be used to improve a predictive model.** This can be achieved by using the importance scores to select those features to delete (lowest scores) or those features to keep (highest scores). This is a type of feature selection and can simplify the problem that is being modeled, speed up the modeling process (deleting features is called dimensionality reduction), and in some cases, improve the performance of the model.\n",
        "\n",
        "> Often, we desire to quantify the strength of the relationship between the predictors and the outcome. […] Ranking predictors in this manner can be very useful when sifting through large amounts of data.\n",
        "\n",
        "— Page 463, Applied Predictive Modeling, 2013.\n",
        "\n",
        "Feature importance scores can be fed to a wrapper model, such as the SelectFromModel class, to perform feature selection.\n",
        "\n",
        "There are many ways to calculate feature importance scores and many models that can be used for this purpose.\n",
        "\n",
        "Perhaps the simplest way is to calculate simple coefficient statistics between each feature and the target variable. For more on this approach, see the tutorial:\n",
        "\n",
        "* How to Choose a Feature Selection Method for Machine Learning\n",
        "\n",
        "In this tutorial, we will look at three main types of more advanced feature importance; they are:\n",
        "\n",
        "* Feature importance from model coefficients.\n",
        "* Feature importance from decision trees.\n",
        "* Feature importance from permutation testing.\n",
        "\n",
        "Let’s take a closer look at each.\n",
        "\n",
        "# Preparation\n",
        "\n",
        "Before we dive in, let’s confirm our environment and prepare some test datasets.\n",
        "\n",
        "## Check Scikit-Learn Version\n",
        "\n",
        "First, confirm that you have a modern version of the scikit-learn library installed.\n",
        "\n",
        "This is important because some of the models we will explore in this tutorial require a modern version of the library.\n",
        "\n",
        "You can check the version of the library you have installed with the following code example:"
      ],
      "metadata": {
        "id": "PL78Z-zpVavE"
      }
    },
    {
      "cell_type": "code",
      "execution_count": 2,
      "metadata": {
        "colab": {
          "base_uri": "https://localhost:8080/"
        },
        "id": "whEN_wwNIcol",
        "outputId": "372f37b2-6c07-494d-acbd-746de147b7cc"
      },
      "outputs": [
        {
          "output_type": "stream",
          "name": "stdout",
          "text": [
            "1.2.2\n"
          ]
        }
      ],
      "source": [
        "# check scikit-learn version\n",
        "import sklearn\n",
        "print(sklearn.__version__)"
      ]
    },
    {
      "cell_type": "markdown",
      "source": [
        "Running the example will print the version of the library. At the time of writing, this is about version 0.22.\n",
        "\n",
        "You need to be using this version of scikit-learn or higher.\n",
        "\n",
        "## Test Datasets\n",
        "\n",
        "Next, let’s define some test datasets that we can use as the basis for demonstrating and exploring feature importance scores.\n",
        "\n",
        "Each test problem has five important and five unimportant features, and it may be interesting to see which methods are consistent at finding or differentiating the features based on their importance.\n",
        "\n",
        "## Classification Dataset\n",
        "\n",
        "We will use the make_classification() function to create a test binary classification dataset.\n",
        "\n",
        "The dataset will have 1,000 examples, with 10 input features, five of which will be informative and the remaining five will be redundant. We will fix the random number seed to ensure we get the same examples each time the code is run.\n",
        "\n",
        "An example of creating and summarizing the dataset is listed below.\n"
      ],
      "metadata": {
        "id": "YvzzUA8LVaTl"
      }
    },
    {
      "cell_type": "code",
      "source": [
        "# test classification dataset\n",
        "from sklearn.datasets import make_classification\n",
        "# define dataset\n",
        "X, y = make_classification(n_samples=1000, n_features=10, n_informative=5, n_redundant=5, random_state=1)\n",
        "# summarize the dataset\n",
        "print(X.shape, y.shape)"
      ],
      "metadata": {
        "colab": {
          "base_uri": "https://localhost:8080/"
        },
        "id": "TggyHL8MXfzF",
        "outputId": "e6ea4ce0-0fc4-4fc1-f020-2f556b6303bf"
      },
      "execution_count": 3,
      "outputs": [
        {
          "output_type": "stream",
          "name": "stdout",
          "text": [
            "(1000, 10) (1000,)\n"
          ]
        }
      ]
    },
    {
      "cell_type": "markdown",
      "source": [
        "Running the example creates the dataset and confirms the expected number of samples and features.\n",
        "\n",
        "## Regression Dataset\n",
        "We will use the make_regression() function to create a test regression dataset.\n",
        "\n",
        "Like the classification dataset, the regression dataset will have 1,000 examples, with 10 input features, five of which will be informative and the remaining five that will be redundant."
      ],
      "metadata": {
        "id": "y1j5OEknI5Oc"
      }
    },
    {
      "cell_type": "code",
      "source": [
        "# test regression dataset\n",
        "from sklearn.datasets import make_regression\n",
        "# define dataset\n",
        "X, y = make_regression(n_samples=1000, n_features=10, n_informative=5, random_state=1)\n",
        "# summarize the dataset\n",
        "print(X.shape, y.shape)"
      ],
      "metadata": {
        "colab": {
          "base_uri": "https://localhost:8080/"
        },
        "id": "LqYOK006XxXJ",
        "outputId": "00290fcc-d848-44c5-fb7b-fdd77a678b42"
      },
      "execution_count": 5,
      "outputs": [
        {
          "output_type": "stream",
          "name": "stdout",
          "text": [
            "(1000, 10) (1000,)\n"
          ]
        }
      ]
    },
    {
      "cell_type": "markdown",
      "source": [
        "Running the example creates the dataset and confirms the expected number of samples and features.\n",
        "\n",
        "Next, let’s take a closer look at coefficients as importance scores.\n",
        "\n",
        "## Coefficients as Feature Importance\n",
        "Linear machine learning algorithms fit a model where the prediction is the weighted sum of the input values.\n",
        "\n",
        "Examples include linear regression, logistic regression, and extensions that add regularization, such as ridge regression and the elastic net.\n",
        "\n",
        "All of these algorithms find a set of coefficients to use in the weighted sum in order to make a prediction. These coefficients can be used directly as a crude type of feature importance score.\n",
        "\n",
        "Let’s take a closer look at using coefficients as feature importance for classification and regression. We will fit a model on the dataset to find the coefficients, then summarize the importance scores for each input feature and finally create a bar chart to get an idea of the relative importance of the features.\n",
        "\n",
        "## Linear Regression Feature Importance\n",
        "\n",
        "We can fit a LinearRegression model on the regression dataset and retrieve the coeff_ property that contains the coefficients found for each input variable.\n",
        "\n",
        "These coefficients can provide the basis for a crude feature importance score. This assumes that the input variables have the same scale or have been scaled prior to fitting a model.\n",
        "\n",
        "The complete example of linear regression coefficients for feature importance is listed below.\n",
        "\n"
      ],
      "metadata": {
        "id": "VIIdjcGoX103"
      }
    },
    {
      "cell_type": "code",
      "source": [
        "# linear regression feature importance\n",
        "from sklearn.datasets import make_regression\n",
        "from sklearn.linear_model import LinearRegression\n",
        "from matplotlib import pyplot\n",
        "# define dataset\n",
        "X, y = make_regression(n_samples=1000, n_features=10, n_informative=5, random_state=1)\n",
        "# define the model\n",
        "model = LinearRegression()\n",
        "# fit the model\n",
        "model.fit(X, y)\n",
        "# get importance\n",
        "importance = model.coef_\n",
        "# summarize feature importance\n",
        "for i,v in enumerate(importance):\n",
        " print('Feature: %0d, Score: %.5f' % (i,v))\n",
        "# plot feature importance\n",
        "pyplot.bar([x for x in range(len(importance))], importance)\n",
        "pyplot.show()"
      ],
      "metadata": {
        "colab": {
          "base_uri": "https://localhost:8080/",
          "height": 604
        },
        "id": "iMGdPJD1YBg7",
        "outputId": "287bb27c-f86f-4db1-ca89-ac319f01a1e5"
      },
      "execution_count": 6,
      "outputs": [
        {
          "output_type": "stream",
          "name": "stdout",
          "text": [
            "Feature: 0, Score: 0.00000\n",
            "Feature: 1, Score: 12.44483\n",
            "Feature: 2, Score: -0.00000\n",
            "Feature: 3, Score: -0.00000\n",
            "Feature: 4, Score: 93.32225\n",
            "Feature: 5, Score: 86.50811\n",
            "Feature: 6, Score: 26.74607\n",
            "Feature: 7, Score: 3.28535\n",
            "Feature: 8, Score: -0.00000\n",
            "Feature: 9, Score: 0.00000\n"
          ]
        },
        {
          "output_type": "display_data",
          "data": {
            "text/plain": [
              "<Figure size 640x480 with 1 Axes>"
            ],
            "image/png": "[encoded data removed]"
          },
          "metadata": {}
        }
      ]
    },
    {
      "cell_type": "markdown",
      "source": [
        "Running the example fits the model, then reports the coefficient value for each feature.\n",
        "\n",
        "Note: Your results may vary given the stochastic nature of the algorithm or evaluation procedure, or differences in numerical precision. Consider running the example a few times and compare the average outcome.\n",
        "\n",
        "The scores suggest that the model found the five important features and marked all other features with a zero coefficient, essentially removing them from the model.\n",
        "\n",
        "A bar chart is then created for the feature importance scores.\n",
        "\n",
        "This approach may also be used with Ridge and ElasticNet models.\n",
        "\n",
        "## Logistic Regression Feature Importance\n",
        "\n",
        "We can fit a LogisticRegression model on the regression dataset and retrieve the coeff_ property that contains the coefficients found for each input variable.\n",
        "\n",
        "These coefficients can provide the basis for a crude feature importance score. This assumes that the input variables have the same scale or have been scaled prior to fitting a model.\n",
        "\n",
        "The complete example of logistic regression coefficients for feature importance is listed below."
      ],
      "metadata": {
        "id": "UZnquhN0YTmc"
      }
    },
    {
      "cell_type": "code",
      "source": [
        "# logistic regression for feature importance\n",
        "from sklearn.datasets import make_classification\n",
        "from sklearn.linear_model import LogisticRegression\n",
        "from matplotlib import pyplot\n",
        "# define dataset\n",
        "X, y = make_classification(n_samples=1000, n_features=10, n_informative=5, n_redundant=5, random_state=1)\n",
        "# define the model\n",
        "model = LogisticRegression()\n",
        "# fit the model\n",
        "model.fit(X, y)\n",
        "# get importance\n",
        "importance = model.coef_[0]\n",
        "# summarize feature importance\n",
        "for i,v in enumerate(importance):\n",
        " print('Feature: %0d, Score: %.5f' % (i,v))\n",
        "# plot feature importance\n",
        "pyplot.bar([x for x in range(len(importance))], importance)\n",
        "pyplot.show()"
      ],
      "metadata": {
        "colab": {
          "base_uri": "https://localhost:8080/",
          "height": 604
        },
        "id": "dezdaPgLYmQO",
        "outputId": "86f78aa8-e555-4f21-a31a-8bcf7db421f0"
      },
      "execution_count": 7,
      "outputs": [
        {
          "output_type": "stream",
          "name": "stdout",
          "text": [
            "Feature: 0, Score: 0.16320\n",
            "Feature: 1, Score: -0.64301\n",
            "Feature: 2, Score: 0.48497\n",
            "Feature: 3, Score: -0.46190\n",
            "Feature: 4, Score: 0.18432\n",
            "Feature: 5, Score: -0.11978\n",
            "Feature: 6, Score: -0.40602\n",
            "Feature: 7, Score: 0.03772\n",
            "Feature: 8, Score: -0.51785\n",
            "Feature: 9, Score: 0.26540\n"
          ]
        },
        {
          "output_type": "display_data",
          "data": {
            "text/plain": [
              "<Figure size 640x480 with 1 Axes>"
            ],
            "image/png": "[encoded data removed]"
          },
          "metadata": {}
        }
      ]
    },
    {
      "cell_type": "markdown",
      "source": [
        "Running the example fits the model, then reports the coefficient value for each feature.\n",
        "\n",
        "Note: Your results may vary given the stochastic nature of the algorithm or evaluation procedure, or differences in numerical precision. Consider running the example a few times and compare the average outcome.\n",
        "\n",
        "Recall this is a classification problem with classes 0 and 1. Notice that the coefficients are both positive and negative. The positive scores indicate a feature that predicts class 1, whereas the negative scores indicate a feature that predicts class 0.\n",
        "\n",
        "No clear pattern of important and unimportant features can be identified from these results, at least from what I can tell.\n",
        "\n",
        "A bar chart is then created for the feature importance scores.\n",
        "\n",
        "Now that we have seen the use of coefficients as importance scores, let’s look at the more common example of decision-tree-based importance scores.\n",
        "\n",
        "## Decision Tree Feature Importance\n",
        "\n",
        "Decision tree algorithms like classification and regression trees (CART) offer importance scores based on the reduction in the criterion used to select split points, like Gini or entropy.\n",
        "\n",
        "This same approach can be used for ensembles of decision trees, such as the random forest and stochastic gradient boosting algorithms.\n",
        "\n",
        "Let’s take a look at a worked example of each.\n",
        "\n",
        "## CART Feature Importance\n",
        "\n",
        "We can use the CART algorithm for feature importance implemented in scikit-learn as the DecisionTreeRegressor and DecisionTreeClassifier classes.\n",
        "\n",
        "After being fit, the model provides a feature_importances_ property that can be accessed to retrieve the relative importance scores for each input feature.\n",
        "\n",
        "Let’s take a look at an example of this for regression and classification.\n",
        "\n",
        "### CART Regression Feature Importance\n",
        "\n",
        "The complete example of fitting a DecisionTreeRegressor and summarizing the calculated feature importance scores is listed below."
      ],
      "metadata": {
        "id": "skfpMKvpY_fz"
      }
    },
    {
      "cell_type": "code",
      "source": [
        "# decision tree for feature importance on a regression problem\n",
        "from sklearn.datasets import make_regression\n",
        "from sklearn.tree import DecisionTreeRegressor\n",
        "from matplotlib import pyplot\n",
        "# define dataset\n",
        "X, y = make_regression(n_samples=1000, n_features=10, n_informative=5, random_state=1)\n",
        "# define the model\n",
        "model = DecisionTreeRegressor()\n",
        "# fit the model\n",
        "model.fit(X, y)\n",
        "# get importance\n",
        "importance = model.feature_importances_\n",
        "# summarize feature importance\n",
        "for i,v in enumerate(importance):\n",
        " print('Feature: %0d, Score: %.5f' % (i,v))\n",
        "# plot feature importance\n",
        "pyplot.bar([x for x in range(len(importance))], importance)\n",
        "pyplot.show()"
      ],
      "metadata": {
        "colab": {
          "base_uri": "https://localhost:8080/",
          "height": 604
        },
        "id": "CXYRUG2tZQhr",
        "outputId": "4f423e8e-6eeb-48a6-b988-cdd90752ac2a"
      },
      "execution_count": 8,
      "outputs": [
        {
          "output_type": "stream",
          "name": "stdout",
          "text": [
            "Feature: 0, Score: 0.00273\n",
            "Feature: 1, Score: 0.00501\n",
            "Feature: 2, Score: 0.00244\n",
            "Feature: 3, Score: 0.00259\n",
            "Feature: 4, Score: 0.51644\n",
            "Feature: 5, Score: 0.43747\n",
            "Feature: 6, Score: 0.02670\n",
            "Feature: 7, Score: 0.00320\n",
            "Feature: 8, Score: 0.00254\n",
            "Feature: 9, Score: 0.00088\n"
          ]
        },
        {
          "output_type": "display_data",
          "data": {
            "text/plain": [
              "<Figure size 640x480 with 1 Axes>"
            ],
            "image/png": "[encoded data removed]"
          },
          "metadata": {}
        }
      ]
    },
    {
      "cell_type": "markdown",
      "source": [
        "Running the example fits the model, then reports the coefficient value for each feature.\n",
        "\n",
        "Note: Your results may vary given the stochastic nature of the algorithm or evaluation procedure, or differences in numerical precision. Consider running the example a few times and compare the average outcome.\n",
        "\n",
        "The results suggest perhaps three of the 10 features as being important to prediction.\n",
        "\n",
        "A bar chart is then created for the feature importance scores.\n",
        "\n",
        "### CART Classification Feature Importance\n",
        "\n",
        "The complete example of fitting a DecisionTreeClassifier and summarizing the calculated feature importance scores is listed below.\n"
      ],
      "metadata": {
        "id": "OR4NsafGZUHI"
      }
    },
    {
      "cell_type": "code",
      "source": [
        "# decision tree for feature importance on a classification problem\n",
        "from sklearn.datasets import make_classification\n",
        "from sklearn.tree import DecisionTreeClassifier\n",
        "from matplotlib import pyplot\n",
        "# define dataset\n",
        "X, y = make_classification(n_samples=1000, n_features=10, n_informative=5, n_redundant=5, random_state=1)\n",
        "# define the model\n",
        "model = DecisionTreeClassifier()\n",
        "# fit the model\n",
        "model.fit(X, y)\n",
        "# get importance\n",
        "importance = model.feature_importances_\n",
        "# summarize feature importance\n",
        "for i,v in enumerate(importance):\n",
        " print('Feature: %0d, Score: %.5f' % (i,v))\n",
        "# plot feature importance\n",
        "pyplot.bar([x for x in range(len(importance))], importance)\n",
        "pyplot.show()"
      ],
      "metadata": {
        "colab": {
          "base_uri": "https://localhost:8080/",
          "height": 604
        },
        "id": "nPBITDhvZfBh",
        "outputId": "e521067b-c4b7-4072-b74f-f72c71c10df2"
      },
      "execution_count": 9,
      "outputs": [
        {
          "output_type": "stream",
          "name": "stdout",
          "text": [
            "Feature: 0, Score: 0.03373\n",
            "Feature: 1, Score: 0.01179\n",
            "Feature: 2, Score: 0.18691\n",
            "Feature: 3, Score: 0.30127\n",
            "Feature: 4, Score: 0.08916\n",
            "Feature: 5, Score: 0.01152\n",
            "Feature: 6, Score: 0.15101\n",
            "Feature: 7, Score: 0.04756\n",
            "Feature: 8, Score: 0.12588\n",
            "Feature: 9, Score: 0.04116\n"
          ]
        },
        {
          "output_type": "display_data",
          "data": {
            "text/plain": [
              "<Figure size 640x480 with 1 Axes>"
            ],
            "image/png": "[encoded data removed]"
          },
          "metadata": {}
        }
      ]
    },
    {
      "cell_type": "markdown",
      "source": [
        "Running the example fits the model, then reports the coefficient value for each feature.\n",
        "\n",
        "Note: Your results may vary given the stochastic nature of the algorithm or evaluation procedure, or differences in numerical precision. Consider running the example a few times and compare the average outcome.\n",
        "\n",
        "The results suggest perhaps four of the 10 features as being important to prediction.\n",
        "\n",
        "A bar chart is then created for the feature importance scores.\n",
        "\n",
        "## Random Forest Feature Importance\n",
        "\n",
        "We can use the Random Forest algorithm for feature importance implemented in scikit-learn as the RandomForestRegressor and RandomForestClassifier classes.\n",
        "\n",
        "After being fit, the model provides a feature_importances_ property that can be accessed to retrieve the relative importance scores for each input feature.\n",
        "\n",
        "This approach can also be used with the bagging and extra trees algorithms.\n",
        "\n",
        "Let’s take a look at an example of this for regression and classification.\n",
        "\n",
        "### Random Forest Regression Feature Importance\n",
        "\n",
        "The complete example of fitting a RandomForestRegressor and summarizing the calculated feature importance scores is listed below."
      ],
      "metadata": {
        "id": "H_g4plRcZjv6"
      }
    },
    {
      "cell_type": "code",
      "source": [
        "# random forest for feature importance on a regression problem\n",
        "from sklearn.datasets import make_regression\n",
        "from sklearn.ensemble import RandomForestRegressor\n",
        "from matplotlib import pyplot\n",
        "# define dataset\n",
        "X, y = make_regression(n_samples=1000, n_features=10, n_informative=5, random_state=1)\n",
        "# define the model\n",
        "model = RandomForestRegressor()\n",
        "# fit the model\n",
        "model.fit(X, y)\n",
        "# get importance\n",
        "importance = model.feature_importances_\n",
        "# summarize feature importance\n",
        "for i,v in enumerate(importance):\n",
        " print('Feature: %0d, Score: %.5f' % (i,v))\n",
        "# plot feature importance\n",
        "pyplot.bar([x for x in range(len(importance))], importance)\n",
        "pyplot.show()"
      ],
      "metadata": {
        "colab": {
          "base_uri": "https://localhost:8080/",
          "height": 604
        },
        "id": "Ps-MZ0e2Z0q6",
        "outputId": "9e3d3fe3-857b-4479-b4c8-3a92a50465d9"
      },
      "execution_count": 10,
      "outputs": [
        {
          "output_type": "stream",
          "name": "stdout",
          "text": [
            "Feature: 0, Score: 0.00299\n",
            "Feature: 1, Score: 0.00523\n",
            "Feature: 2, Score: 0.00277\n",
            "Feature: 3, Score: 0.00298\n",
            "Feature: 4, Score: 0.52739\n",
            "Feature: 5, Score: 0.42289\n",
            "Feature: 6, Score: 0.02666\n",
            "Feature: 7, Score: 0.00308\n",
            "Feature: 8, Score: 0.00307\n",
            "Feature: 9, Score: 0.00295\n"
          ]
        },
        {
          "output_type": "display_data",
          "data": {
            "text/plain": [
              "<Figure size 640x480 with 1 Axes>"
            ],
            "image/png": "[encoded data removed]"
          },
          "metadata": {}
        }
      ]
    },
    {
      "cell_type": "markdown",
      "source": [
        "Running the example fits the model, then reports the coefficient value for each feature.\n",
        "\n",
        "Note: Your results may vary given the stochastic nature of the algorithm or evaluation procedure, or differences in numerical precision. Consider running the example a few times and compare the average outcome.\n",
        "\n",
        "The results suggest perhaps two or three of the 10 features as being important to prediction.\n",
        "\n",
        "A bar chart is then created for the feature importance scores.\n",
        "\n",
        "### Random Forest Classification Feature Importance\n",
        "\n",
        "The complete example of fitting a RandomForestClassifier and summarizing the calculated feature importance scores is listed below."
      ],
      "metadata": {
        "id": "wIPwPgkAZ8ts"
      }
    },
    {
      "cell_type": "code",
      "source": [
        "# random forest for feature importance on a classification problem\n",
        "from sklearn.datasets import make_classification\n",
        "from sklearn.ensemble import RandomForestClassifier\n",
        "from matplotlib import pyplot\n",
        "# define dataset\n",
        "X, y = make_classification(n_samples=1000, n_features=10, n_informative=5, n_redundant=5, random_state=1)\n",
        "# define the model\n",
        "model = RandomForestClassifier()\n",
        "# fit the model\n",
        "model.fit(X, y)\n",
        "# get importance\n",
        "importance = model.feature_importances_\n",
        "# summarize feature importance\n",
        "for i,v in enumerate(importance):\n",
        " print('Feature: %0d, Score: %.5f' % (i,v))\n",
        "# plot feature importance\n",
        "pyplot.bar([x for x in range(len(importance))], importance)\n",
        "pyplot.show()"
      ],
      "metadata": {
        "colab": {
          "base_uri": "https://localhost:8080/",
          "height": 604
        },
        "id": "r1DjVumWaCkl",
        "outputId": "2c3a4c0d-0cce-456c-a6d2-c2a04766bea8"
      },
      "execution_count": 11,
      "outputs": [
        {
          "output_type": "stream",
          "name": "stdout",
          "text": [
            "Feature: 0, Score: 0.07161\n",
            "Feature: 1, Score: 0.10996\n",
            "Feature: 2, Score: 0.14632\n",
            "Feature: 3, Score: 0.20254\n",
            "Feature: 4, Score: 0.08530\n",
            "Feature: 5, Score: 0.09559\n",
            "Feature: 6, Score: 0.10429\n",
            "Feature: 7, Score: 0.04701\n",
            "Feature: 8, Score: 0.09261\n",
            "Feature: 9, Score: 0.04476\n"
          ]
        },
        {
          "output_type": "display_data",
          "data": {
            "text/plain": [
              "<Figure size 640x480 with 1 Axes>"
            ],
            "image/png": "[encoded data removed]"
          },
          "metadata": {}
        }
      ]
    },
    {
      "cell_type": "markdown",
      "source": [
        "Running the example fits the model, then reports the coefficient value for each feature.\n",
        "\n",
        "Note: Your results may vary given the stochastic nature of the algorithm or evaluation procedure, or differences in numerical precision. Consider running the example a few times and compare the average outcome.\n",
        "\n",
        "The results suggest perhaps two or three of the 10 features as being important to prediction.\n",
        "\n",
        "A bar chart is then created for the feature importance scores.\n",
        "\n",
        "## XGBoost Feature Importance\n",
        "\n",
        "XGBoost is a library that provides an efficient and effective implementation of the stochastic gradient boosting algorithm.\n",
        "\n",
        "This algorithm can be used with scikit-learn via the XGBRegressor and XGBClassifier classes.\n",
        "\n",
        "After being fit, the model provides a feature_importances_ property that can be accessed to retrieve the relative importance scores for each input feature.\n",
        "\n",
        "This algorithm is also provided via scikit-learn via the GradientBoostingClassifier and GradientBoostingRegressor classes and the same approach to feature selection can be used.\n",
        "\n",
        "First, install the XGBoost library, such as with pip:"
      ],
      "metadata": {
        "id": "-s9er3EQaKj8"
      }
    },
    {
      "cell_type": "code",
      "source": [
        "pip install xgboost"
      ],
      "metadata": {
        "colab": {
          "base_uri": "https://localhost:8080/"
        },
        "id": "-50Adc3jaXrK",
        "outputId": "68323184-d161-4440-d93b-d46920e7ae0b"
      },
      "execution_count": 13,
      "outputs": [
        {
          "output_type": "stream",
          "name": "stdout",
          "text": [
            "Looking in indexes: https://pypi.org/simple, https://us-python.pkg.dev/colab-wheels/public/simple/\n",
            "Requirement already satisfied: xgboost in /usr/local/lib/python3.9/dist-packages (1.7.5)\n",
            "Requirement already satisfied: scipy in /usr/local/lib/python3.9/dist-packages (from xgboost) (1.10.1)\n",
            "Requirement already satisfied: numpy in /usr/local/lib/python3.9/dist-packages (from xgboost) (1.22.4)\n"
          ]
        }
      ]
    },
    {
      "cell_type": "markdown",
      "source": [
        "Then confirm that the library was installed correctly and works by checking the version number.\n",
        "\n"
      ],
      "metadata": {
        "id": "eLexqq-raeaX"
      }
    },
    {
      "cell_type": "code",
      "source": [
        "# check xgboost version\n",
        "import xgboost\n",
        "print(xgboost.__version__)"
      ],
      "metadata": {
        "colab": {
          "base_uri": "https://localhost:8080/"
        },
        "id": "-3GP9nRyag7j",
        "outputId": "32ada75e-731e-4d00-92ac-3103a2ff82a6"
      },
      "execution_count": 14,
      "outputs": [
        {
          "output_type": "stream",
          "name": "stdout",
          "text": [
            "1.7.5\n"
          ]
        }
      ]
    },
    {
      "cell_type": "markdown",
      "source": [
        "Running the example, you should see the following version number or higher.\n",
        "\n",
        "For more on the XGBoost library, start here:\n",
        "\n",
        "* XGBoost with Python\n",
        "\n",
        "Let’s take a look at an example of XGBoost for feature importance on regression and classification problems.\n",
        "\n",
        "### XGBoost Regression Feature Importance\n",
        "\n",
        "The complete example of fitting a XGBRegressor and summarizing the calculated feature importance scores is listed below.\n",
        "\n"
      ],
      "metadata": {
        "id": "pm6isUUTaikP"
      }
    },
    {
      "cell_type": "code",
      "source": [
        "# xgboost for feature importance on a regression problem\n",
        "from sklearn.datasets import make_regression\n",
        "from xgboost import XGBRegressor\n",
        "from matplotlib import pyplot\n",
        "# define dataset\n",
        "X, y = make_regression(n_samples=1000, n_features=10, n_informative=5, random_state=1)\n",
        "# define the model\n",
        "model = XGBRegressor()\n",
        "# fit the model\n",
        "model.fit(X, y)\n",
        "# get importance\n",
        "importance = model.feature_importances_\n",
        "# summarize feature importance\n",
        "for i,v in enumerate(importance):\n",
        "\tprint('Feature: %0d, Score: %.5f' % (i,v))\n",
        "# plot feature importance\n",
        "pyplot.bar([x for x in range(len(importance))], importance)\n",
        "pyplot.show()"
      ],
      "metadata": {
        "colab": {
          "base_uri": "https://localhost:8080/",
          "height": 604
        },
        "id": "bpOHNLguaqzn",
        "outputId": "126d5599-8e0f-41d1-bf18-e2bd8226a91a"
      },
      "execution_count": 15,
      "outputs": [
        {
          "output_type": "stream",
          "name": "stdout",
          "text": [
            "Feature: 0, Score: 0.00039\n",
            "Feature: 1, Score: 0.00583\n",
            "Feature: 2, Score: 0.00112\n",
            "Feature: 3, Score: 0.00129\n",
            "Feature: 4, Score: 0.49502\n",
            "Feature: 5, Score: 0.46443\n",
            "Feature: 6, Score: 0.02951\n",
            "Feature: 7, Score: 0.00086\n",
            "Feature: 8, Score: 0.00075\n",
            "Feature: 9, Score: 0.00079\n"
          ]
        },
        {
          "output_type": "display_data",
          "data": {
            "text/plain": [
              "<Figure size 640x480 with 1 Axes>"
            ],
            "image/png": "[encoded data removed]"
          },
          "metadata": {}
        }
      ]
    },
    {
      "cell_type": "markdown",
      "source": [
        "Running the example fits the model, then reports the coefficient value for each feature.\n",
        "\n",
        "Note: Your results may vary given the stochastic nature of the algorithm or evaluation procedure, or differences in numerical precision. Consider running the example a few times and compare the average outcome.\n",
        "\n",
        "The results suggest perhaps two or three of the 10 features as being important to prediction.\n",
        "\n",
        "A bar chart is then created for the feature importance scores.\n",
        "\n",
        "### XGBoost Classification Feature Importance\n",
        "\n",
        "The complete example of fitting an XGBClassifier and summarizing the calculated feature importance scores is listed below.\n",
        "\n"
      ],
      "metadata": {
        "id": "2aqQcTIFaunq"
      }
    },
    {
      "cell_type": "code",
      "source": [
        "# xgboost for feature importance on a classification problem\n",
        "from sklearn.datasets import make_classification\n",
        "from xgboost import XGBClassifier\n",
        "from matplotlib import pyplot\n",
        "# define dataset\n",
        "X, y = make_classification(n_samples=1000, n_features=10, n_informative=5, n_redundant=5, random_state=1)\n",
        "# define the model\n",
        "model = XGBClassifier()\n",
        "# fit the model\n",
        "model.fit(X, y)\n",
        "# get importance\n",
        "importance = model.feature_importances_\n",
        "# summarize feature importance\n",
        "for i,v in enumerate(importance):\n",
        "\tprint('Feature: %0d, Score: %.5f' % (i,v))\n",
        "# plot feature importance\n",
        "pyplot.bar([x for x in range(len(importance))], importance)\n",
        "pyplot.show()"
      ],
      "metadata": {
        "colab": {
          "base_uri": "https://localhost:8080/",
          "height": 604
        },
        "id": "ptCyu4SRa2lO",
        "outputId": "e504cdb7-14f2-4d07-be5f-b743b07a0b0c"
      },
      "execution_count": 16,
      "outputs": [
        {
          "output_type": "stream",
          "name": "stdout",
          "text": [
            "Feature: 0, Score: 0.03723\n",
            "Feature: 1, Score: 0.07725\n",
            "Feature: 2, Score: 0.12537\n",
            "Feature: 3, Score: 0.29666\n",
            "Feature: 4, Score: 0.10099\n",
            "Feature: 5, Score: 0.05706\n",
            "Feature: 6, Score: 0.13027\n",
            "Feature: 7, Score: 0.03537\n",
            "Feature: 8, Score: 0.11694\n",
            "Feature: 9, Score: 0.02285\n"
          ]
        },
        {
          "output_type": "display_data",
          "data": {
            "text/plain": [
              "<Figure size 640x480 with 1 Axes>"
            ],
            "image/png": "[encoded data removed]"
          },
          "metadata": {}
        }
      ]
    },
    {
      "cell_type": "markdown",
      "source": [
        "Running the example fits the model then reports the coefficient value for each feature.\n",
        "\n",
        "Note: Your results may vary given the stochastic nature of the algorithm or evaluation procedure, or differences in numerical precision. Consider running the example a few times and compare the average outcome.\n",
        "\n",
        "The results suggest perhaps seven of the 10 features as being important to prediction.\n",
        "\n",
        "A bar chart is then created for the feature importance scores.\n",
        "\n",
        "# Permutation Feature Importance\n",
        "\n",
        "Permutation feature importance is a technique for calculating relative importance scores that is independent of the model used.\n",
        "\n",
        "First, a model is fit on the dataset, such as a model that does not support native feature importance scores. Then the model is used to make predictions on a dataset, although the values of a feature (column) in the dataset are scrambled. This is repeated for each feature in the dataset. Then this whole process is repeated 3, 5, 10 or more times. The result is a mean importance score for each input feature (and distribution of scores given the repeats).\n",
        "\n",
        "This approach can be used for regression or classification and requires that a performance metric be chosen as the basis of the importance score, such as the mean squared error for regression and accuracy for classification.\n",
        "\n",
        "Permutation feature selection can be used via the permutation_importance() function that takes a fit model, a dataset (train or test dataset is fine), and a scoring function.\n",
        "\n",
        "Let’s take a look at this approach to feature selection with an algorithm that does not support feature selection natively, specifically k-nearest neighbors.\n",
        "\n",
        "## Permutation Feature Importance for Regression\n",
        "The complete example of fitting a KNeighborsRegressor and summarizing the calculated permutation feature importance scores is listed below.\n",
        "\n"
      ],
      "metadata": {
        "id": "i37ZwIo7a6c7"
      }
    },
    {
      "cell_type": "code",
      "source": [
        "# permutation feature importance with knn for regression\n",
        "from sklearn.datasets import make_regression\n",
        "from sklearn.neighbors import KNeighborsRegressor\n",
        "from sklearn.inspection import permutation_importance\n",
        "from matplotlib import pyplot\n",
        "# define dataset\n",
        "X, y = make_regression(n_samples=1000, n_features=10, n_informative=5, random_state=1)\n",
        "# define the model\n",
        "model = KNeighborsRegressor()\n",
        "# fit the model\n",
        "model.fit(X, y)\n",
        "# perform permutation importance\n",
        "results = permutation_importance(model, X, y, scoring='neg_mean_squared_error')\n",
        "# get importance\n",
        "importance = results.importances_mean\n",
        "# summarize feature importance\n",
        "for i,v in enumerate(importance):\n",
        "\tprint('Feature: %0d, Score: %.5f' % (i,v))\n",
        "# plot feature importance\n",
        "pyplot.bar([x for x in range(len(importance))], importance)\n",
        "pyplot.show()"
      ],
      "metadata": {
        "colab": {
          "base_uri": "https://localhost:8080/",
          "height": 604
        },
        "id": "JYBh7s-ebJ4q",
        "outputId": "de969e7a-a649-49ee-b13a-787240d712e9"
      },
      "execution_count": 17,
      "outputs": [
        {
          "output_type": "stream",
          "name": "stdout",
          "text": [
            "Feature: 0, Score: 122.95346\n",
            "Feature: 1, Score: 368.67509\n",
            "Feature: 2, Score: 184.25574\n",
            "Feature: 3, Score: 89.80560\n",
            "Feature: 4, Score: 9482.55423\n",
            "Feature: 5, Score: 8061.43920\n",
            "Feature: 6, Score: 904.13061\n",
            "Feature: 7, Score: 100.43319\n",
            "Feature: 8, Score: 117.97539\n",
            "Feature: 9, Score: 127.04784\n"
          ]
        },
        {
          "output_type": "display_data",
          "data": {
            "text/plain": [
              "<Figure size 640x480 with 1 Axes>"
            ],
            "image/png": "[encoded data removed]"
          },
          "metadata": {}
        }
      ]
    },
    {
      "cell_type": "markdown",
      "source": [
        "Running the example fits the model, then reports the coefficient value for each feature.\n",
        "\n",
        "Note: Your results may vary given the stochastic nature of the algorithm or evaluation procedure, or differences in numerical precision. Consider running the example a few times and compare the average outcome.\n",
        "\n",
        "The results suggest perhaps two or three of the 10 features as being important to prediction.\n",
        "\n",
        "A bar chart is then created for the feature importance scores.\n",
        "\n",
        "## Permutation Feature Importance for Classification\n",
        "\n",
        "The complete example of fitting a KNeighborsClassifier and summarizing the calculated permutation feature importance scores is listed below.\n",
        "\n"
      ],
      "metadata": {
        "id": "zz6szaWVbcxZ"
      }
    },
    {
      "cell_type": "code",
      "source": [
        "# permutation feature importance with knn for classification\n",
        "from sklearn.datasets import make_classification\n",
        "from sklearn.neighbors import KNeighborsClassifier\n",
        "from sklearn.inspection import permutation_importance\n",
        "from matplotlib import pyplot\n",
        "# define dataset\n",
        "X, y = make_classification(n_samples=1000, n_features=10, n_informative=5, n_redundant=5, random_state=1)\n",
        "# define the model\n",
        "model = KNeighborsClassifier()\n",
        "# fit the model\n",
        "model.fit(X, y)\n",
        "# perform permutation importance\n",
        "results = permutation_importance(model, X, y, scoring='accuracy')\n",
        "# get importance\n",
        "importance = results.importances_mean\n",
        "# summarize feature importance\n",
        "for i,v in enumerate(importance):\n",
        "\tprint('Feature: %0d, Score: %.5f' % (i,v))\n",
        "# plot feature importance\n",
        "pyplot.bar([x for x in range(len(importance))], importance)\n",
        "pyplot.show()"
      ],
      "metadata": {
        "colab": {
          "base_uri": "https://localhost:8080/",
          "height": 604
        },
        "id": "-w_F5wVUbhb1",
        "outputId": "140bff85-3ad1-46d9-daf0-6772f186c029"
      },
      "execution_count": 18,
      "outputs": [
        {
          "output_type": "stream",
          "name": "stdout",
          "text": [
            "Feature: 0, Score: 0.05040\n",
            "Feature: 1, Score: 0.06240\n",
            "Feature: 2, Score: 0.05160\n",
            "Feature: 3, Score: 0.08900\n",
            "Feature: 4, Score: 0.05040\n",
            "Feature: 5, Score: 0.06200\n",
            "Feature: 6, Score: 0.07380\n",
            "Feature: 7, Score: 0.05620\n",
            "Feature: 8, Score: 0.05500\n",
            "Feature: 9, Score: 0.02980\n"
          ]
        },
        {
          "output_type": "display_data",
          "data": {
            "text/plain": [
              "<Figure size 640x480 with 1 Axes>"
            ],
            "image/png": "[encoded data removed]"
          },
          "metadata": {}
        }
      ]
    },
    {
      "cell_type": "markdown",
      "source": [
        "Running the example fits the model, then reports the coefficient value for each feature.\n",
        "\n",
        "Note: Your results may vary given the stochastic nature of the algorithm or evaluation procedure, or differences in numerical precision. Consider running the example a few times and compare the average outcome.\n",
        "\n",
        "The results suggest perhaps two or three of the 10 features as being important to prediction.\n",
        "\n",
        "A bar chart is then created for the feature importance scores.\n",
        "\n",
        "### Feature Selection with Importance\n",
        "\n",
        "Feature importance scores can be used to help interpret the data, but they can also be used directly to help rank and select features that are most useful to a predictive model.\n",
        "\n",
        "We can demonstrate this with a small example.\n",
        "\n",
        "Recall, our synthetic dataset has 1,000 examples each with 10 input variables, five of which are redundant and five of which are important to the outcome. We can use feature importance scores to help select the five variables that are relevant and only use them as inputs to a predictive model.\n",
        "\n",
        "First, we can split the training dataset into train and test sets and train a model on the training dataset, make predictions on the test set and evaluate the result using classification accuracy. We will use a logistic regression model as the predictive model.\n",
        "\n",
        "This provides a baseline for comparison when we remove some features using feature importance scores.\n",
        "\n",
        "The complete example of evaluating a logistic regression model using all features as input on our synthetic dataset is listed below.\n",
        "\n"
      ],
      "metadata": {
        "id": "smxBygsWbm-n"
      }
    },
    {
      "cell_type": "code",
      "source": [
        "# evaluation of a model using all features\n",
        "from sklearn.datasets import make_classification\n",
        "from sklearn.model_selection import train_test_split\n",
        "from sklearn.linear_model import LogisticRegression\n",
        "from sklearn.metrics import accuracy_score\n",
        "# define the dataset\n",
        "X, y = make_classification(n_samples=1000, n_features=10, n_informative=5, n_redundant=5, random_state=1)\n",
        "# split into train and test sets\n",
        "X_train, X_test, y_train, y_test = train_test_split(X, y, test_size=0.33, random_state=1)\n",
        "# fit the model\n",
        "model = LogisticRegression(solver='liblinear')\n",
        "model.fit(X_train, y_train)\n",
        "# evaluate the model\n",
        "yhat = model.predict(X_test)\n",
        "# evaluate predictions\n",
        "accuracy = accuracy_score(y_test, yhat)\n",
        "print('Accuracy: %.2f' % (accuracy*100))"
      ],
      "metadata": {
        "colab": {
          "base_uri": "https://localhost:8080/"
        },
        "id": "2Tl8SP8KcT5o",
        "outputId": "03bfce6d-9035-4cbb-9193-02aa9db25c61"
      },
      "execution_count": 19,
      "outputs": [
        {
          "output_type": "stream",
          "name": "stdout",
          "text": [
            "Accuracy: 84.55\n"
          ]
        }
      ]
    },
    {
      "cell_type": "markdown",
      "source": [
        "Running the example first the logistic regression model on the training dataset and evaluates it on the test set.\n",
        "\n",
        "Note: Your results may vary given the stochastic nature of the algorithm or evaluation procedure, or differences in numerical precision. Consider running the example a few times and compare the average outcome.\n",
        "\n",
        "In this case we can see that the model achieved the classification accuracy of about 84.55 percent using all features in the dataset.\n",
        "\n",
        "Given that we created the dataset, we would expect better or the same results with half the number of input variables.\n",
        "\n",
        "We could use any of the feature importance scores explored above, but in this case we will use the feature importance scores provided by random forest.\n",
        "\n",
        "We can use the SelectFromModel class to define both the model we wish to calculate importance scores, RandomForestClassifier in this case, and the number of features to select, 5 in this case."
      ],
      "metadata": {
        "id": "EWhlSVuxcV5i"
      }
    },
    {
      "cell_type": "code",
      "source": [
        "...\n",
        "# configure to select a subset of features\n",
        "fs = SelectFromModel(RandomForestClassifier(n_estimators=200), max_features=5)"
      ],
      "metadata": {
        "id": "97Sm7DaIcc5u"
      },
      "execution_count": null,
      "outputs": []
    },
    {
      "cell_type": "markdown",
      "source": [
        "We can fit the feature selection method on the training dataset.\n",
        "\n",
        "This will calculate the importance scores that can be used to rank all input features. We can then apply the method as a transform to select a subset of 5 most important features from the dataset. This transform will be applied to the training dataset and the test set."
      ],
      "metadata": {
        "id": "KXU1BmT_cmBG"
      }
    },
    {
      "cell_type": "code",
      "source": [
        "...\n",
        "# learn relationship from training data\n",
        "fs.fit(X_train, y_train)\n",
        "# transform train input data\n",
        "X_train_fs = fs.transform(X_train)\n",
        "# transform test input data\n",
        "X_test_fs = fs.transform(X_test)"
      ],
      "metadata": {
        "id": "D_IGONmYcm68"
      },
      "execution_count": null,
      "outputs": []
    },
    {
      "cell_type": "markdown",
      "source": [
        "Tying this all together, the complete example of using random forest feature importance for feature selection is listed below."
      ],
      "metadata": {
        "id": "jHXbnY9xcpKr"
      }
    },
    {
      "cell_type": "code",
      "source": [
        "# evaluation of a model using 5 features chosen with random forest importance\n",
        "from sklearn.datasets import make_classification\n",
        "from sklearn.model_selection import train_test_split\n",
        "from sklearn.feature_selection import SelectFromModel\n",
        "from sklearn.ensemble import RandomForestClassifier\n",
        "from sklearn.linear_model import LogisticRegression\n",
        "from sklearn.metrics import accuracy_score\n",
        "\n",
        "# feature selection\n",
        "def select_features(X_train, y_train, X_test):\n",
        "\t# configure to select a subset of features\n",
        "\tfs = SelectFromModel(RandomForestClassifier(n_estimators=1000), max_features=5)\n",
        "\t# learn relationship from training data\n",
        "\tfs.fit(X_train, y_train)\n",
        "\t# transform train input data\n",
        "\tX_train_fs = fs.transform(X_train)\n",
        "\t# transform test input data\n",
        "\tX_test_fs = fs.transform(X_test)\n",
        "\treturn X_train_fs, X_test_fs, fs\n",
        "\n",
        "# define the dataset\n",
        "X, y = make_classification(n_samples=1000, n_features=10, n_informative=5, n_redundant=5, random_state=1)\n",
        "# split into train and test sets\n",
        "X_train, X_test, y_train, y_test = train_test_split(X, y, test_size=0.33, random_state=1)\n",
        "# feature selection\n",
        "X_train_fs, X_test_fs, fs = select_features(X_train, y_train, X_test)\n",
        "# fit the model\n",
        "model = LogisticRegression(solver='liblinear')\n",
        "model.fit(X_train_fs, y_train)\n",
        "# evaluate the model\n",
        "yhat = model.predict(X_test_fs)\n",
        "# evaluate predictions\n",
        "accuracy = accuracy_score(y_test, yhat)\n",
        "print('Accuracy: %.2f' % (accuracy*100))"
      ],
      "metadata": {
        "colab": {
          "base_uri": "https://localhost:8080/"
        },
        "id": "JSVszvgXcqxO",
        "outputId": "ee0d8a0d-855e-412a-9162-5531571b9bf5"
      },
      "execution_count": 22,
      "outputs": [
        {
          "output_type": "stream",
          "name": "stdout",
          "text": [
            "Accuracy: 84.55\n"
          ]
        }
      ]
    },
    {
      "cell_type": "markdown",
      "source": [
        "Running the example first performs feature selection on the dataset, then fits and evaluates the logistic regression model as before.\n",
        "\n",
        "Note: Your results may vary given the stochastic nature of the algorithm or evaluation procedure, or differences in numerical precision. Consider running the example a few times and compare the average outcome.\n",
        "\n",
        "In this case, we can see that the model achieves the same performance on the dataset, although with half the number of input features. As expected, the feature importance scores calculated by random forest allowed us to accurately rank the input features and delete those that were not relevant to the target variable.\n",
        "\n",
        "# Further Reading\n",
        "\n",
        "This section provides more resources on the topic if you are looking to go deeper.\n",
        "\n",
        "## Related Tutorials\n",
        "\n",
        "* How to Choose a Feature Selection Method For Machine Learning\n",
        "* How to Perform Feature Selection with Categorical Data\n",
        "* Feature Importance and Feature Selection With XGBoost in Python\n",
        "* Feature Selection For Machine Learning in Python\n",
        "* An Introduction to Feature Selection\n",
        "\n",
        "## Books\n",
        "\n",
        "* Applied Predictive Modeling, 2013.\n",
        "\n",
        "## APIs\n",
        "\n",
        "* Feature selection, scikit-learn API.\n",
        "* Permutation feature importance scikit-learn API.\n",
        "* sklearn.datasets.make_classification API.\n",
        "* sklearn.datasets.make_regression API.\n",
        "* XGBoost Python API Reference.\n",
        "* sklearn.inspection.permutation_importance API.\n",
        "\n",
        "# Summary\n",
        "\n",
        "In this tutorial, you discovered feature importance scores for machine learning in python\n",
        "\n",
        "Specifically, you learned:\n",
        "\n",
        "* The role of feature importance in a predictive modeling problem.\n",
        "* How to calculate and review feature importance from linear models and decision trees.\n",
        "* How to calculate and review permutation feature importance scores.\n",
        "\n",
        "#### Do you have any questions?\n",
        "\n",
        "Ask your questions in the comments below and I will do my best to answer."
      ],
      "metadata": {
        "id": "m7vk3EMicwA8"
      }
    },
    {
      "cell_type": "markdown",
      "source": [
        "Taken from https://machinelearningmastery.com/calculate-feature-importance-with-python/ for my big data class."
      ],
      "metadata": {
        "id": "skaTj_V9dYf8"
      }
    }
  ]
}