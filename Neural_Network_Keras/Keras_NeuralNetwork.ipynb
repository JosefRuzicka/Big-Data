{
  "nbformat": 4,
  "nbformat_minor": 0,
  "metadata": {
    "colab": {
      "provenance": [],
      "gpuType": "T4"
    },
    "kernelspec": {
      "name": "python3",
      "display_name": "Python 3"
    },
    "language_info": {
      "name": "python"
    }
  },
  "cells": [
    {
      "cell_type": "markdown",
      "source": [
        "#Laboratorio: Redes Neuronales\n",
        "Estudiantes:\n",
        "- Josef Ruzicka - B87095\n",
        "- Emmanuel Zúñiga - B98729\n",
        "\n",
        "## Descripción de una Red Neuronal\n",
        "### Multi-Layer Perceptrons\n",
        "\n",
        "\n",
        "Las multi-layer perceptrons (MLP) son un tipo de modelo de aprendizaje automático que se basa en las redes neuronales artificiales. Son una forma popular de red neuronal y se utilizan en una amplia variedad de aplicaciones, como reconocimiento de voz, visión por computadora, procesamiento de texto y muchos otros problemas de clasificación y regresión.\n",
        "\n",
        "#### Neuronas\n",
        "\n",
        "En una multi-layer perceptron (MLP), las neuronas son unidades fundamentales que procesan la información y transfieren señales a través de la red. Cada neurona en una MLP está conectada a las neuronas de las capas anteriores y posteriores mediante conexiones ponderadas.\n",
        "\n",
        "Cada neurona en una capa oculta o en la capa de salida realiza dos operaciones principales: la suma ponderada de las entradas y la aplicación de una función de activación no lineal a la suma ponderada. Estas operaciones se realizan para cada neurona en la capa y generan la salida de la neurona.\n",
        "\n",
        "1. Suma ponderada de las entradas: Cada neurona recibe entradas desde las neuronas de la capa anterior, y cada conexión entre las neuronas tiene asociado un peso. La neurona suma las entradas ponderadas multiplicando cada entrada por su peso respectivo y luego sumándolas.\n",
        "\n",
        "2. Función de activación no lineal: Después de la suma ponderada, la neurona aplica una función de activación no lineal a la suma ponderada para introducir no linealidad en la red y permitir que esta aprenda relaciones complejas en los datos. Algunas funciones de activación comunes son:\n",
        "\n",
        " * Función Sigmoide\n",
        " * Función ReLU (Rectified Linear Unit)\n",
        " * Función Tangente Hiperbólica\n",
        "\n",
        "    La función de activación transforma la suma ponderada en una salida no lineal que se propaga a las neuronas de la siguiente capa.\n",
        "\n",
        "Una vez que las salidas de las neuronas de una capa se propagan a las neuronas de la siguiente capa, el proceso de suma ponderada y función de activación se repite para cada neurona en esa capa. Esto continúa hasta que se alcanza la capa de salida y se obtienen las salidas finales del MLP.\n",
        "\n",
        "Durante la fase de entrenamiento, los pesos y sesgos de las conexiones se ajustan iterativamente utilizando algoritmos de optimización, como el descenso de gradiente, para minimizar una función de pérdida que mide la discrepancia entre las salidas predichas y las salidas deseadas. Esto permite que el MLP aprenda a realizar predicciones precisas a partir de los datos de entrenamiento.\n",
        "\n",
        "####Pesos\n",
        "\n",
        "Los pesos son parámetros ajustables asociados a las conexiones entre las neuronas. Cada conexión entre las neuronas tiene un peso asignado, que determina la importancia o influencia relativa de una neurona en la otra. Los pesos en una MLP son fundamentales para el funcionamiento y aprendizaje del modelo.\n",
        "\n",
        "Cuando se propaga una señal a través de la red neuronal, cada neurona recibe las salidas de las neuronas de la capa anterior, multiplicadas por sus respectivos pesos. La neurona suma ponderadamente estas entradas multiplicadas por los pesos para generar una suma ponderada. Los pesos determinan cuánta importancia se le da a cada entrada en la contribución a la suma ponderada.\n",
        "\n",
        "Durante la fase de entrenamiento, los pesos se ajustan de manera iterativa mediante algoritmos de optimización, como el descenso de gradiente, para minimizar una función de pérdida que mide la discrepancia entre las salidas predichas y las salidas deseadas. Los pesos son actualizados en función de la magnitud del error y la tasa de aprendizaje del modelo.\n",
        "\n",
        "El ajuste de los pesos en el entrenamiento de una MLP es esencial para que el modelo pueda aprender a mapear correctamente las entradas a las salidas deseadas. A medida que el modelo se entrena, los pesos se adaptan para capturar las relaciones y patrones importantes en los datos. Los pesos más grandes o positivos aumentan la influencia de una neurona en la siguiente capa, mientras que los pesos más pequeños o negativos disminuyen esa influencia.\n",
        "\n",
        "La capacidad de ajustar los pesos en una MLP es lo que permite que el modelo aprenda a representar y modelar relaciones complejas entre las variables de entrada y las salidas objetivo. A través del proceso de entrenamiento, los pesos se ajustan para minimizar el error y mejorar la precisión de las predicciones del modelo.\n",
        "\n",
        "####Función de activación\n",
        "\n",
        "Una función de activación en una red neuronal define cómo la suma ponderada de las entradas se transforma en una salida de un nodo o nodos en una capa de la red.\n",
        "\n",
        "A veces se llama \"función de transferencia\" a la función de activación. Si el rango de salida de la función de activación está limitado, entonces puede llamarse \"función de compresión\". Muchas funciones de activación son no lineales y pueden denominarse \"no linealidad\" en la capa o en el diseño de la red.\n",
        "\n",
        "La elección de la función de activación tiene un gran impacto en la capacidad y el rendimiento de la red neuronal, y se pueden usar diferentes funciones de activación en diferentes partes del modelo.\n",
        "\n",
        "Técnicamente, la función de activación se utiliza dentro o después del procesamiento interno de cada nodo en la red, aunque las redes están diseñadas para utilizar la misma función de activación para todos los nodos en una capa.\n",
        "\n",
        "Una red puede tener tres tipos de capas: capas de entrada que toman la entrada sin procesar del dominio, capas ocultas que toman la entrada de otra capa y pasan la salida a otra capa, y capas de salida que hacen una predicción.\n",
        "\n",
        "Todas las capas ocultas suelen utilizar la misma función de activación. La capa de salida normalmente utilizará una función de activación diferente a las capas ocultas y dependerá del tipo de predicción requerida por el modelo.\n",
        "\n",
        "Las funciones de activación suelen ser diferenciables, lo que significa que se puede calcular la derivada de primer orden para un valor de entrada dado. Esto es necesario dado que las redes neuronales suelen entrenarse utilizando el algoritmo de retropropagación del error, que requiere la derivada del error de predicción para actualizar los pesos del modelo.\n",
        "\n",
        "Existen muchos tipos diferentes de funciones de activación utilizadas en redes neuronales, aunque quizás solo se utilice un número pequeño de funciones en la práctica para las capas ocultas y de salida.\n",
        "\n",
        "Veamos las funciones de activación utilizadas para cada tipo de capa en orden.\n",
        "\n",
        "#####Funciones de Activación en la Capa Oculta\n",
        "\n",
        "Una capa oculta en una red neuronal es una capa que recibe entrada de otra capa (como otra capa oculta o una capa de entrada) y proporciona salida a otra capa (como otra capa oculta o una capa de salida).\n",
        "\n",
        "Una capa oculta no tiene contacto directo con los datos de entrada ni produce salidas para un modelo, al menos en general.\n",
        "\n",
        "Una red neuronal puede tener cero o más capas ocultas.\n",
        "\n",
        "Normalmente, se utiliza una función de activación no lineal diferenciable en las capas ocultas de una red neuronal. Esto permite que el modelo aprenda funciones más complejas que una red entrenada utilizando una función de activación lineal.\n",
        "\n",
        "#####Función ReLU (Rectified Linear Unit)\n",
        "\n",
        "La función de activación lineal rectificada, o función de activación ReLU, es quizás la función más comúnmente utilizada en las capas ocultas.\n",
        "\n",
        "Es común debido a que es tanto simple de implementar como efectiva para superar las limitaciones de otras funciones de activación previamente populares, como Sigmoid y Tanh. Específicamente, es menos susceptible a los gradientes que desvanecen y evitan que se entrenen modelos profundos, aunque puede tener otros problemas como unidades saturadas o \"muertas\".\n",
        "\n",
        "La función ReLU se calcula de la siguiente manera:\n",
        "\n",
        "`max(0.0, x)`\n",
        "\n",
        "Esto significa que si el valor de entrada (x) es negativo, se devuelve el valor 0.0; de lo contrario, se devuelve el valor de entrada.\n",
        "\n",
        "Podemos obtener una intuición sobre la forma de esta función con el siguiente ejemplo práctico."
      ],
      "metadata": {
        "id": "MYbaLAAHcPkS"
      }
    },
    {
      "cell_type": "code",
      "execution_count": null,
      "metadata": {
        "id": "5g9CPk5UcIdd",
        "colab": {
          "base_uri": "https://localhost:8080/",
          "height": 430
        },
        "outputId": "78c3d1a7-9f3d-4f1c-e656-0fb83e8653a8"
      },
      "outputs": [
        {
          "output_type": "display_data",
          "data": {
            "text/plain": [
              "<Figure size 640x480 with 1 Axes>"
            ],
            "image/png": "[encoded data removed]"
          },
          "metadata": {}
        }
      ],
      "source": [
        "# example plot for the relu activation function\n",
        "from matplotlib import pyplot\n",
        "\n",
        "# rectified linear function\n",
        "def rectified(x):\n",
        "\treturn max(0.0, x)\n",
        "\n",
        "# define input data\n",
        "inputs = [x for x in range(-10, 10)]\n",
        "# calculate outputs\n",
        "outputs = [rectified(x) for x in inputs]\n",
        "# plot inputs vs outputs\n",
        "pyplot.plot(inputs, outputs)\n",
        "pyplot.show()"
      ]
    },
    {
      "cell_type": "markdown",
      "source": [
        "Al ejecutar el ejemplo, se calculan las salidas para una variedad de valores y se crea un gráfico de las entradas frente a las salidas.\n",
        "\n",
        "Podemos ver la forma característica de la función de activación ReLU.\n",
        "\n",
        "#####Función Sigmoide\n",
        "La función de activación sigmoide también se llama función logística.\n",
        "\n",
        "Es la misma función que se utiliza en el algoritmo de clasificación de regresión logística.\n",
        "\n",
        "La función toma cualquier valor real como entrada y produce valores en el rango de 0 a 1. Cuanto mayor sea la entrada (más positiva), más cercano será el valor de salida a 1.0, mientras que cuanto menor sea la entrada (más negativa), más cercano será el valor de salida a 0.0.\n",
        "\n",
        "La función de activación sigmoide se calcula de la siguiente manera:\n",
        "\n",
        "`1.0 / (1.0 + e^-x)`\n",
        "\n",
        "Donde e es una constante matemática, que es la base del logaritmo natural.\n",
        "\n",
        "Podemos obtener una intuición sobre la forma de esta función con el siguiente ejemplo práctico.\n"
      ],
      "metadata": {
        "id": "wdryF5zBg2oH"
      }
    },
    {
      "cell_type": "code",
      "source": [
        "# example plot for the sigmoid activation function\n",
        "from math import exp\n",
        "from matplotlib import pyplot\n",
        "\n",
        "# sigmoid activation function\n",
        "def sigmoid(x):\n",
        "\treturn 1.0 / (1.0 + exp(-x))\n",
        "\n",
        "# define input data\n",
        "inputs = [x for x in range(-10, 10)]\n",
        "# calculate outputs\n",
        "outputs = [sigmoid(x) for x in inputs]\n",
        "# plot inputs vs outputs\n",
        "pyplot.plot(inputs, outputs)\n",
        "pyplot.show()"
      ],
      "metadata": {
        "id": "iOl-ZKJWhX5V",
        "colab": {
          "base_uri": "https://localhost:8080/",
          "height": 430
        },
        "outputId": "23592424-7f70-4f29-dedb-4b7fcf0a66b5"
      },
      "execution_count": null,
      "outputs": [
        {
          "output_type": "display_data",
          "data": {
            "text/plain": [
              "<Figure size 640x480 with 1 Axes>"
            ],
            "image/png": "[encoded data removed]"
          },
          "metadata": {}
        }
      ]
    },
    {
      "cell_type": "markdown",
      "source": [
        "Al ejecutar el ejemplo, se calculan las salidas para una variedad de valores y se crea un gráfico de las entradas frente a las salidas.\n",
        "\n",
        "Podemos ver la forma característica en forma de \"S\" de la función de activación sigmoide.\n",
        "\n",
        "#####Función Tangente Hipervólica\n",
        "\n",
        "La función de activación tangente hiperbólica también se conoce simplemente como la función Tanh (también \"tanh\" y \"TanH\").\n",
        "\n",
        "Es muy similar a la función de activación sigmoide y incluso tiene la misma forma en \"S\".\n",
        "\n",
        "La función toma cualquier valor real como entrada y produce valores en el rango de -1 a 1. Cuanto mayor sea la entrada (más positiva), más cercano será el valor de salida a 1.0, mientras que cuanto menor sea la entrada (más negativa), más cercano será el valor de salida a -1.0.\n",
        "\n",
        "La función de activación Tanh se calcula de la siguiente manera:\n",
        "\n",
        "`(e^x - e^-x) / (e^x + e^-x)`\n",
        "\n",
        "Donde e es una constante matemática que es la base del logaritmo natural.\n",
        "\n",
        "Podemos obtener una intuición sobre la forma de esta función con el siguiente ejemplo práctico."
      ],
      "metadata": {
        "id": "HrRLsl2rhhnQ"
      }
    },
    {
      "cell_type": "code",
      "source": [
        "# example plot for the tanh activation function\n",
        "from math import exp\n",
        "from matplotlib import pyplot\n",
        "\n",
        "# tanh activation function\n",
        "def tanh(x):\n",
        "\treturn (exp(x) - exp(-x)) / (exp(x) + exp(-x))\n",
        "\n",
        "# define input data\n",
        "inputs = [x for x in range(-10, 10)]\n",
        "# calculate outputs\n",
        "outputs = [tanh(x) for x in inputs]\n",
        "# plot inputs vs outputs\n",
        "pyplot.plot(inputs, outputs)\n",
        "pyplot.show()"
      ],
      "metadata": {
        "id": "ZlISOTBQhxdw",
        "colab": {
          "base_uri": "https://localhost:8080/",
          "height": 430
        },
        "outputId": "62e17594-fc1c-4819-9249-20edcf8f8504"
      },
      "execution_count": null,
      "outputs": [
        {
          "output_type": "display_data",
          "data": {
            "text/plain": [
              "<Figure size 640x480 with 1 Axes>"
            ],
            "image/png": "[encoded data removed]"
          },
          "metadata": {}
        }
      ]
    },
    {
      "cell_type": "markdown",
      "source": [
        "Al ejecutar el ejemplo, se calculan las salidas para una variedad de valores y se crea un gráfico de las entradas frente a las salidas.\n",
        "\n",
        "Podemos ver la forma característica en forma de \"S\" de la función de activación Tanh.\n",
        "\n",
        "\n",
        "####¿Cómo seleccionar una función de activación?\n",
        "\n",
        "Una red neuronal casi siempre tendrá la misma función de activación en todas las capas ocultas.\n",
        "\n",
        "Es muy inusual variar la función de activación a lo largo de un modelo de red.\n",
        "\n",
        "Tradicionalmente, la función de activación sigmoide era la función de activación predeterminada en la década de 1990. Quizás desde mediados de la década de 1990 hasta la década de 2010, la función Tanh fue la función de activación predeterminada para las capas ocultas.\n",
        "\n",
        "Tanto las funciones sigmoide como Tanh pueden hacer que el modelo sea más susceptible a problemas durante el entrenamiento, como el denominado problema de gradientes que desvanecen.\n",
        "\n",
        "La función de activación utilizada en las capas ocultas se elige típicamente en función del tipo de arquitectura de la red neuronal.\n",
        "\n",
        "Los modelos de redes neuronales modernas con arquitecturas comunes, como MLP y CNN, utilizarán la función de activación ReLU o sus extensiones.\n",
        "\n",
        "Las redes recurrentes aún suelen utilizar las funciones de activación Tanh o sigmoide, o incluso ambas. Por ejemplo, LSTM comúnmente utiliza la activación sigmoide para las conexiones recurrentes y la activación Tanh para la salida.\n",
        "\n",
        "* Perceptrón multicapa (MLP): función de activación ReLU.\n",
        "* Redes neuronales convolucionales (CNN): función de activación ReLU.\n",
        "* Redes neuronales recurrentes: función de activación Tanh y/o sigmoide.\n",
        "\n",
        "Si no están seguros de qué función de activación usar para tu red, prueben algunas y comparen los resultados.\n",
        "\n",
        "\n",
        "##### Activación para Capas de Salida\n",
        "\n",
        "La capa de salida es la capa en un modelo de red neuronal que produce directamente una predicción.\n",
        "\n",
        "Todos los modelos de redes neuronales feed-forward tienen una capa de salida.\n",
        "\n",
        "Hay tres funciones de activación que podrías considerar usar en la capa de salida:\n",
        "\n",
        "* Lineal\n",
        "* Logística (Sigmoide)\n",
        "* Softmax\n",
        "\n",
        "Esta no es una lista exhaustiva de las funciones de activación utilizadas en las capas de salida, pero son las más comúnmente utilizadas.\n",
        "\n",
        "Veamos más de cerca cada una de ellas.\n",
        "\n",
        "###### Función de activación lineal en la capa de salida\n",
        "\n",
        "La función de activación lineal también se conoce como \"identidad\" (multiplicada por 1.0) o \"sin activación\".\n",
        "\n",
        "Esto se debe a que la función de activación lineal no cambia de ninguna manera la suma ponderada de la entrada y, en su lugar, devuelve directamente el valor.\n",
        "\n",
        "Podemos obtener una intuición sobre la forma de esta función con el siguiente ejemplo práctico."
      ],
      "metadata": {
        "id": "gq42a-irh3j1"
      }
    },
    {
      "cell_type": "code",
      "source": [
        "# example plot for the linear activation function\n",
        "from matplotlib import pyplot\n",
        "\n",
        "# linear activation function\n",
        "def linear(x):\n",
        "\treturn x\n",
        "\n",
        "# define input data\n",
        "inputs = [x for x in range(-10, 10)]\n",
        "# calculate outputs\n",
        "outputs = [linear(x) for x in inputs]\n",
        "# plot inputs vs outputs\n",
        "pyplot.plot(inputs, outputs)\n",
        "pyplot.show()"
      ],
      "metadata": {
        "id": "6zMgn3n3jczp",
        "colab": {
          "base_uri": "https://localhost:8080/",
          "height": 430
        },
        "outputId": "59ffdcb5-3b04-45cf-e1ab-c549d6108661"
      },
      "execution_count": null,
      "outputs": [
        {
          "output_type": "display_data",
          "data": {
            "text/plain": [
              "<Figure size 640x480 with 1 Axes>"
            ],
            "image/png": "[encoded data removed]"
          },
          "metadata": {}
        }
      ]
    },
    {
      "cell_type": "markdown",
      "source": [
        "Al ejecutar el ejemplo, se calculan las salidas para una variedad de valores y se crea un gráfico de las entradas frente a las salidas.\n",
        "\n",
        "Podemos ver una forma de línea diagonal donde las entradas se trazan contra salidas idénticas.\n",
        "\n",
        "###### Función de activación Sigmoid en la capa de salida\n",
        "\n",
        "La función de activación sigmoide o logística fue descrita en la sección anterior.\n",
        "\n",
        "Sin embargo, para agregar un poco de simetría, podemos revisar la forma de esta función con el siguiente ejemplo práctico.\n"
      ],
      "metadata": {
        "id": "ddo-iwFajgvu"
      }
    },
    {
      "cell_type": "code",
      "source": [
        "# example plot for the sigmoid activation function\n",
        "from math import exp\n",
        "from matplotlib import pyplot\n",
        "\n",
        "# sigmoid activation function\n",
        "def sigmoid(x):\n",
        "\treturn 1.0 / (1.0 + exp(-x))\n",
        "\n",
        "# define input data\n",
        "inputs = [x for x in range(-10, 10)]\n",
        "# calculate outputs\n",
        "outputs = [sigmoid(x) for x in inputs]\n",
        "# plot inputs vs outputs\n",
        "pyplot.plot(inputs, outputs)\n",
        "pyplot.show()"
      ],
      "metadata": {
        "id": "qVP1gYvQkGUu",
        "colab": {
          "base_uri": "https://localhost:8080/",
          "height": 430
        },
        "outputId": "380d75fc-802e-484f-d973-dd129029a03e"
      },
      "execution_count": null,
      "outputs": [
        {
          "output_type": "display_data",
          "data": {
            "text/plain": [
              "<Figure size 640x480 with 1 Axes>"
            ],
            "image/png": "[encoded data removed]"
          },
          "metadata": {}
        }
      ]
    },
    {
      "cell_type": "markdown",
      "source": [
        "###### Función de activación Softmax en la capa de salida\n",
        "\n",
        "La función softmax produce un vector de valores cuya suma es igual a 1.0 y que puede interpretarse como probabilidades de pertenencia a clases.\n",
        "\n",
        "Está relacionada con la función argmax, que devuelve un 0 para todas las opciones y un 1 para la opción elegida. Softmax es una versión \"más suave\" de argmax que permite una salida similar a una probabilidad mediante una función de ganador se lleva todo.\n",
        "\n",
        "Por lo tanto, la entrada a la función es un vector de valores reales y la salida es un vector de la misma longitud con valores que suman 1.0, como probabilidades.\n",
        "\n",
        "La función softmax se calcula de la siguiente manera:\n",
        "\n",
        "`e^x / suma(e^x)`\n",
        "\n",
        "Donde x es un vector de salidas y e es una constante matemática que es la base del logaritmo natural.\n",
        "\n",
        "No podemos graficar la función softmax, pero podemos dar un ejemplo de cómo calcularla en Python."
      ],
      "metadata": {
        "id": "PBQBiRuUkQwz"
      }
    },
    {
      "cell_type": "code",
      "source": [
        "from numpy import exp\n",
        "\n",
        "# softmax activation function\n",
        "def softmax(x):\n",
        "\treturn exp(x) / exp(x).sum()\n",
        "\n",
        "# define input data\n",
        "inputs = [1.0, 3.0, 2.0]\n",
        "# calculate outputs\n",
        "outputs = softmax(inputs)\n",
        "# report the probabilities\n",
        "print(outputs)\n",
        "# report the sum of the probabilities\n",
        "print(outputs.sum())"
      ],
      "metadata": {
        "colab": {
          "base_uri": "https://localhost:8080/"
        },
        "id": "42uRlB3nkdKP",
        "outputId": "fc73b8dc-bc79-41c5-f4d6-91e0b6485e21"
      },
      "execution_count": null,
      "outputs": [
        {
          "output_type": "stream",
          "name": "stdout",
          "text": [
            "[0.09003057 0.66524096 0.24472847]\n",
            "1.0\n"
          ]
        }
      ]
    },
    {
      "cell_type": "markdown",
      "source": [
        "Al ejecutar el ejemplo, se calcula la salida softmax para el vector de entrada.\n",
        "\n",
        "Luego confirmamos que la suma de las salidas de softmax efectivamente suma al valor 1.0.\n",
        "\n",
        "Las etiquetas objetivo utilizadas para entrenar un modelo con la función de activación softmax en la capa de salida serán vectores con un 1 para la clase objetivo y un 0 para todas las demás clases.\n",
        "\n",
        "####¿Cómo seleccionar una función de activación de salida?\n",
        "\n",
        "Deben elegir la función de activación para la capa de salida en función del tipo de problema de predicción que estés resolviendo.\n",
        "\n",
        "Específicamente, el tipo de variable que se está prediciendo.\n",
        "\n",
        "Por ejemplo, pueden dividir los problemas de predicción en dos grupos principales: predicción de una variable categórica (clasificación) y predicción de una variable numérica (regresión).\n",
        "\n",
        "Si el problema es de regresión, deben utilizar una función de activación lineal.\n",
        "\n",
        "* Regresión: Un nodo, activación lineal.\n",
        "\n",
        "Si el problema es de clasificación, entonces hay tres tipos principales de problemas de clasificación y cada uno puede utilizar una función de activación diferente.\n",
        "\n",
        "Predecir una probabilidad no es un problema de regresión; es clasificación. En todos los casos de clasificación, el modelo predecirá la probabilidad de pertenencia a una clase (por ejemplo, la probabilidad de que un ejemplo pertenezca a cada clase) que pueden convertir en una etiqueta de clase clara redondeando (para la sigmoid) o usando argmax (para la softmax).\n",
        "\n",
        "Si hay dos clases mutuamente excluyentes (clasificación binaria), entonces la capa de salida tendrá un nodo y se debe utilizar una función de activación sigmoidal. Si hay más de dos clases mutuamente excluyentes (clasificación multiclase), entonces la capa de salida tendrá un nodo por cada clase y se debe utilizar una función de activación softmax. Si hay dos o más clases mutuamente inclusivas (clasificación multietiqueta), entonces la capa de salida tendrá un nodo por cada clase y se utiliza una función de activación sigmoidal.\n",
        "\n",
        "* Clasificación Binaria: Un nodo, activación sigmoidal.\n",
        "* Clasificación Multiclase: Un nodo por clase, activación softmax.\n",
        "* Clasificación Multietiqueta: Un nodo por clase, activación sigmoidal.\n",
        "\n",
        "####Capa de entrada\n",
        "\n",
        "La capa inferior que toma la entrada de tu conjunto de datos se llama capa visible porque es la parte expuesta de la red. A menudo, se representa una red neuronal con una capa visible con un neurona por valor de entrada o columna en tu conjunto de datos. Estas no son neuronas como se describe anteriormente, sino simplemente transmiten el valor de entrada a la siguiente capa.\n",
        "\n",
        "####Capas escondidas\n",
        "\n",
        "Las capas después de la capa de entrada se llaman capas ocultas porque no están directamente expuestas a la entrada. La estructura de red más simple consiste en tener una sola neurona en la capa oculta que produce directamente el valor de salida.\n",
        "\n",
        "Dado el aumento en la potencia de cálculo y las bibliotecas eficientes, se pueden construir redes neuronales muy profundas. El término \"aprendizaje profundo\" se refiere a tener muchas capas ocultas en tu red neuronal. Se les llama profundas porque históricamente habrían sido extremadamente lentas de entrenar, pero ahora pueden tomar segundos o minutos para entrenar utilizando técnicas y hardware modernos.\n",
        "\n",
        "####Capas de Salida\n",
        "\n",
        "La última capa oculta se llama capa de salida y es responsable de producir un valor o un vector de valores que corresponden al formato requerido para el problema.\n",
        "\n",
        "La elección de la función de activación en la capa de salida está fuertemente determinada por el tipo de problema que estás modelando. Por ejemplo:\n",
        "\n",
        "* En un problema de regresión, puede haber una sola neurona de salida y esta neurona puede no tener una función de activación.\n",
        "* En un problema de clasificación binaria, puede haber una sola neurona de salida y utilizar una función de activación sigmoide para producir un valor entre 0 y 1 que represente la probabilidad de predecir un valor para la clase 1. Esto se puede convertir en un valor de clase definido usando un umbral de 0.5 y asignando valores menores que el umbral a 0, y valores iguales o mayores que el umbral a 1.\n",
        "* En un problema de clasificación multiclase, puede haber varias neuronas en la capa de salida, una para cada clase (por ejemplo, tres neuronas para las tres clases en el famoso problema de clasificación de flores iris). En este caso, se puede utilizar una función de activación softmax para producir una probabilidad de que la red prediga cada uno de los valores de clase. Seleccionar la salida con la probabilidad más alta se puede utilizar para obtener un valor de clasificación de clase definido.\n",
        "\n",
        "###Entrenando Redes\n",
        "####Preparación de los datos\n",
        "\n",
        "Primero debes preparar tus datos para entrenar una red neuronal.\n",
        "\n",
        "Los datos deben ser numéricos, por ejemplo, valores reales. Si tienes datos categóricos, como un atributo de género con los valores \"masculino\" y \"femenino\", puedes convertirlo a una representación de valores reales llamada codificación one-hot. Esto implica agregar una nueva columna para cada valor de clase (dos columnas en el caso del género masculino y femenino) y agregar un 0 o 1 para cada fila dependiendo del valor de clase para esa fila.\n",
        "\n",
        "Esta misma codificación one-hot se puede utilizar en la variable de salida en problemas de clasificación con más de una clase. Esto crearía un vector binario a partir de una sola columna que sería fácil de comparar directamente con la salida de la neurona en la capa de salida de la red. Como se describió anteriormente, esto produciría un valor para cada clase.\n",
        "\n",
        "Las redes neuronales requieren que la entrada esté escalada de manera consistente. Puedes reescalarla al rango entre 0 y 1, lo que se llama normalización. Otra técnica popular es estandarizarla de manera que la distribución de cada columna tenga una media de cero y una desviación estándar de 1.\n",
        "\n",
        "La escala también se aplica a los datos de píxeles de una imagen. Datos como palabras se pueden convertir a enteros, como el rango de popularidad de la palabra en el conjunto de datos y otras técnicas de codificación.\n",
        "\n",
        "####Stochastic Gradient Descent\n",
        "\n",
        "El algoritmo de entrenamiento clásico y aún preferido para las redes neuronales se llama descenso de gradiente estocástico.\n",
        "\n",
        "Esto implica que una fila de datos se expone a la red una vez como entrada. La red procesa la entrada hacia arriba, activando neuronas a medida que avanza para finalmente producir un valor de salida. Esto se llama paso hacia adelante en la red. Es el tipo de paso que también se utiliza después de que la red está entrenada para hacer predicciones sobre nuevos datos.\n",
        "\n",
        "La salida de la red se compara con la salida esperada y se calcula un error. Este error se propaga hacia atrás a través de la red, capa por capa, y los pesos se actualizan según la contribución al error. Esta ingeniosa técnica matemática se llama algoritmo de retropropagación.\n",
        "\n",
        "El proceso se repite para todos los ejemplos en tus datos de entrenamiento. Una ronda de actualización de la red para todo el conjunto de datos de entrenamiento se llama época. Una red puede entrenarse durante decenas, cientos o muchos miles de épocas.\n",
        "\n",
        "####Actualización de los Datos\n",
        "\n",
        "Los pesos en la red pueden actualizarse a partir de los errores calculados para cada ejemplo de entrenamiento, y esto se llama aprendizaje en línea. Puede resultar en cambios rápidos pero también caóticos en la red.\n",
        "\n",
        "Alternativamente, los errores se pueden guardar para todos los ejemplos de entrenamiento y la red se puede actualizar al final. Esto se llama aprendizaje en lote y a menudo es más estable.\n",
        "\n",
        "Por lo general, debido al tamaño de los conjuntos de datos y a las eficiencias computacionales, el tamaño del lote, es decir, la cantidad de ejemplos que se presentan a la red antes de una actualización, a menudo se reduce a un número pequeño, como decenas o cientos de ejemplos.\n",
        "\n",
        "La cantidad en que se actualizan los pesos está controlada por un parámetro de configuración llamado tasa de aprendizaje. También se le llama tamaño de paso y controla el cambio realizado en un peso de la red para un error dado. A menudo se utilizan tamaños de paso pequeños, como 0.1 o 0.01 o incluso más pequeños.\n",
        "\n",
        "La ecuación de actualización se puede complementar con términos de configuración adicionales que se pueden ajustar.\n",
        "\n",
        "El momentum es un término que incorpora las propiedades de la actualización de pesos anterior para permitir que los pesos continúen cambiando en la misma dirección incluso cuando se calcula menos error.\n",
        "La decaída de la tasa de aprendizaje se utiliza para disminuir la tasa de aprendizaje a lo largo de las épocas, lo que permite que la red realice cambios grandes en los pesos al principio y cambios más pequeños de ajuste fino más adelante en el programa de entrenamiento.\n",
        "\n",
        "####Predicción\n",
        "\n",
        "Una vez que una red neuronal ha sido entrenada, se puede utilizar para hacer predicciones.\n",
        "\n",
        "Se pueden hacer predicciones sobre datos de prueba o validación para estimar la capacidad del modelo en datos no vistos. También se puede implementar operativamente y utilizarlo para hacer predicciones de manera continua.\n",
        "\n",
        "La topología de la red y el conjunto final de pesos son todo lo que se necesita guardar del modelo. Las predicciones se realizan proporcionando la entrada a la red y realizando un pase hacia adelante, lo que permite que genere una salida que se puede utilizar como predicción.\n",
        "\n",
        "## Creando una red neuronal: Keras y Python\n",
        "\n",
        "Keras es una potente y fácil de usar biblioteca de código abierto gratuita en Python para desarrollar y evaluar modelos de aprendizaje profundo.\n",
        "\n",
        "Forma parte de la biblioteca TensorFlow y te permite definir y entrenar modelos de redes neuronales con solo unas pocas líneas de código.\n",
        "\n",
        "### Carga de Datos\n",
        "\n",
        "El primer paso es definir las funciones y clases que planean usar en este tutorial.\n",
        "\n",
        "Utilizarán la biblioteca NumPy para cargar tu conjunto de datos y dos clases de la biblioteca Keras para definir tu modelo.\n",
        "\n",
        "A continuación, se enumeran las importaciones requeridas.\n"
      ],
      "metadata": {
        "id": "TjfYcY6NkgzZ"
      }
    },
    {
      "cell_type": "code",
      "source": [
        "# first neural network with keras tutorial\n",
        "from numpy import loadtxt\n",
        "from tensorflow.keras.models import Sequential\n",
        "from tensorflow.keras.layers import Dense"
      ],
      "metadata": {
        "id": "FLGmdHUZngCV"
      },
      "execution_count": null,
      "outputs": []
    },
    {
      "cell_type": "markdown",
      "source": [
        "**Ahora deberán buscar y descargar un conjunto de datos para los siguientes ejercicios**\n",
        "\n",
        "Se utilizará Keras, utilizarás el conjunto de datos definido por ustedes para **clasificación binaria**.\n",
        "\n",
        "Por lo tanto, es un problema de clasificación binaria, por ejemplo: inicio de la diabetes como 1 o no como 0. Por definición es mejor que todas las variables de entrada sean numéricas."
      ],
      "metadata": {
        "id": "JLpEsxKFnnGC"
      }
    },
    {
      "cell_type": "code",
      "source": [
        "from google.colab import drive\n",
        "import pandas as pd\n",
        "drive.mount('/content/drive')"
      ],
      "metadata": {
        "colab": {
          "base_uri": "https://localhost:8080/"
        },
        "id": "cQsamxEQPu59",
        "outputId": "249b7e78-8953-40b6-b7eb-48fd55747153"
      },
      "execution_count": null,
      "outputs": [
        {
          "output_type": "stream",
          "name": "stdout",
          "text": [
            "Mounted at /content/drive\n"
          ]
        }
      ]
    },
    {
      "cell_type": "code",
      "source": [
        "# Descripción del dataset: Posee atributos sobre estrellas y su clasificación {0: enana, 1: gigante}, enlace al dataset:\n",
        "# https://www.kaggle.com/datasets/vinesmsuic/star-categorization-giants-and-dwarfs\n",
        "\n",
        "\n",
        "#Suban su dataset para clasificación bianaria aquí:\n",
        "df = pd.read_csv('/content/drive/MyDrive/datasets/Star3642_balanced.csv')\n",
        "#Impriman las diferentes etiquetas en el dataset:\n",
        "frecuencia_etiquetas = df['TargetClass'].value_counts()\n",
        "print(frecuencia_etiquetas)\n",
        "# La columna SpType posee valores en string, por lo tanto, se aplicará un mapeo a números.\n",
        "transformed = df.copy()\n",
        "for column in transformed.columns[1:]:\n",
        "  #mapping = {value: i + 2 for i, value in enumerate(data[column].unique())}\n",
        "  mapping = {value: i for i, value in enumerate(df['SpType'].unique())}\n",
        "  transformed['SpType'] = df['SpType'].map(mapping)\n",
        "\n",
        "df = transformed\n",
        "#Impriman la cabeza del dataset:\n",
        "df.head(10)"
      ],
      "metadata": {
        "id": "CMB0xEsuof_O",
        "colab": {
          "base_uri": "https://localhost:8080/",
          "height": 415
        },
        "outputId": "d231fb68-8b80-4591-f4d9-25af55b240b4"
      },
      "execution_count": null,
      "outputs": [
        {
          "output_type": "stream",
          "name": "stdout",
          "text": [
            "0    1821\n",
            "1    1821\n",
            "Name: TargetClass, dtype: int64\n"
          ]
        },
        {
          "output_type": "execute_result",
          "data": {
            "text/plain": [
              "   Vmag    Plx  e_Plx    B-V  SpType       Amag  TargetClass\n",
              "0  5.99  13.73   0.58  1.318       0  16.678352            0\n",
              "1  8.70   2.31   1.29 -0.045       1  15.518060            0\n",
              "2  5.77   5.50   1.03  0.855       2  14.471813            0\n",
              "3  6.72   5.26   0.74 -0.015       3  15.324928            1\n",
              "4  8.76  13.44   1.16  0.584       4  19.401997            1\n",
              "5  4.90   8.37   0.76 -0.091       5  14.513628            0\n",
              "6  8.60   5.09   1.37  0.448       6  17.133589            1\n",
              "7  6.24   8.08   1.15  0.680       7  15.777057            0\n",
              "8  7.31   1.86   0.87  1.164       8  13.657564            0\n",
              "9  9.52   1.28   1.33  1.500       9  15.056050            0"
            ],
            "text/html": [
              "\n",
              "  <div id=\"df-b0834cb6-9c02-43fb-bd47-a005c115712a\">\n",
              "    <div class=\"colab-df-container\">\n",
              "      <div>\n",
              "<style scoped>\n",
              "    .dataframe tbody tr th:only-of-type {\n",
              "        vertical-align: middle;\n",
              "    }\n",
              "\n",
              "    .dataframe tbody tr th {\n",
              "        vertical-align: top;\n",
              "    }\n",
              "\n",
              "    .dataframe thead th {\n",
              "        text-align: right;\n",
              "    }\n",
              "</style>\n",
              "<table border=\"1\" class=\"dataframe\">\n",
              "  <thead>\n",
              "    <tr style=\"text-align: right;\">\n",
              "      <th></th>\n",
              "      <th>Vmag</th>\n",
              "      <th>Plx</th>\n",
              "      <th>e_Plx</th>\n",
              "      <th>B-V</th>\n",
              "      <th>SpType</th>\n",
              "      <th>Amag</th>\n",
              "      <th>TargetClass</th>\n",
              "    </tr>\n",
              "  </thead>\n",
              "  <tbody>\n",
              "    <tr>\n",
              "      <th>0</th>\n",
              "      <td>5.99</td>\n",
              "      <td>13.73</td>\n",
              "      <td>0.58</td>\n",
              "      <td>1.318</td>\n",
              "      <td>0</td>\n",
              "      <td>16.678352</td>\n",
              "      <td>0</td>\n",
              "    </tr>\n",
              "    <tr>\n",
              "      <th>1</th>\n",
              "      <td>8.70</td>\n",
              "      <td>2.31</td>\n",
              "      <td>1.29</td>\n",
              "      <td>-0.045</td>\n",
              "      <td>1</td>\n",
              "      <td>15.518060</td>\n",
              "      <td>0</td>\n",
              "    </tr>\n",
              "    <tr>\n",
              "      <th>2</th>\n",
              "      <td>5.77</td>\n",
              "      <td>5.50</td>\n",
              "      <td>1.03</td>\n",
              "      <td>0.855</td>\n",
              "      <td>2</td>\n",
              "      <td>14.471813</td>\n",
              "      <td>0</td>\n",
              "    </tr>\n",
              "    <tr>\n",
              "      <th>3</th>\n",
              "      <td>6.72</td>\n",
              "      <td>5.26</td>\n",
              "      <td>0.74</td>\n",
              "      <td>-0.015</td>\n",
              "      <td>3</td>\n",
              "      <td>15.324928</td>\n",
              "      <td>1</td>\n",
              "    </tr>\n",
              "    <tr>\n",
              "      <th>4</th>\n",
              "      <td>8.76</td>\n",
              "      <td>13.44</td>\n",
              "      <td>1.16</td>\n",
              "      <td>0.584</td>\n",
              "      <td>4</td>\n",
              "      <td>19.401997</td>\n",
              "      <td>1</td>\n",
              "    </tr>\n",
              "    <tr>\n",
              "      <th>5</th>\n",
              "      <td>4.90</td>\n",
              "      <td>8.37</td>\n",
              "      <td>0.76</td>\n",
              "      <td>-0.091</td>\n",
              "      <td>5</td>\n",
              "      <td>14.513628</td>\n",
              "      <td>0</td>\n",
              "    </tr>\n",
              "    <tr>\n",
              "      <th>6</th>\n",
              "      <td>8.60</td>\n",
              "      <td>5.09</td>\n",
              "      <td>1.37</td>\n",
              "      <td>0.448</td>\n",
              "      <td>6</td>\n",
              "      <td>17.133589</td>\n",
              "      <td>1</td>\n",
              "    </tr>\n",
              "    <tr>\n",
              "      <th>7</th>\n",
              "      <td>6.24</td>\n",
              "      <td>8.08</td>\n",
              "      <td>1.15</td>\n",
              "      <td>0.680</td>\n",
              "      <td>7</td>\n",
              "      <td>15.777057</td>\n",
              "      <td>0</td>\n",
              "    </tr>\n",
              "    <tr>\n",
              "      <th>8</th>\n",
              "      <td>7.31</td>\n",
              "      <td>1.86</td>\n",
              "      <td>0.87</td>\n",
              "      <td>1.164</td>\n",
              "      <td>8</td>\n",
              "      <td>13.657564</td>\n",
              "      <td>0</td>\n",
              "    </tr>\n",
              "    <tr>\n",
              "      <th>9</th>\n",
              "      <td>9.52</td>\n",
              "      <td>1.28</td>\n",
              "      <td>1.33</td>\n",
              "      <td>1.500</td>\n",
              "      <td>9</td>\n",
              "      <td>15.056050</td>\n",
              "      <td>0</td>\n",
              "    </tr>\n",
              "  </tbody>\n",
              "</table>\n",
              "</div>\n",
              "      <button class=\"colab-df-convert\" onclick=\"convertToInteractive('df-b0834cb6-9c02-43fb-bd47-a005c115712a')\"\n",
              "              title=\"Convert this dataframe to an interactive table.\"\n",
              "              style=\"display:none;\">\n",
              "        \n",
              "  <svg xmlns=\"http://www.w3.org/2000/svg\" height=\"24px\"viewBox=\"0 0 24 24\"\n",
              "       width=\"24px\">\n",
              "    <path d=\"M0 0h24v24H0V0z\" fill=\"none\"/>\n",
              "    <path d=\"M18.56 5.44l.94 2.06.94-2.06 2.06-.94-2.06-.94-.94-2.06-.94 2.06-2.06.94zm-11 1L8.5 8.5l.94-2.06 2.06-.94-2.06-.94L8.5 2.5l-.94 2.06-2.06.94zm10 10l.94 2.06.94-2.06 2.06-.94-2.06-.94-.94-2.06-.94 2.06-2.06.94z\"/><path d=\"M17.41 7.96l-1.37-1.37c-.4-.4-.92-.59-1.43-.59-.52 0-1.04.2-1.43.59L10.3 9.45l-7.72 7.72c-.78.78-.78 2.05 0 2.83L4 21.41c.39.39.9.59 1.41.59.51 0 1.02-.2 1.41-.59l7.78-7.78 2.81-2.81c.8-.78.8-2.07 0-2.86zM5.41 20L4 18.59l7.72-7.72 1.47 1.35L5.41 20z\"/>\n",
              "  </svg>\n",
              "      </button>\n",
              "      \n",
              "  <style>\n",
              "    .colab-df-container {\n",
              "      display:flex;\n",
              "      flex-wrap:wrap;\n",
              "      gap: 12px;\n",
              "    }\n",
              "\n",
              "    .colab-df-convert {\n",
              "      background-color: #E8F0FE;\n",
              "      border: none;\n",
              "      border-radius: 50%;\n",
              "      cursor: pointer;\n",
              "      display: none;\n",
              "      fill: #1967D2;\n",
              "      height: 32px;\n",
              "      padding: 0 0 0 0;\n",
              "      width: 32px;\n",
              "    }\n",
              "\n",
              "    .colab-df-convert:hover {\n",
              "      background-color: #E2EBFA;\n",
              "      box-shadow: 0px 1px 2px rgba(60, 64, 67, 0.3), 0px 1px 3px 1px rgba(60, 64, 67, 0.15);\n",
              "      fill: #174EA6;\n",
              "    }\n",
              "\n",
              "    [theme=dark] .colab-df-convert {\n",
              "      background-color: #3B4455;\n",
              "      fill: #D2E3FC;\n",
              "    }\n",
              "\n",
              "    [theme=dark] .colab-df-convert:hover {\n",
              "      background-color: #434B5C;\n",
              "      box-shadow: 0px 1px 3px 1px rgba(0, 0, 0, 0.15);\n",
              "      filter: drop-shadow(0px 1px 2px rgba(0, 0, 0, 0.3));\n",
              "      fill: #FFFFFF;\n",
              "    }\n",
              "  </style>\n",
              "\n",
              "      <script>\n",
              "        const buttonEl =\n",
              "          document.querySelector('#df-b0834cb6-9c02-43fb-bd47-a005c115712a button.colab-df-convert');\n",
              "        buttonEl.style.display =\n",
              "          google.colab.kernel.accessAllowed ? 'block' : 'none';\n",
              "\n",
              "        async function convertToInteractive(key) {\n",
              "          const element = document.querySelector('#df-b0834cb6-9c02-43fb-bd47-a005c115712a');\n",
              "          const dataTable =\n",
              "            await google.colab.kernel.invokeFunction('convertToInteractive',\n",
              "                                                     [key], {});\n",
              "          if (!dataTable) return;\n",
              "\n",
              "          const docLinkHtml = 'Like what you see? Visit the ' +\n",
              "            '<a target=\"_blank\" href=https://colab.research.google.com/notebooks/data_table.ipynb>data table notebook</a>'\n",
              "            + ' to learn more about interactive tables.';\n",
              "          element.innerHTML = '';\n",
              "          dataTable['output_type'] = 'display_data';\n",
              "          await google.colab.output.renderOutput(dataTable, element);\n",
              "          const docLink = document.createElement('div');\n",
              "          docLink.innerHTML = docLinkHtml;\n",
              "          element.appendChild(docLink);\n",
              "        }\n",
              "      </script>\n",
              "    </div>\n",
              "  </div>\n",
              "  "
            ]
          },
          "metadata": {},
          "execution_count": 9
        }
      ]
    },
    {
      "cell_type": "markdown",
      "source": [
        "Ahora pueden cargar el archivo como una matriz de números utilizando la función loadtxt() de NumPy.\n",
        "\n",
        "Hay n variables de entrada y una variable de salida (la última columna para la clasificación binaria). Estarás aprendiendo un modelo para mapear las filas de variables de entrada (X) a una variable de salida (y), lo cual se resume a menudo como y = f(X).\n",
        "\n",
        "Variables de salida (y): Variable de clase (0 o 1)\n",
        "\n",
        "Una vez que el archivo CSV se haya cargado en la memoria, pueden dividir las columnas de datos en variables de entrada y salida.\n",
        "\n",
        "Los datos se almacenarán en una matriz 2D donde la primera dimensión son las filas y la segunda dimensión son las columnas, por ejemplo, [filas, columnas].\n",
        "\n",
        "Pueden dividir la matriz en dos matrices seleccionando subconjuntos de columnas utilizando el operador de segmento estándar de NumPy o \":\". Puedes seleccionar las primeras ocho columnas desde el índice 0 hasta el índice 7 mediante el segmento 0:8. Luego, pueden seleccionar la columna de salida (la novena variable) a través del índice 8."
      ],
      "metadata": {
        "id": "_2fLcvbVpBiQ"
      }
    },
    {
      "cell_type": "code",
      "source": [
        "#Cambien el código para que trabaje con el dataset que definieron\n",
        "\n",
        "# load the dataset\n",
        "# Se convierte el dataset leído anteriormente a una matriz de números\n",
        "dataset = df.values\n",
        "# split into input (X) and output (y) variables\n",
        "X = dataset[:,0:6]\n",
        "y = dataset[:,6]"
      ],
      "metadata": {
        "id": "dP16ee3bpdbJ"
      },
      "execution_count": null,
      "outputs": []
    },
    {
      "cell_type": "code",
      "source": [
        "X"
      ],
      "metadata": {
        "colab": {
          "base_uri": "https://localhost:8080/"
        },
        "id": "ONSmwG-BSsVe",
        "outputId": "10aaf6cb-dfca-421e-9f53-a9f4dd21c750"
      },
      "execution_count": null,
      "outputs": [
        {
          "output_type": "execute_result",
          "data": {
            "text/plain": [
              "array([[ 5.9900000e+00,  1.3730000e+01,  5.8000000e-01,  1.3180000e+00,\n",
              "         0.0000000e+00,  1.6678352e+01],\n",
              "       [ 8.7000000e+00,  2.3100000e+00,  1.2900000e+00, -4.5000000e-02,\n",
              "         1.0000000e+00,  1.5518060e+01],\n",
              "       [ 5.7700000e+00,  5.5000000e+00,  1.0300000e+00,  8.5500000e-01,\n",
              "         2.0000000e+00,  1.4471813e+01],\n",
              "       ...,\n",
              "       [ 6.1100000e+00,  2.4200000e+00,  7.9000000e-01,  1.6640000e+00,\n",
              "         5.8300000e+02,  1.3029078e+01],\n",
              "       [ 7.9400000e+00,  4.9400000e+00,  2.9000000e+00,  2.1000000e-01,\n",
              "         1.2500000e+02,  1.6408636e+01],\n",
              "       [ 8.8100000e+00,  1.8700000e+00,  1.2300000e+00,  1.1760000e+00,\n",
              "         1.4200000e+02,  1.5169209e+01]])"
            ]
          },
          "metadata": {},
          "execution_count": 11
        }
      ]
    },
    {
      "cell_type": "code",
      "source": [
        "y"
      ],
      "metadata": {
        "colab": {
          "base_uri": "https://localhost:8080/"
        },
        "id": "tdSZ6YkiS0r8",
        "outputId": "e8f1a697-b57f-4ffb-ed68-4cc1e6ea1f68"
      },
      "execution_count": null,
      "outputs": [
        {
          "output_type": "execute_result",
          "data": {
            "text/plain": [
              "array([0., 0., 0., ..., 0., 1., 0.])"
            ]
          },
          "metadata": {},
          "execution_count": 12
        }
      ]
    },
    {
      "cell_type": "markdown",
      "source": [
        "### Modelo en Keras\n",
        "\n",
        "Los modelos en Keras se definen como una secuencia de capas.\n",
        "\n",
        "Creamos un modelo secuencial y agregamos capas una por una hasta que estemos satisfechos con la arquitectura de nuestra red.\n",
        "\n",
        "Lo primero es asegurarnos de que la capa de entrada tenga el número correcto de características de entrada. Esto se puede especificar al crear la primera capa utilizando el argumento `input_shape` y estableciéndolo en `(n,)` (donde n es el número de variables) para representar las n variables de entrada como un vector.\n",
        "\n",
        "¿Cómo sabemos cuántas capas y qué tipos usar?\n",
        "\n",
        "Esta es una pregunta difícil. Hay heurísticas que se pueden utilizar y, a menudo, la mejor estructura de red se encuentra a través de un proceso de experimentación de *prueba y error*. En general, necesitan una red lo suficientemente grande como para capturar la estructura del problema.\n",
        "\n",
        "En este ejemplo, vamos a utilizar una estructura de red completamente conectada con tres capas.\n",
        "\n",
        "Las capas completamente conectadas se definen utilizando la clase `Dense`. Pueden especificar el número de neuronas o nodos en la capa como primer argumento y la función de activación utilizando el argumento activation.\n",
        "\n",
        "También utilizaremos la función de activación de *unidad lineal rectificada*, conocida como `ReLU`, en las dos primeras capas y la función Sigmoid en la capa de salida.\n",
        "\n",
        "Solía ser el caso que se preferían las funciones de activación `Sigmoid` y `Tanh` para todas las capas. En la actualidad, se logra un mejor rendimiento utilizando la función de activación ReLU. El uso de una sigmoid en la capa de salida asegura que la salida de la red esté entre 0 y 1, y es fácil de mapear tanto a una probabilidad de clase 1 como a una clasificación dura de alguna de las clases con un umbral predeterminado de 0.5.\n",
        "\n",
        "Pueden armarlo todo agregando cada capa:\n",
        "\n",
        "- El modelo espera filas de datos con n variables (el argumento input_shape=(n,)).\n",
        "- La primera capa oculta tiene 12 nodos y utiliza la función de activación relu.\n",
        "- La segunda capa oculta tiene 8 nodos y utiliza la función de activación relu.\n",
        "- La capa de salida tiene un nodo y utiliza la función de activación sigmoid."
      ],
      "metadata": {
        "id": "2SC7kD_lplai"
      }
    },
    {
      "cell_type": "code",
      "source": [
        "#import tensorflow as tf\n",
        "\n",
        "#physical_devices = tf.config.list_physical_devices('GPU')\n",
        "#tf.config.set_visible_devices(physical_devices[0], 'GPU')\n",
        "\n",
        "# Las lineas que se encuentran comentadas, son para correr el modelo utilzando la GPU. Se realizaron las correspondientes pruebas, pero el rendimiento disminuía drasticamente\n",
        "\n",
        "# define the keras model\n",
        "model = Sequential()\n",
        "model.add(Dense(12, input_shape=(6,), activation='relu'))\n",
        "model.add(Dense(8, activation='relu'))\n",
        "model.add(Dense(1, activation='sigmoid'))"
      ],
      "metadata": {
        "id": "kACWhqIZqcjb"
      },
      "execution_count": null,
      "outputs": []
    },
    {
      "cell_type": "markdown",
      "source": [
        "###Compilando el modelo de Keras\n",
        "\n",
        "Ahora que el modelo está definido, puedes compilarlo.\n",
        "\n",
        "La compilación del modelo utiliza las eficientes bibliotecas numéricas en el fondo (llamadas backend), como `Theano` o `TensorFlow`. El backend elige automáticamente la mejor forma de representar la red para entrenarla y realizar predicciones en el hardware, como la CPU, GPU o incluso distribuida.\n",
        "\n",
        "Al compilar, deben especificar algunas propiedades adicionales necesarias para entrenar la red. Recuerda que entrenar una red significa encontrar el mejor conjunto de pesos para mapear las entradas a las salidas en tu conjunto de datos.\n",
        "\n",
        "Deben especificar la función de pérdida que se utilizará para evaluar un conjunto de pesos, el optimizador que se utilizará para buscar diferentes pesos para la red y cualquier métrica opcional que desees recopilar y reportar durante el entrenamiento.\n",
        "\n",
        "En este caso, utilizamos la entropía cruzada como argumento de pérdida. Esta pérdida se utiliza para problemas de clasificación binaria y se define en Keras como `binary_crossentropy`.\n",
        "\n",
        "Definiremos el optimizador como el algoritmo eficiente de descenso de gradiente estocástico `adam`. Esta es una versión popular del descenso de gradiente porque se ajusta automáticamente y ofrece buenos resultados en una amplia gama de problemas.\n",
        "\n",
        "Finalmente, como se trata de un problema de clasificación, recopilaremos y reportaremos la precisión de clasificación definida mediante el argumento metrics."
      ],
      "metadata": {
        "id": "loivaZzlqoEG"
      }
    },
    {
      "cell_type": "code",
      "source": [
        "\n",
        "model.compile(loss='binary_crossentropy', optimizer='adam', metrics=['accuracy'])"
      ],
      "metadata": {
        "id": "TA4tgmaHrIpZ"
      },
      "execution_count": null,
      "outputs": []
    },
    {
      "cell_type": "markdown",
      "source": [
        "###Entrenando el modelo de Keras\n",
        "\n",
        "Han definido el modelo y lo han compilado para prepararlo para un cálculo eficiente.\n",
        "\n",
        "Ahora es el momento de ejecutar el modelo en algunos datos.\n",
        "\n",
        "Pueden entrenar tu modelo en los datos cargados llamando a la función `fit()` en el modelo.\n",
        "\n",
        "El entrenamiento ocurre a lo largo de las épocas, y cada época se divide en lotes.\n",
        "\n",
        "* Época: Un pase por todas las filas en el conjunto de datos de entrenamiento.\n",
        "* Lote: Una o más muestras consideradas por el modelo dentro de una época antes de que se actualicen los pesos.\n",
        "\n",
        "Una época consta de uno o más lotes, según el tamaño de lote elegido, y el modelo se ajusta durante muchas épocas.\n",
        "\n",
        "El proceso de entrenamiento se ejecutará durante un número fijo de épocas (iteraciones) a través del conjunto de datos que debes especificar utilizando el argumento `epochs`. También deben establecer el número de filas del conjunto de datos que se consideran antes de que se actualicen los pesos del modelo dentro de cada época, llamado tamaño de lote, y se establece utilizando el argumento `batch_size`.\n",
        "\n",
        "Este problema se ejecutará durante un número pequeño de épocas (150) y utilizará un tamaño de lote relativamente pequeño de 10.\n",
        "\n",
        "Estas configuraciones se pueden elegir experimentalmente mediante prueba y error. Quieres entrenar el modelo lo suficiente para que aprenda un mapeo bueno (o lo suficientemente bueno) de las filas de datos de entrada a la clasificación de salida. El modelo siempre tendrá algún error, pero la cantidad de error se nivelará después de cierto punto para una configuración de modelo determinada. Esto se llama convergencia del modelo."
      ],
      "metadata": {
        "id": "0U8Si_JRrNv2"
      }
    },
    {
      "cell_type": "code",
      "source": [
        "# compile the keras model\n",
        "import time\n",
        "\n",
        "# Start the timer\n",
        "start_time = time.time()\n",
        "# fit the keras model on the dataset\n",
        "model.fit(X, y, epochs=250, batch_size=10)\n",
        "\n",
        "# End the timer\n",
        "end_time = time.time()\n",
        "\n",
        "# Calculate the execution time\n",
        "execution_time = end_time - start_time\n",
        "\n",
        "print(f\"Tiempo de entrenamiento: {execution_time:.2f} segundos\")"
      ],
      "metadata": {
        "id": "2YCFQLrGrsn4",
        "colab": {
          "base_uri": "https://localhost:8080/"
        },
        "outputId": "b626dff9-3ccd-46ba-bcb7-e43e9c58eebd"
      },
      "execution_count": null,
      "outputs": [
        {
          "output_type": "stream",
          "name": "stdout",
          "text": [
            "Epoch 1/250\n",
            "365/365 [==============================] - 2s 2ms/step - loss: 1.1401 - accuracy: 0.5615\n",
            "Epoch 2/250\n",
            "365/365 [==============================] - 1s 2ms/step - loss: 0.5449 - accuracy: 0.7345\n",
            "Epoch 3/250\n",
            "365/365 [==============================] - 1s 2ms/step - loss: 0.4833 - accuracy: 0.7834\n",
            "Epoch 4/250\n",
            "365/365 [==============================] - 1s 2ms/step - loss: 0.4057 - accuracy: 0.8300\n",
            "Epoch 5/250\n",
            "365/365 [==============================] - 1s 2ms/step - loss: 0.3785 - accuracy: 0.8616\n",
            "Epoch 6/250\n",
            "365/365 [==============================] - 1s 2ms/step - loss: 0.3620 - accuracy: 0.8655\n",
            "Epoch 7/250\n",
            "365/365 [==============================] - 1s 2ms/step - loss: 0.3348 - accuracy: 0.8770\n",
            "Epoch 8/250\n",
            "365/365 [==============================] - 1s 3ms/step - loss: 0.3295 - accuracy: 0.8784\n",
            "Epoch 9/250\n",
            "365/365 [==============================] - 1s 4ms/step - loss: 0.3317 - accuracy: 0.8740\n",
            "Epoch 10/250\n",
            "365/365 [==============================] - 2s 6ms/step - loss: 0.3051 - accuracy: 0.8866\n",
            "Epoch 11/250\n",
            "365/365 [==============================] - 1s 3ms/step - loss: 0.3190 - accuracy: 0.8814\n",
            "Epoch 12/250\n",
            "365/365 [==============================] - 1s 2ms/step - loss: 0.2975 - accuracy: 0.8858\n",
            "Epoch 13/250\n",
            "365/365 [==============================] - 1s 2ms/step - loss: 0.3063 - accuracy: 0.8858\n",
            "Epoch 14/250\n",
            "365/365 [==============================] - 1s 2ms/step - loss: 0.3010 - accuracy: 0.8850\n",
            "Epoch 15/250\n",
            "365/365 [==============================] - 1s 2ms/step - loss: 0.3019 - accuracy: 0.8871\n",
            "Epoch 16/250\n",
            "365/365 [==============================] - 1s 2ms/step - loss: 0.2914 - accuracy: 0.8847\n",
            "Epoch 17/250\n",
            "365/365 [==============================] - 1s 2ms/step - loss: 0.2987 - accuracy: 0.8814\n",
            "Epoch 18/250\n",
            "365/365 [==============================] - 1s 2ms/step - loss: 0.3210 - accuracy: 0.8737\n",
            "Epoch 19/250\n",
            "365/365 [==============================] - 1s 2ms/step - loss: 0.3007 - accuracy: 0.8852\n",
            "Epoch 20/250\n",
            "365/365 [==============================] - 1s 2ms/step - loss: 0.3081 - accuracy: 0.8764\n",
            "Epoch 21/250\n",
            "365/365 [==============================] - 1s 2ms/step - loss: 0.2929 - accuracy: 0.8877\n",
            "Epoch 22/250\n",
            "365/365 [==============================] - 1s 2ms/step - loss: 0.3008 - accuracy: 0.8858\n",
            "Epoch 23/250\n",
            "365/365 [==============================] - 1s 2ms/step - loss: 0.2903 - accuracy: 0.8855\n",
            "Epoch 24/250\n",
            "365/365 [==============================] - 1s 2ms/step - loss: 0.2991 - accuracy: 0.8877\n",
            "Epoch 25/250\n",
            "365/365 [==============================] - 1s 3ms/step - loss: 0.2924 - accuracy: 0.8893\n",
            "Epoch 26/250\n",
            "365/365 [==============================] - 1s 3ms/step - loss: 0.2881 - accuracy: 0.8907\n",
            "Epoch 27/250\n",
            "365/365 [==============================] - 1s 3ms/step - loss: 0.2955 - accuracy: 0.8811\n",
            "Epoch 28/250\n",
            "365/365 [==============================] - 1s 3ms/step - loss: 0.2950 - accuracy: 0.8858\n",
            "Epoch 29/250\n",
            "365/365 [==============================] - 1s 2ms/step - loss: 0.2942 - accuracy: 0.8891\n",
            "Epoch 30/250\n",
            "365/365 [==============================] - 1s 2ms/step - loss: 0.3002 - accuracy: 0.8825\n",
            "Epoch 31/250\n",
            "365/365 [==============================] - 1s 2ms/step - loss: 0.2927 - accuracy: 0.8877\n",
            "Epoch 32/250\n",
            "365/365 [==============================] - 1s 2ms/step - loss: 0.2867 - accuracy: 0.8850\n",
            "Epoch 33/250\n",
            "365/365 [==============================] - 1s 2ms/step - loss: 0.2907 - accuracy: 0.8915\n",
            "Epoch 34/250\n",
            "365/365 [==============================] - 1s 2ms/step - loss: 0.2813 - accuracy: 0.8959\n",
            "Epoch 35/250\n",
            "365/365 [==============================] - 1s 2ms/step - loss: 0.2834 - accuracy: 0.8921\n",
            "Epoch 36/250\n",
            "365/365 [==============================] - 1s 2ms/step - loss: 0.2889 - accuracy: 0.8957\n",
            "Epoch 37/250\n",
            "365/365 [==============================] - 1s 2ms/step - loss: 0.2839 - accuracy: 0.8904\n",
            "Epoch 38/250\n",
            "365/365 [==============================] - 1s 2ms/step - loss: 0.2909 - accuracy: 0.8902\n",
            "Epoch 39/250\n",
            "365/365 [==============================] - 1s 2ms/step - loss: 0.3046 - accuracy: 0.8836\n",
            "Epoch 40/250\n",
            "365/365 [==============================] - 1s 2ms/step - loss: 0.2951 - accuracy: 0.8904\n",
            "Epoch 41/250\n",
            "365/365 [==============================] - 1s 2ms/step - loss: 0.2886 - accuracy: 0.8888\n",
            "Epoch 42/250\n",
            "365/365 [==============================] - 1s 3ms/step - loss: 0.2787 - accuracy: 0.8957\n",
            "Epoch 43/250\n",
            "365/365 [==============================] - 1s 3ms/step - loss: 0.2919 - accuracy: 0.8852\n",
            "Epoch 44/250\n",
            "365/365 [==============================] - 1s 3ms/step - loss: 0.2789 - accuracy: 0.8891\n",
            "Epoch 45/250\n",
            "365/365 [==============================] - 1s 3ms/step - loss: 0.2805 - accuracy: 0.8893\n",
            "Epoch 46/250\n",
            "365/365 [==============================] - 1s 2ms/step - loss: 0.2791 - accuracy: 0.8902\n",
            "Epoch 47/250\n",
            "365/365 [==============================] - 1s 2ms/step - loss: 0.2745 - accuracy: 0.8954\n",
            "Epoch 48/250\n",
            "365/365 [==============================] - 1s 2ms/step - loss: 0.2803 - accuracy: 0.8937\n",
            "Epoch 49/250\n",
            "365/365 [==============================] - 1s 2ms/step - loss: 0.2741 - accuracy: 0.8995\n",
            "Epoch 50/250\n",
            "365/365 [==============================] - 1s 2ms/step - loss: 0.2701 - accuracy: 0.8946\n",
            "Epoch 51/250\n",
            "365/365 [==============================] - 1s 2ms/step - loss: 0.2797 - accuracy: 0.8924\n",
            "Epoch 52/250\n",
            "365/365 [==============================] - 1s 2ms/step - loss: 0.2767 - accuracy: 0.8970\n",
            "Epoch 53/250\n",
            "365/365 [==============================] - 1s 2ms/step - loss: 0.2733 - accuracy: 0.8973\n",
            "Epoch 54/250\n",
            "365/365 [==============================] - 1s 2ms/step - loss: 0.2691 - accuracy: 0.8951\n",
            "Epoch 55/250\n",
            "365/365 [==============================] - 1s 2ms/step - loss: 0.2791 - accuracy: 0.8932\n",
            "Epoch 56/250\n",
            "365/365 [==============================] - 1s 2ms/step - loss: 0.2677 - accuracy: 0.8957\n",
            "Epoch 57/250\n",
            "365/365 [==============================] - 1s 2ms/step - loss: 0.2738 - accuracy: 0.8893\n",
            "Epoch 58/250\n",
            "365/365 [==============================] - 1s 2ms/step - loss: 0.2809 - accuracy: 0.8877\n",
            "Epoch 59/250\n",
            "365/365 [==============================] - 1s 3ms/step - loss: 0.2651 - accuracy: 0.8951\n",
            "Epoch 60/250\n",
            "365/365 [==============================] - 1s 3ms/step - loss: 0.2781 - accuracy: 0.8959\n",
            "Epoch 61/250\n",
            "365/365 [==============================] - 1s 3ms/step - loss: 0.2708 - accuracy: 0.8940\n",
            "Epoch 62/250\n",
            "365/365 [==============================] - 1s 3ms/step - loss: 0.2709 - accuracy: 0.8910\n",
            "Epoch 63/250\n",
            "365/365 [==============================] - 1s 2ms/step - loss: 0.2719 - accuracy: 0.8910\n",
            "Epoch 64/250\n",
            "365/365 [==============================] - 1s 2ms/step - loss: 0.2651 - accuracy: 0.8990\n",
            "Epoch 65/250\n",
            "365/365 [==============================] - 1s 2ms/step - loss: 0.2797 - accuracy: 0.8913\n",
            "Epoch 66/250\n",
            "365/365 [==============================] - 1s 2ms/step - loss: 0.2658 - accuracy: 0.8984\n",
            "Epoch 67/250\n",
            "365/365 [==============================] - 1s 2ms/step - loss: 0.2608 - accuracy: 0.9009\n",
            "Epoch 68/250\n",
            "365/365 [==============================] - 1s 2ms/step - loss: 0.2747 - accuracy: 0.8970\n",
            "Epoch 69/250\n",
            "365/365 [==============================] - 1s 2ms/step - loss: 0.2611 - accuracy: 0.8984\n",
            "Epoch 70/250\n",
            "365/365 [==============================] - 1s 2ms/step - loss: 0.2654 - accuracy: 0.8929\n",
            "Epoch 71/250\n",
            "365/365 [==============================] - 1s 2ms/step - loss: 0.2654 - accuracy: 0.8965\n",
            "Epoch 72/250\n",
            "365/365 [==============================] - 1s 2ms/step - loss: 0.2704 - accuracy: 0.8921\n",
            "Epoch 73/250\n",
            "365/365 [==============================] - 1s 2ms/step - loss: 0.2652 - accuracy: 0.8959\n",
            "Epoch 74/250\n",
            "365/365 [==============================] - 1s 3ms/step - loss: 0.2635 - accuracy: 0.9009\n",
            "Epoch 75/250\n",
            "365/365 [==============================] - 2s 5ms/step - loss: 0.2632 - accuracy: 0.8995\n",
            "Epoch 76/250\n",
            "365/365 [==============================] - 1s 3ms/step - loss: 0.2588 - accuracy: 0.8981\n",
            "Epoch 77/250\n",
            "365/365 [==============================] - 1s 3ms/step - loss: 0.2629 - accuracy: 0.8959\n",
            "Epoch 78/250\n",
            "365/365 [==============================] - 1s 3ms/step - loss: 0.2580 - accuracy: 0.9006\n",
            "Epoch 79/250\n",
            "365/365 [==============================] - 1s 3ms/step - loss: 0.2576 - accuracy: 0.9031\n",
            "Epoch 80/250\n",
            "365/365 [==============================] - 1s 2ms/step - loss: 0.2595 - accuracy: 0.9009\n",
            "Epoch 81/250\n",
            "365/365 [==============================] - 1s 2ms/step - loss: 0.2611 - accuracy: 0.8992\n",
            "Epoch 82/250\n",
            "365/365 [==============================] - 1s 2ms/step - loss: 0.2686 - accuracy: 0.8965\n",
            "Epoch 83/250\n",
            "365/365 [==============================] - 1s 2ms/step - loss: 0.2601 - accuracy: 0.8979\n",
            "Epoch 84/250\n",
            "365/365 [==============================] - 1s 2ms/step - loss: 0.2538 - accuracy: 0.9044\n",
            "Epoch 85/250\n",
            "365/365 [==============================] - 1s 2ms/step - loss: 0.2578 - accuracy: 0.8981\n",
            "Epoch 86/250\n",
            "365/365 [==============================] - 1s 2ms/step - loss: 0.2552 - accuracy: 0.9017\n",
            "Epoch 87/250\n",
            "365/365 [==============================] - 1s 2ms/step - loss: 0.2652 - accuracy: 0.8951\n",
            "Epoch 88/250\n",
            "365/365 [==============================] - 1s 2ms/step - loss: 0.2570 - accuracy: 0.8973\n",
            "Epoch 89/250\n",
            "365/365 [==============================] - 1s 2ms/step - loss: 0.2538 - accuracy: 0.9036\n",
            "Epoch 90/250\n",
            "365/365 [==============================] - 1s 2ms/step - loss: 0.2586 - accuracy: 0.8959\n",
            "Epoch 91/250\n",
            "365/365 [==============================] - 1s 2ms/step - loss: 0.2500 - accuracy: 0.9066\n",
            "Epoch 92/250\n",
            "365/365 [==============================] - 1s 2ms/step - loss: 0.2805 - accuracy: 0.8899\n",
            "Epoch 93/250\n",
            "365/365 [==============================] - 1s 3ms/step - loss: 0.2643 - accuracy: 0.8976\n",
            "Epoch 94/250\n",
            "365/365 [==============================] - 1s 3ms/step - loss: 0.2691 - accuracy: 0.8935\n",
            "Epoch 95/250\n",
            "365/365 [==============================] - 1s 3ms/step - loss: 0.2609 - accuracy: 0.9009\n",
            "Epoch 96/250\n",
            "365/365 [==============================] - 1s 3ms/step - loss: 0.2559 - accuracy: 0.9017\n",
            "Epoch 97/250\n",
            "365/365 [==============================] - 1s 2ms/step - loss: 0.2555 - accuracy: 0.8998\n",
            "Epoch 98/250\n",
            "365/365 [==============================] - 1s 2ms/step - loss: 0.2530 - accuracy: 0.9031\n",
            "Epoch 99/250\n",
            "365/365 [==============================] - 1s 2ms/step - loss: 0.2590 - accuracy: 0.9006\n",
            "Epoch 100/250\n",
            "365/365 [==============================] - 1s 2ms/step - loss: 0.2545 - accuracy: 0.9039\n",
            "Epoch 101/250\n",
            "365/365 [==============================] - 1s 2ms/step - loss: 0.2551 - accuracy: 0.9047\n",
            "Epoch 102/250\n",
            "365/365 [==============================] - 1s 2ms/step - loss: 0.2535 - accuracy: 0.9012\n",
            "Epoch 103/250\n",
            "365/365 [==============================] - 1s 2ms/step - loss: 0.2631 - accuracy: 0.8954\n",
            "Epoch 104/250\n",
            "365/365 [==============================] - 1s 2ms/step - loss: 0.2571 - accuracy: 0.9028\n",
            "Epoch 105/250\n",
            "365/365 [==============================] - 1s 2ms/step - loss: 0.2515 - accuracy: 0.9006\n",
            "Epoch 106/250\n",
            "365/365 [==============================] - 1s 2ms/step - loss: 0.2478 - accuracy: 0.9020\n",
            "Epoch 107/250\n",
            "365/365 [==============================] - 1s 2ms/step - loss: 0.2511 - accuracy: 0.9069\n",
            "Epoch 108/250\n",
            "365/365 [==============================] - 1s 2ms/step - loss: 0.2700 - accuracy: 0.8959\n",
            "Epoch 109/250\n",
            "365/365 [==============================] - 1s 2ms/step - loss: 0.2587 - accuracy: 0.9012\n",
            "Epoch 110/250\n",
            "365/365 [==============================] - 1s 3ms/step - loss: 0.2582 - accuracy: 0.9055\n",
            "Epoch 111/250\n",
            "365/365 [==============================] - 1s 3ms/step - loss: 0.2493 - accuracy: 0.9009\n",
            "Epoch 112/250\n",
            "365/365 [==============================] - 1s 3ms/step - loss: 0.2534 - accuracy: 0.9012\n",
            "Epoch 113/250\n",
            "365/365 [==============================] - 1s 3ms/step - loss: 0.2519 - accuracy: 0.9044\n",
            "Epoch 114/250\n",
            "365/365 [==============================] - 1s 2ms/step - loss: 0.2552 - accuracy: 0.9014\n",
            "Epoch 115/250\n",
            "365/365 [==============================] - 1s 2ms/step - loss: 0.2458 - accuracy: 0.9050\n",
            "Epoch 116/250\n",
            "365/365 [==============================] - 1s 2ms/step - loss: 0.2481 - accuracy: 0.9025\n",
            "Epoch 117/250\n",
            "365/365 [==============================] - 1s 2ms/step - loss: 0.2500 - accuracy: 0.9033\n",
            "Epoch 118/250\n",
            "365/365 [==============================] - 1s 2ms/step - loss: 0.2518 - accuracy: 0.9053\n",
            "Epoch 119/250\n",
            "365/365 [==============================] - 1s 2ms/step - loss: 0.2525 - accuracy: 0.9050\n",
            "Epoch 120/250\n",
            "365/365 [==============================] - 1s 2ms/step - loss: 0.2483 - accuracy: 0.9028\n",
            "Epoch 121/250\n",
            "365/365 [==============================] - 1s 2ms/step - loss: 0.2503 - accuracy: 0.9033\n",
            "Epoch 122/250\n",
            "365/365 [==============================] - 1s 2ms/step - loss: 0.2467 - accuracy: 0.9053\n",
            "Epoch 123/250\n",
            "365/365 [==============================] - 1s 2ms/step - loss: 0.2485 - accuracy: 0.9039\n",
            "Epoch 124/250\n",
            "365/365 [==============================] - 1s 2ms/step - loss: 0.2519 - accuracy: 0.9031\n",
            "Epoch 125/250\n",
            "365/365 [==============================] - 1s 2ms/step - loss: 0.2507 - accuracy: 0.9031\n",
            "Epoch 126/250\n",
            "365/365 [==============================] - 1s 2ms/step - loss: 0.2479 - accuracy: 0.9080\n",
            "Epoch 127/250\n",
            "365/365 [==============================] - 1s 3ms/step - loss: 0.2496 - accuracy: 0.9042\n",
            "Epoch 128/250\n",
            "365/365 [==============================] - 1s 3ms/step - loss: 0.2465 - accuracy: 0.9039\n",
            "Epoch 129/250\n",
            "365/365 [==============================] - 1s 3ms/step - loss: 0.2510 - accuracy: 0.9028\n",
            "Epoch 130/250\n",
            "365/365 [==============================] - 1s 3ms/step - loss: 0.2477 - accuracy: 0.9080\n",
            "Epoch 131/250\n",
            "365/365 [==============================] - 1s 3ms/step - loss: 0.2505 - accuracy: 0.9075\n",
            "Epoch 132/250\n",
            "365/365 [==============================] - 1s 2ms/step - loss: 0.2503 - accuracy: 0.9031\n",
            "Epoch 133/250\n",
            "365/365 [==============================] - 1s 2ms/step - loss: 0.2468 - accuracy: 0.9023\n",
            "Epoch 134/250\n",
            "365/365 [==============================] - 1s 2ms/step - loss: 0.2443 - accuracy: 0.9083\n",
            "Epoch 135/250\n",
            "365/365 [==============================] - 1s 2ms/step - loss: 0.2489 - accuracy: 0.9072\n",
            "Epoch 136/250\n",
            "365/365 [==============================] - 1s 2ms/step - loss: 0.2499 - accuracy: 0.9047\n",
            "Epoch 137/250\n",
            "365/365 [==============================] - 1s 2ms/step - loss: 0.2540 - accuracy: 0.9020\n",
            "Epoch 138/250\n",
            "365/365 [==============================] - 1s 2ms/step - loss: 0.2593 - accuracy: 0.8998\n",
            "Epoch 139/250\n",
            "365/365 [==============================] - 1s 2ms/step - loss: 0.2563 - accuracy: 0.9020\n",
            "Epoch 140/250\n",
            "365/365 [==============================] - 1s 2ms/step - loss: 0.2463 - accuracy: 0.9086\n",
            "Epoch 141/250\n",
            "365/365 [==============================] - 1s 2ms/step - loss: 0.2443 - accuracy: 0.9094\n",
            "Epoch 142/250\n",
            "365/365 [==============================] - 1s 2ms/step - loss: 0.2444 - accuracy: 0.9061\n",
            "Epoch 143/250\n",
            "365/365 [==============================] - 1s 2ms/step - loss: 0.2480 - accuracy: 0.9061\n",
            "Epoch 144/250\n",
            "365/365 [==============================] - 1s 2ms/step - loss: 0.2430 - accuracy: 0.9097\n",
            "Epoch 145/250\n",
            "365/365 [==============================] - 1s 3ms/step - loss: 0.2494 - accuracy: 0.9072\n",
            "Epoch 146/250\n",
            "365/365 [==============================] - 1s 3ms/step - loss: 0.2490 - accuracy: 0.9031\n",
            "Epoch 147/250\n",
            "365/365 [==============================] - 1s 3ms/step - loss: 0.2493 - accuracy: 0.9012\n",
            "Epoch 148/250\n",
            "365/365 [==============================] - 1s 3ms/step - loss: 0.2513 - accuracy: 0.9020\n",
            "Epoch 149/250\n",
            "365/365 [==============================] - 1s 2ms/step - loss: 0.2435 - accuracy: 0.9069\n",
            "Epoch 150/250\n",
            "365/365 [==============================] - 1s 2ms/step - loss: 0.2479 - accuracy: 0.9031\n",
            "Epoch 151/250\n",
            "365/365 [==============================] - 1s 2ms/step - loss: 0.2521 - accuracy: 0.9025\n",
            "Epoch 152/250\n",
            "365/365 [==============================] - 1s 2ms/step - loss: 0.2438 - accuracy: 0.9077\n",
            "Epoch 153/250\n",
            "365/365 [==============================] - 1s 2ms/step - loss: 0.2483 - accuracy: 0.9064\n",
            "Epoch 154/250\n",
            "365/365 [==============================] - 1s 2ms/step - loss: 0.2507 - accuracy: 0.9020\n",
            "Epoch 155/250\n",
            "365/365 [==============================] - 1s 2ms/step - loss: 0.2486 - accuracy: 0.9053\n",
            "Epoch 156/250\n",
            "365/365 [==============================] - 1s 2ms/step - loss: 0.2462 - accuracy: 0.9055\n",
            "Epoch 157/250\n",
            "365/365 [==============================] - 1s 2ms/step - loss: 0.2448 - accuracy: 0.9097\n",
            "Epoch 158/250\n",
            "365/365 [==============================] - 1s 2ms/step - loss: 0.2449 - accuracy: 0.9083\n",
            "Epoch 159/250\n",
            "365/365 [==============================] - 1s 2ms/step - loss: 0.2467 - accuracy: 0.9039\n",
            "Epoch 160/250\n",
            "365/365 [==============================] - 1s 2ms/step - loss: 0.2480 - accuracy: 0.9061\n",
            "Epoch 161/250\n",
            "365/365 [==============================] - 1s 2ms/step - loss: 0.2497 - accuracy: 0.9039\n",
            "Epoch 162/250\n",
            "365/365 [==============================] - 1s 3ms/step - loss: 0.2484 - accuracy: 0.8998\n",
            "Epoch 163/250\n",
            "365/365 [==============================] - 1s 3ms/step - loss: 0.2405 - accuracy: 0.9097\n",
            "Epoch 164/250\n",
            "365/365 [==============================] - 1s 3ms/step - loss: 0.2487 - accuracy: 0.9091\n",
            "Epoch 165/250\n",
            "365/365 [==============================] - 1s 3ms/step - loss: 0.2501 - accuracy: 0.8995\n",
            "Epoch 166/250\n",
            "365/365 [==============================] - 1s 2ms/step - loss: 0.2507 - accuracy: 0.9025\n",
            "Epoch 167/250\n",
            "365/365 [==============================] - 1s 2ms/step - loss: 0.2459 - accuracy: 0.9066\n",
            "Epoch 168/250\n",
            "365/365 [==============================] - 1s 2ms/step - loss: 0.2482 - accuracy: 0.9077\n",
            "Epoch 169/250\n",
            "365/365 [==============================] - 1s 2ms/step - loss: 0.2385 - accuracy: 0.9108\n",
            "Epoch 170/250\n",
            "365/365 [==============================] - 1s 2ms/step - loss: 0.2392 - accuracy: 0.9091\n",
            "Epoch 171/250\n",
            "365/365 [==============================] - 1s 2ms/step - loss: 0.2438 - accuracy: 0.9086\n",
            "Epoch 172/250\n",
            "365/365 [==============================] - 1s 2ms/step - loss: 0.2418 - accuracy: 0.9124\n",
            "Epoch 173/250\n",
            "365/365 [==============================] - 1s 2ms/step - loss: 0.2431 - accuracy: 0.9075\n",
            "Epoch 174/250\n",
            "365/365 [==============================] - 1s 2ms/step - loss: 0.2439 - accuracy: 0.9077\n",
            "Epoch 175/250\n",
            "365/365 [==============================] - 1s 2ms/step - loss: 0.2443 - accuracy: 0.9080\n",
            "Epoch 176/250\n",
            "365/365 [==============================] - 1s 2ms/step - loss: 0.2422 - accuracy: 0.9047\n",
            "Epoch 177/250\n",
            "365/365 [==============================] - 1s 2ms/step - loss: 0.2432 - accuracy: 0.9036\n",
            "Epoch 178/250\n",
            "365/365 [==============================] - 1s 2ms/step - loss: 0.2465 - accuracy: 0.9069\n",
            "Epoch 179/250\n",
            "365/365 [==============================] - 1s 3ms/step - loss: 0.2446 - accuracy: 0.9075\n",
            "Epoch 180/250\n",
            "365/365 [==============================] - 1s 3ms/step - loss: 0.2453 - accuracy: 0.9083\n",
            "Epoch 181/250\n",
            "365/365 [==============================] - 1s 3ms/step - loss: 0.2440 - accuracy: 0.9094\n",
            "Epoch 182/250\n",
            "365/365 [==============================] - 1s 3ms/step - loss: 0.2439 - accuracy: 0.9086\n",
            "Epoch 183/250\n",
            "365/365 [==============================] - 1s 2ms/step - loss: 0.2424 - accuracy: 0.9080\n",
            "Epoch 184/250\n",
            "365/365 [==============================] - 1s 2ms/step - loss: 0.2413 - accuracy: 0.9097\n",
            "Epoch 185/250\n",
            "365/365 [==============================] - 1s 2ms/step - loss: 0.2456 - accuracy: 0.9061\n",
            "Epoch 186/250\n",
            "365/365 [==============================] - 1s 2ms/step - loss: 0.2393 - accuracy: 0.9050\n",
            "Epoch 187/250\n",
            "365/365 [==============================] - 1s 2ms/step - loss: 0.2450 - accuracy: 0.9064\n",
            "Epoch 188/250\n",
            "365/365 [==============================] - 1s 2ms/step - loss: 0.2418 - accuracy: 0.9080\n",
            "Epoch 189/250\n",
            "365/365 [==============================] - 1s 2ms/step - loss: 0.2456 - accuracy: 0.9036\n",
            "Epoch 190/250\n",
            "365/365 [==============================] - 1s 2ms/step - loss: 0.2382 - accuracy: 0.9072\n",
            "Epoch 191/250\n",
            "365/365 [==============================] - 1s 2ms/step - loss: 0.2415 - accuracy: 0.9072\n",
            "Epoch 192/250\n",
            "365/365 [==============================] - 1s 2ms/step - loss: 0.2389 - accuracy: 0.9058\n",
            "Epoch 193/250\n",
            "365/365 [==============================] - 1s 2ms/step - loss: 0.2439 - accuracy: 0.9108\n",
            "Epoch 194/250\n",
            "365/365 [==============================] - 1s 2ms/step - loss: 0.2387 - accuracy: 0.9069\n",
            "Epoch 195/250\n",
            "365/365 [==============================] - 1s 2ms/step - loss: 0.2444 - accuracy: 0.9130\n",
            "Epoch 196/250\n",
            "365/365 [==============================] - 1s 3ms/step - loss: 0.2366 - accuracy: 0.9091\n",
            "Epoch 197/250\n",
            "365/365 [==============================] - 1s 3ms/step - loss: 0.2388 - accuracy: 0.9058\n",
            "Epoch 198/250\n",
            "365/365 [==============================] - 1s 3ms/step - loss: 0.2398 - accuracy: 0.9091\n",
            "Epoch 199/250\n",
            "365/365 [==============================] - 1s 3ms/step - loss: 0.2399 - accuracy: 0.9061\n",
            "Epoch 200/250\n",
            "365/365 [==============================] - 1s 3ms/step - loss: 0.2448 - accuracy: 0.9091\n",
            "Epoch 201/250\n",
            "365/365 [==============================] - 1s 2ms/step - loss: 0.2492 - accuracy: 0.9023\n",
            "Epoch 202/250\n",
            "365/365 [==============================] - 1s 2ms/step - loss: 0.2359 - accuracy: 0.9116\n",
            "Epoch 203/250\n",
            "365/365 [==============================] - 1s 2ms/step - loss: 0.2404 - accuracy: 0.9080\n",
            "Epoch 204/250\n",
            "365/365 [==============================] - 1s 2ms/step - loss: 0.2373 - accuracy: 0.9124\n",
            "Epoch 205/250\n",
            "365/365 [==============================] - 1s 2ms/step - loss: 0.2390 - accuracy: 0.9088\n",
            "Epoch 206/250\n",
            "365/365 [==============================] - 1s 2ms/step - loss: 0.2453 - accuracy: 0.9047\n",
            "Epoch 207/250\n",
            "365/365 [==============================] - 1s 2ms/step - loss: 0.2458 - accuracy: 0.9009\n",
            "Epoch 208/250\n",
            "365/365 [==============================] - 1s 2ms/step - loss: 0.2375 - accuracy: 0.9124\n",
            "Epoch 209/250\n",
            "365/365 [==============================] - 1s 2ms/step - loss: 0.2398 - accuracy: 0.9053\n",
            "Epoch 210/250\n",
            "365/365 [==============================] - 1s 2ms/step - loss: 0.2376 - accuracy: 0.9108\n",
            "Epoch 211/250\n",
            "365/365 [==============================] - 1s 2ms/step - loss: 0.2359 - accuracy: 0.9088\n",
            "Epoch 212/250\n",
            "365/365 [==============================] - 1s 2ms/step - loss: 0.2363 - accuracy: 0.9108\n",
            "Epoch 213/250\n",
            "365/365 [==============================] - 1s 3ms/step - loss: 0.2405 - accuracy: 0.9088\n",
            "Epoch 214/250\n",
            "365/365 [==============================] - 1s 3ms/step - loss: 0.2373 - accuracy: 0.9097\n",
            "Epoch 215/250\n",
            "365/365 [==============================] - 1s 3ms/step - loss: 0.2417 - accuracy: 0.9077\n",
            "Epoch 216/250\n",
            "365/365 [==============================] - 1s 3ms/step - loss: 0.2419 - accuracy: 0.9064\n",
            "Epoch 217/250\n",
            "365/365 [==============================] - 1s 3ms/step - loss: 0.2458 - accuracy: 0.9061\n",
            "Epoch 218/250\n",
            "365/365 [==============================] - 1s 2ms/step - loss: 0.2355 - accuracy: 0.9116\n",
            "Epoch 219/250\n",
            "365/365 [==============================] - 1s 2ms/step - loss: 0.2346 - accuracy: 0.9113\n",
            "Epoch 220/250\n",
            "365/365 [==============================] - 1s 2ms/step - loss: 0.2395 - accuracy: 0.9105\n",
            "Epoch 221/250\n",
            "365/365 [==============================] - 1s 2ms/step - loss: 0.2366 - accuracy: 0.9130\n",
            "Epoch 222/250\n",
            "365/365 [==============================] - 1s 2ms/step - loss: 0.2352 - accuracy: 0.9102\n",
            "Epoch 223/250\n",
            "365/365 [==============================] - 1s 2ms/step - loss: 0.2427 - accuracy: 0.9080\n",
            "Epoch 224/250\n",
            "365/365 [==============================] - 1s 2ms/step - loss: 0.2374 - accuracy: 0.9091\n",
            "Epoch 225/250\n",
            "365/365 [==============================] - 1s 2ms/step - loss: 0.2382 - accuracy: 0.9116\n",
            "Epoch 226/250\n",
            "365/365 [==============================] - 1s 2ms/step - loss: 0.2374 - accuracy: 0.9064\n",
            "Epoch 227/250\n",
            "365/365 [==============================] - 1s 2ms/step - loss: 0.2406 - accuracy: 0.9069\n",
            "Epoch 228/250\n",
            "365/365 [==============================] - 1s 2ms/step - loss: 0.2383 - accuracy: 0.9091\n",
            "Epoch 229/250\n",
            "365/365 [==============================] - 1s 2ms/step - loss: 0.2375 - accuracy: 0.9080\n",
            "Epoch 230/250\n",
            "365/365 [==============================] - 1s 3ms/step - loss: 0.2350 - accuracy: 0.9091\n",
            "Epoch 231/250\n",
            "365/365 [==============================] - 1s 3ms/step - loss: 0.2355 - accuracy: 0.9091\n",
            "Epoch 232/250\n",
            "365/365 [==============================] - 1s 3ms/step - loss: 0.2360 - accuracy: 0.9105\n",
            "Epoch 233/250\n",
            "365/365 [==============================] - 1s 3ms/step - loss: 0.2371 - accuracy: 0.9110\n",
            "Epoch 234/250\n",
            "365/365 [==============================] - 1s 3ms/step - loss: 0.2401 - accuracy: 0.9077\n",
            "Epoch 235/250\n",
            "365/365 [==============================] - 1s 2ms/step - loss: 0.2361 - accuracy: 0.9094\n",
            "Epoch 236/250\n",
            "365/365 [==============================] - 1s 2ms/step - loss: 0.2396 - accuracy: 0.9086\n",
            "Epoch 237/250\n",
            "365/365 [==============================] - 1s 2ms/step - loss: 0.2391 - accuracy: 0.9091\n",
            "Epoch 238/250\n",
            "365/365 [==============================] - 1s 2ms/step - loss: 0.2417 - accuracy: 0.9080\n",
            "Epoch 239/250\n",
            "365/365 [==============================] - 1s 2ms/step - loss: 0.2360 - accuracy: 0.9088\n",
            "Epoch 240/250\n",
            "365/365 [==============================] - 1s 2ms/step - loss: 0.2348 - accuracy: 0.9094\n",
            "Epoch 241/250\n",
            "365/365 [==============================] - 1s 2ms/step - loss: 0.2405 - accuracy: 0.9058\n",
            "Epoch 242/250\n",
            "365/365 [==============================] - 1s 2ms/step - loss: 0.2358 - accuracy: 0.9108\n",
            "Epoch 243/250\n",
            "365/365 [==============================] - 1s 2ms/step - loss: 0.2382 - accuracy: 0.9094\n",
            "Epoch 244/250\n",
            "365/365 [==============================] - 1s 2ms/step - loss: 0.2333 - accuracy: 0.9130\n",
            "Epoch 245/250\n",
            "365/365 [==============================] - 1s 2ms/step - loss: 0.2392 - accuracy: 0.9072\n",
            "Epoch 246/250\n",
            "365/365 [==============================] - 1s 2ms/step - loss: 0.2368 - accuracy: 0.9097\n",
            "Epoch 247/250\n",
            "365/365 [==============================] - 1s 3ms/step - loss: 0.2425 - accuracy: 0.9119\n",
            "Epoch 248/250\n",
            "365/365 [==============================] - 1s 3ms/step - loss: 0.2346 - accuracy: 0.9075\n",
            "Epoch 249/250\n",
            "365/365 [==============================] - 1s 3ms/step - loss: 0.2357 - accuracy: 0.9083\n",
            "Epoch 250/250\n",
            "365/365 [==============================] - 1s 3ms/step - loss: 0.2366 - accuracy: 0.9110\n",
            "Tiempo de entrenamiento: 263.04 segundos\n"
          ]
        }
      ]
    },
    {
      "cell_type": "markdown",
      "source": [
        "Noten que el entrenamiento será en el CPU, no GPU. Pero se pueden entrenar los sistemas utilizando GPUs también.\n",
        "\n",
        "###Evaluando el Sistema\n",
        "\n",
        "Han entrenado la red neuronal en todo el conjunto de datos y puedes evaluar el rendimiento del modelo en el mismo conjunto de datos.\n",
        "\n",
        "Esto dará una idea de qué tan bien han modelado el conjunto de datos (por ejemplo, la precisión del entrenamiento), pero no dará una idea de qué tan bien podría funcionar el algoritmo en nuevos datos. Esto se hizo por simplicidad, pero idealmente deberían separar los datos en conjuntos de entrenamiento y prueba para entrenar y evaluar el modelo.\n",
        "\n",
        "Pueden evaluar tu modelo en el conjunto de datos de entrenamiento utilizando la función `evaluate()` y pasándole la misma entrada y salida que se usó para entrenar el modelo.\n",
        "\n",
        "Esto generará una predicción para cada par de entrada y salida y recopilará puntuaciones, incluyendo la pérdida promedio y cualquier métrica que hayan configurado, como la precisión.\n",
        "\n",
        "La función `evaluate()` devolverá una lista con dos valores. El primero será la pérdida del modelo en el conjunto de datos y el segundo será la precisión del modelo en el conjunto de datos. Solo estás interesado en informar la precisión, así que pueden ignorar el valor de pérdida."
      ],
      "metadata": {
        "id": "AG-DxJ91rx3i"
      }
    },
    {
      "cell_type": "code",
      "source": [
        "# evaluate the keras model\n",
        "_, accuracy = model.evaluate(X, y)\n",
        "print('Accuracy: %.2f' % (accuracy*100))"
      ],
      "metadata": {
        "id": "sOlFzAjZsjoE",
        "colab": {
          "base_uri": "https://localhost:8080/"
        },
        "outputId": "a35bf9eb-59bd-4b67-a2dc-ec8abf9f7442"
      },
      "execution_count": null,
      "outputs": [
        {
          "output_type": "stream",
          "name": "stdout",
          "text": [
            "114/114 [==============================] - 0s 2ms/step - loss: 0.2423 - accuracy: 0.9042\n",
            "Accuracy: 90.42\n"
          ]
        }
      ]
    },
    {
      "cell_type": "markdown",
      "source": [
        "Al ejecutar este ejemplo, deberían ver un mensaje para cada una de las 150 épocas, imprimiendo la pérdida y la precisión, seguido de la evaluación final del modelo entrenado en el conjunto de datos de entrenamiento.\n",
        "\n",
        "Idealmente, es mejor que la pérdida fuera a cero y la precisión fuera a 1.0 (por ejemplo, 100%). Esto no es posible para problemas de aprendizaje automático que no sean los más simples. En cambio, siempre habrá cierto error en el modelo. El objetivo es elegir una configuración de modelo y una configuración de entrenamiento que logren la menor pérdida y la mayor precisión posible para un conjunto de datos dado.\n",
        "\n",
        "Nota: Las barras de progreso de salida durante el entrenamiento, pueden desactivarlas fácilmente estableciendo verbose=0 en la llamada a las funciones fit() y evaluate().\n",
        "\n",
        "Las redes neuronales son algoritmos estocásticos, lo que significa que el mismo algoritmo en los mismos datos puede entrenar un modelo diferente con diferentes habilidades cada vez que se ejecuta el código. Esto es una característica, no un error.\n",
        "\n",
        "La variabilidad en el rendimiento del modelo significa que para obtener una aproximación razonable de qué tan bien está funcionando, es posible que deban ajustarlo muchas veces y calcular el promedio de los puntajes de precisión.\n",
        "\n",
        "###Predicciones\n",
        "\n",
        "Pueden adaptar el ejemplo anterior y usarlo para generar predicciones en el conjunto de datos de entrenamiento, fingiendo que es un conjunto de datos nuevo que no han visto antes.\n",
        "\n",
        "Hacer predicciones es tan fácil como llamar a la función `predict()` en el modelo. Estás utilizando una función de activación `sigmoide` en la capa de salida, por lo que las predicciones serán una probabilidad en el rango entre 0 y 1. Pueden convertirlas fácilmente en una predicción binaria precisa para esta tarea de clasificación redondeándolas."
      ],
      "metadata": {
        "id": "-HGt5pk4syuc"
      }
    },
    {
      "cell_type": "code",
      "source": [
        "# make probability predictions with the model\n",
        "predictions = model.predict(X)\n",
        "# round predictions\n",
        "rounded = [round(x[0]) for x in predictions]"
      ],
      "metadata": {
        "id": "hx9r_Q61t7X6",
        "colab": {
          "base_uri": "https://localhost:8080/"
        },
        "outputId": "b823d8c6-dc18-460b-dea2-7cc585dc8dca"
      },
      "execution_count": null,
      "outputs": [
        {
          "output_type": "stream",
          "name": "stdout",
          "text": [
            "114/114 [==============================] - 0s 2ms/step\n"
          ]
        }
      ]
    },
    {
      "cell_type": "markdown",
      "source": [
        "Alternativamente, pueden convertir la probabilidad en 0 o 1 para predecir clases precisas directamente; por ejemplo:"
      ],
      "metadata": {
        "id": "YuKqXjfit93s"
      }
    },
    {
      "cell_type": "code",
      "source": [
        "# make class predictions with the model\n",
        "predictions = (model.predict(X) > 0.5).astype(int)"
      ],
      "metadata": {
        "id": "9Dr63RZmuCli",
        "colab": {
          "base_uri": "https://localhost:8080/"
        },
        "outputId": "de88d13a-ac2c-4762-e52c-050d808b954d"
      },
      "execution_count": null,
      "outputs": [
        {
          "output_type": "stream",
          "name": "stdout",
          "text": [
            "114/114 [==============================] - 0s 2ms/step\n"
          ]
        }
      ]
    },
    {
      "cell_type": "code",
      "source": [
        "print(\"Predicción de \", model.predict([[ 5.9900000e+00,  1.3730000e+01,  5.8000000e-01,  1.3180000e+00,\n",
        "         0.0000000e+00,  1.6678352e+01]]).round().astype(int))"
      ],
      "metadata": {
        "colab": {
          "base_uri": "https://localhost:8080/"
        },
        "id": "EJyNn3qRV-WL",
        "outputId": "1cfa999d-7fff-443a-8799-a7f039bfd3ca"
      },
      "execution_count": null,
      "outputs": [
        {
          "output_type": "stream",
          "name": "stdout",
          "text": [
            "1/1 [==============================] - 0s 41ms/step\n",
            "Predicción de  [[0]]\n"
          ]
        }
      ]
    },
    {
      "cell_type": "code",
      "source": [
        "from sklearn.metrics import confusion_matrix\n",
        "import seaborn as sns\n",
        "import matplotlib.pyplot as plt\n",
        "%matplotlib inline\n",
        "\n",
        "cm = confusion_matrix(y, predictions)\n",
        "plt.figure(figsize=(10, 8))\n",
        "sns.heatmap(cm, annot=True, fmt=\"d\", cmap=\"Blues\", xticklabels=['Dwarf','Giant'], yticklabels=['Dwarf','Giant'])\n",
        "plt.xlabel(\"Predicted\")\n",
        "plt.ylabel(\"True\")\n",
        "plt.title(\"Confusion Matrix\")\n",
        "plt.show()"
      ],
      "metadata": {
        "colab": {
          "base_uri": "https://localhost:8080/",
          "height": 718
        },
        "id": "1fn9HSkha3S6",
        "outputId": "88757934-3eea-4258-9539-5d5906866673"
      },
      "execution_count": null,
      "outputs": [
        {
          "output_type": "display_data",
          "data": {
            "text/plain": [
              "<Figure size 1000x800 with 2 Axes>"
            ],
            "image/png": "[encoded data removed]"
          },
          "metadata": {}
        }
      ]
    },
    {
      "cell_type": "markdown",
      "source": [
        "Al ejecutar el ejemplo, no se muestra la barra de progreso como antes, si se ha establecido el argumento verbose en 0.\n",
        "\n",
        "Después de ajustar el modelo, se realizan predicciones para todos los ejemplos en el conjunto de datos, y se imprimen las filas de entrada y el valor de clase predicho para los primeros cinco ejemplos, comparándolos con el valor de clase esperado.\n",
        "\n",
        "Pueden ver que la mayoría de las filas se predicen correctamente. De hecho, pueden esperar que aproximadamente el ~76.9% (obviamente depende del modelo y dataset de ustedes) de las filas se predigan correctamente según el rendimiento estimado del modelo en la sección anterior."
      ],
      "metadata": {
        "id": "UtElyMWHuNov"
      }
    },
    {
      "cell_type": "markdown",
      "source": [
        "Fuentes bibliográficas:\n",
        "1. [Neural Network Crash Course](https://machinelearningmastery.com/neural-networks-crash-course/)\n",
        "2. [How to Choose an Activation Function for Deep Learning](https://machinelearningmastery.com/choose-an-activation-function-for-deep-learning/)\n",
        "3. [Your First Deep Learning Project in Python with Keras Step-by-Step](https://machinelearningmastery.com/tutorial-first-neural-network-python-keras/)"
      ],
      "metadata": {
        "id": "_i3fRoAFdY13"
      }
    }
  ]
}